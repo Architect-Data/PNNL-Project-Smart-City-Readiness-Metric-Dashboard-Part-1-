{
  "cells": [
    {
      "cell_type": "markdown",
      "id": "e8cb9ca9-bc9f-475f-b9ee-09c13f443211",
      "metadata": {
        "noteable": {
          "cell_type": "markdown"
        }
      },
      "source": [
        "## Automatic Urban Resilience Metrics Identification\n",
        "\n",
        "- **Appraoch** - \n",
        "Leverage the latest in Natural Language Processing (NLP) capabilities to automatically harvest, extract, categorize, and visualize Urban Resilience Metrics as defined by major worldwide cities.\n",
        "\n",
        "- **Harvest** – Gather unstructured websites and openly available city urban resilience reports and content, and in particular how the cities define urban resilience metrics and how they plan on capturing data to populate these urban resilience metrics\n",
        "- **Extract** – Leverage NLP capabilities to automatically extract definitions and categorizations of urban resilience metrics from these unstructured reports and websites.\n",
        "- **Categorize** – Organize the resultant extracted content into common themes across all of the cities"
      ]
    },
    {
      "cell_type": "markdown",
      "id": "e8c5cb6b",
      "metadata": {},
      "source": [
        "Rockefeller Foundation conducted resilience research on 100 different cities. Cumulated in the 100RC_DataCollection.csv is a list of the reports released, manually gathered information. Using the NLP, using various NLP techniques, we'll look into what we can call as a universal metric.\n"
      ]
    },
    {
      "cell_type": "code",
      "execution_count": 1,
      "id": "bbf28ab9-1d6e-490b-af31-674ad8487d79",
      "metadata": {
        "ExecuteTime": {
          "end_time": "2023-07-16T17:00:19.197659+00:00",
          "start_time": "2023-07-16T17:00:18.603063+00:00"
        },
        "datalink": {
          "0a8d4a1c-b54d-4d87-9bdc-912367e53a83": {
            "applied_filters": [],
            "dataframe_info": {
              "default_index_used": true,
              "orig_num_cols": 6,
              "orig_num_rows": 5,
              "orig_size_bytes": 280,
              "truncated_num_cols": 6,
              "truncated_num_rows": 5,
              "truncated_size_bytes": 280,
              "truncated_string_columns": []
            },
            "display_id": "0a8d4a1c-b54d-4d87-9bdc-912367e53a83",
            "dx_settings": {
              "ALLOW_NOTEABLE_ATTRS": true,
              "COLUMN_SAMPLING_METHOD": "outer",
              "DB_LOCATION": ":memory:",
              "DEV_MODE": false,
              "DISPLAY_MAX_COLUMNS": 100,
              "DISPLAY_MAX_ROWS": 50000,
              "DISPLAY_MODE": "simple",
              "ENABLE_ASSIGNMENT": true,
              "ENABLE_DATALINK": true,
              "FLATTEN_COLUMN_VALUES": true,
              "FLATTEN_INDEX_VALUES": false,
              "GENERATE_DEX_METADATA": false,
              "HTML_TABLE_SCHEMA": false,
              "LOG_LEVEL": 30,
              "MAX_RENDER_SIZE_BYTES": 104857600,
              "MAX_STRING_LENGTH": 250,
              "NUM_PAST_SAMPLES_TRACKED": 3,
              "RANDOM_STATE": 12648430,
              "RESET_INDEX_VALUES": false,
              "ROW_SAMPLING_METHOD": "random",
              "SAMPLING_FACTOR": 0.1,
              "SAMPLING_METHOD": "random",
              "STRINGIFY_COLUMN_VALUES": true,
              "STRINGIFY_INDEX_VALUES": false
            },
            "sample_history": [],
            "sampling_time": "2023-07-14T21:23:18.505784",
            "user_variable_name": null,
            "variable_name": "unk_dataframe_bd701d2c697e4c8199b6e185b69694e9"
          },
          "3c74f442-728c-42d8-bd34-e07c237fb238": {
            "applied_filters": [],
            "dataframe_info": {
              "default_index_used": true,
              "orig_num_cols": 6,
              "orig_num_rows": 5,
              "orig_size_bytes": 280,
              "truncated_num_cols": 6,
              "truncated_num_rows": 5,
              "truncated_size_bytes": 280,
              "truncated_string_columns": []
            },
            "display_id": "3c74f442-728c-42d8-bd34-e07c237fb238",
            "dx_settings": {
              "ALLOW_NOTEABLE_ATTRS": true,
              "COLUMN_SAMPLING_METHOD": "outer",
              "DB_LOCATION": ":memory:",
              "DEV_MODE": false,
              "DISPLAY_MAX_COLUMNS": 100,
              "DISPLAY_MAX_ROWS": 50000,
              "DISPLAY_MODE": "simple",
              "ENABLE_ASSIGNMENT": true,
              "ENABLE_DATALINK": true,
              "FLATTEN_COLUMN_VALUES": true,
              "FLATTEN_INDEX_VALUES": false,
              "GENERATE_DEX_METADATA": false,
              "HTML_TABLE_SCHEMA": false,
              "LOG_LEVEL": 30,
              "MAX_RENDER_SIZE_BYTES": 104857600,
              "MAX_STRING_LENGTH": 250,
              "NUM_PAST_SAMPLES_TRACKED": 3,
              "RANDOM_STATE": 12648430,
              "RESET_INDEX_VALUES": false,
              "ROW_SAMPLING_METHOD": "random",
              "SAMPLING_FACTOR": 0.1,
              "SAMPLING_METHOD": "random",
              "STRINGIFY_COLUMN_VALUES": true,
              "STRINGIFY_INDEX_VALUES": false
            },
            "sample_history": [],
            "sampling_time": "2023-07-14T21:32:45.878757",
            "user_variable_name": null,
            "variable_name": "unk_dataframe_ead94c8b538e460fb9f2fb7e549b1463"
          },
          "e90505f2-1c07-4ff5-83fe-5f8b8ee6f70b": {
            "applied_filters": [],
            "dataframe_info": {
              "default_index_used": true,
              "orig_num_cols": 6,
              "orig_num_rows": 5,
              "orig_size_bytes": 280,
              "truncated_num_cols": 6,
              "truncated_num_rows": 5,
              "truncated_size_bytes": 280,
              "truncated_string_columns": []
            },
            "display_id": "e90505f2-1c07-4ff5-83fe-5f8b8ee6f70b",
            "dx_settings": {
              "ALLOW_NOTEABLE_ATTRS": true,
              "COLUMN_SAMPLING_METHOD": "outer",
              "DB_LOCATION": ":memory:",
              "DEV_MODE": false,
              "DISPLAY_MAX_COLUMNS": 100,
              "DISPLAY_MAX_ROWS": 50000,
              "DISPLAY_MODE": "simple",
              "ENABLE_ASSIGNMENT": true,
              "ENABLE_DATALINK": true,
              "FLATTEN_COLUMN_VALUES": true,
              "FLATTEN_INDEX_VALUES": false,
              "GENERATE_DEX_METADATA": false,
              "HTML_TABLE_SCHEMA": false,
              "LOG_LEVEL": 30,
              "MAX_RENDER_SIZE_BYTES": 104857600,
              "MAX_STRING_LENGTH": 250,
              "NUM_PAST_SAMPLES_TRACKED": 3,
              "RANDOM_STATE": 12648430,
              "RESET_INDEX_VALUES": false,
              "ROW_SAMPLING_METHOD": "random",
              "SAMPLING_FACTOR": 0.1,
              "SAMPLING_METHOD": "random",
              "STRINGIFY_COLUMN_VALUES": true,
              "STRINGIFY_INDEX_VALUES": false
            },
            "sample_history": [],
            "sampling_time": "2023-07-16T17:00:19.035350",
            "user_variable_name": null,
            "variable_name": "unk_dataframe_fd201c101a624f50a74f8561a628de6d"
          }
        },
        "noteable": {
          "cell_type": "code"
        }
      },
      "outputs": [
        {
          "data": {
            "text/html": [
              "<div>\n",
              "<style scoped>\n",
              "    .dataframe tbody tr th:only-of-type {\n",
              "        vertical-align: middle;\n",
              "    }\n",
              "\n",
              "    .dataframe tbody tr th {\n",
              "        vertical-align: top;\n",
              "    }\n",
              "\n",
              "    .dataframe thead th {\n",
              "        text-align: right;\n",
              "    }\n",
              "</style>\n",
              "<table border=\"1\" class=\"dataframe\">\n",
              "  <thead>\n",
              "    <tr style=\"text-align: right;\">\n",
              "      <th></th>\n",
              "      <th>Region</th>\n",
              "      <th>Country</th>\n",
              "      <th>City</th>\n",
              "      <th>Source</th>\n",
              "      <th>Other links</th>\n",
              "      <th>No source</th>\n",
              "    </tr>\n",
              "  </thead>\n",
              "  <tbody>\n",
              "    <tr>\n",
              "      <th>0</th>\n",
              "      <td>Asia Pacific</td>\n",
              "      <td>India</td>\n",
              "      <td>Surat</td>\n",
              "      <td>https://resilientcitiesnetwork.org/downloadabl...</td>\n",
              "      <td>NaN</td>\n",
              "      <td>NaN</td>\n",
              "    </tr>\n",
              "    <tr>\n",
              "      <th>1</th>\n",
              "      <td>Asia Pacific</td>\n",
              "      <td>India</td>\n",
              "      <td>Pune</td>\n",
              "      <td>https://resilientcitiesnetwork.org/downloadabl...</td>\n",
              "      <td>NaN</td>\n",
              "      <td>NaN</td>\n",
              "    </tr>\n",
              "    <tr>\n",
              "      <th>2</th>\n",
              "      <td>Asia Pacific</td>\n",
              "      <td>India</td>\n",
              "      <td>Chennai</td>\n",
              "      <td>https://resilientcitiesnetwork.org/downloadabl...</td>\n",
              "      <td>https://resilientchennai.com/</td>\n",
              "      <td>NaN</td>\n",
              "    </tr>\n",
              "    <tr>\n",
              "      <th>3</th>\n",
              "      <td>Asia Pacific</td>\n",
              "      <td>China</td>\n",
              "      <td>Deyang</td>\n",
              "      <td>https://resilientcitiesnetwork.org/downloadabl...</td>\n",
              "      <td>NaN</td>\n",
              "      <td>NaN</td>\n",
              "    </tr>\n",
              "    <tr>\n",
              "      <th>4</th>\n",
              "      <td>Asia Pacific</td>\n",
              "      <td>China</td>\n",
              "      <td>Huangshi</td>\n",
              "      <td>https://resilientcitiesnetwork.org/downloadabl...</td>\n",
              "      <td>NaN</td>\n",
              "      <td>NaN</td>\n",
              "    </tr>\n",
              "  </tbody>\n",
              "</table>\n",
              "</div>"
            ],
            "text/plain": [
              "         Region Country      City  \\\n",
              "0  Asia Pacific   India     Surat   \n",
              "1  Asia Pacific   India      Pune   \n",
              "2  Asia Pacific   India   Chennai   \n",
              "3  Asia Pacific   China    Deyang   \n",
              "4  Asia Pacific   China  Huangshi   \n",
              "\n",
              "                                              Source  \\\n",
              "0  https://resilientcitiesnetwork.org/downloadabl...   \n",
              "1  https://resilientcitiesnetwork.org/downloadabl...   \n",
              "2  https://resilientcitiesnetwork.org/downloadabl...   \n",
              "3  https://resilientcitiesnetwork.org/downloadabl...   \n",
              "4  https://resilientcitiesnetwork.org/downloadabl...   \n",
              "\n",
              "                     Other links No source  \n",
              "0                            NaN       NaN  \n",
              "1                            NaN       NaN  \n",
              "2  https://resilientchennai.com/       NaN  \n",
              "3                            NaN       NaN  \n",
              "4                            NaN       NaN  "
            ]
          },
          "execution_count": 1,
          "metadata": {},
          "output_type": "execute_result"
        }
      ],
      "source": [
        "import pandas as pd\n",
        "\n",
        "# Load the Excel file\n",
        "df = pd.read_excel('100RC_DataCollection.xlsx')\n",
        "\n",
        "# Display the first few rows of the DataFrame\n",
        "df.head()"
      ]
    },
    {
      "cell_type": "code",
      "execution_count": 2,
      "id": "fc946260-67ed-43fc-bf46-a2d4ca2929ff",
      "metadata": {
        "ExecuteTime": {
          "end_time": "2023-07-16T17:00:24.592898+00:00",
          "start_time": "2023-07-16T17:00:19.208064+00:00"
        },
        "noteable": {
          "cell_type": "code"
        }
      },
      "outputs": [],
      "source": [
        "!pip install -q PyPDF2"
      ]
    },
    {
      "cell_type": "code",
      "execution_count": 3,
      "id": "5bf261db-9080-4a73-b99f-2d6df5ff79ea",
      "metadata": {
        "ExecuteTime": {
          "end_time": "2023-07-16T17:00:28.974762+00:00",
          "start_time": "2023-07-16T17:00:24.601748+00:00"
        },
        "noteable": {
          "cell_type": "code"
        }
      },
      "outputs": [],
      "source": [
        "!pip install -q requests"
      ]
    },
    {
      "cell_type": "code",
      "execution_count": 107,
      "id": "ce95758a",
      "metadata": {},
      "outputs": [],
      "source": [
        "import requests\n",
        "from PyPDF2 import PdfReader\n",
        "\n",
        "def download_and_extract_text(url, output_pdf_file):\n",
        "    # Download the file\n",
        "    response = requests.get(url)\n",
        "    with open(output_pdf_file, 'wb') as f:\n",
        "        f.write(response.content)\n",
        "\n",
        "    # Extract text from the downloaded PDF\n",
        "    with open(output_pdf_file, 'rb') as f:\n",
        "        reader = PdfReader(f)\n",
        "        text = ''\n",
        "        for page in reader.pages:\n",
        "            text += page.extract_text()\n",
        "\n",
        "    return text\n"
      ]
    },
    {
      "cell_type": "code",
      "execution_count": null,
      "id": "9a32466c",
      "metadata": {},
      "outputs": [],
      "source": [
        "url = 'https://resilientcitiesnetwork.org/downloadable_resources/Network/Surat-Resilience-Strategy-English.pdf'\n",
        "output_pdf_file = 'Surat-Resilience-Strategy-English.pdf'\n",
        "\n",
        "Surat_text = download_and_extract_text(url, output_pdf_file)\n",
        "print(Surat_text)\n"
      ]
    },
    {
      "cell_type": "code",
      "execution_count": 109,
      "id": "cd67da37-74f5-4adb-b984-dcc0301b1b54",
      "metadata": {
        "ExecuteTime": null,
        "noteable": {
          "cell_type": "code"
        }
      },
      "outputs": [],
      "source": [
        "# import requests\n",
        "\n",
        "# # The URL of the file to be downloaded\n",
        "# url = 'https://resilientcitiesnetwork.org/downloadable_resources/Network/Surat-Resilience-Strategy-English.pdf'\n",
        "\n",
        "# # Send a GET request to the URL\n",
        "# response = requests.get(url)\n",
        "\n",
        "# # Write the content of the response to a file\n",
        "# with open('Surat-Resilience-Strategy-English.pdf', 'wb') as file:\n",
        "#     file.write(response.content)"
      ]
    },
    {
      "cell_type": "code",
      "execution_count": 108,
      "id": "ebf3d0ed-6685-44fb-bbc3-affa355cfb25",
      "metadata": {
        "ExecuteTime": {
          "end_time": "2023-07-14T21:35:03.122653+00:00",
          "start_time": "2023-07-14T21:34:44.517401+00:00"
        },
        "jupyter": {
          "outputs_hidden": true
        },
        "noteable": {
          "cell_type": "code"
        }
      },
      "outputs": [],
      "source": [
        "# from PyPDF2 import PdfReader\n",
        "\n",
        "# # Open the PDF file\n",
        "# with open('Surat-Resilience-Strategy-English.pdf', 'rb') as file:\n",
        "#     # Create a PDF file reader object\n",
        "#     reader = PdfReader(file)\n",
        "\n",
        "#     # Initialize an empty string to hold the extracted text\n",
        "#     text = ''\n",
        "\n",
        "#     # Loop through all the pages in the PDF file and extract the text\n",
        "#     for page in reader.pages:\n",
        "#         text += page.extract_text()\n",
        "\n",
        "# # Now 'text' contains the extracted text from the PDF file\n",
        "# text\n",
        "\n",
        "# print(text)"
      ]
    },
    {
      "cell_type": "code",
      "execution_count": 6,
      "id": "320299fb-3d9c-4692-aa6b-df9238282e03",
      "metadata": {
        "ExecuteTime": {
          "end_time": "2023-07-14T21:37:47.909596+00:00",
          "start_time": "2023-07-14T21:37:33.017510+00:00"
        },
        "noteable": {
          "cell_type": "code"
        }
      },
      "outputs": [
        {
          "name": "stderr",
          "output_type": "stream",
          "text": [
            "ERROR: Invalid requirement: '#library'\n"
          ]
        }
      ],
      "source": [
        "!pip install -q nltk spacy textblob gensim matplotlib seaborn wordcloud geopandas #library package"
      ]
    },
    {
      "cell_type": "markdown",
      "id": "d5d7d56d",
      "metadata": {},
      "source": [
        "#### NLTK model - Preprocessing"
      ]
    },
    {
      "cell_type": "code",
      "execution_count": 110,
      "id": "29eb06a7-869e-4ec7-9523-4125597511be",
      "metadata": {
        "ExecuteTime": {
          "end_time": "2023-07-14T21:39:19.800658+00:00",
          "start_time": "2023-07-14T21:39:16.178483+00:00"
        },
        "jupyter": {
          "outputs_hidden": true
        },
        "noteable": {
          "cell_type": "code"
        }
      },
      "outputs": [
        {
          "name": "stderr",
          "output_type": "stream",
          "text": [
            "[nltk_data] Downloading package punkt to\n",
            "[nltk_data]     C:\\Users\\lifet\\AppData\\Roaming\\nltk_data...\n",
            "[nltk_data]   Package punkt is already up-to-date!\n",
            "[nltk_data] Downloading package stopwords to\n",
            "[nltk_data]     C:\\Users\\lifet\\AppData\\Roaming\\nltk_data...\n",
            "[nltk_data]   Package stopwords is already up-to-date!\n",
            "[nltk_data] Downloading package wordnet to\n",
            "[nltk_data]     C:\\Users\\lifet\\AppData\\Roaming\\nltk_data...\n",
            "[nltk_data]   Package wordnet is already up-to-date!\n",
            "[nltk_data] Downloading package omw-1.4 to\n",
            "[nltk_data]     C:\\Users\\lifet\\AppData\\Roaming\\nltk_data...\n",
            "[nltk_data]   Package omw-1.4 is already up-to-date!\n"
          ]
        },
        {
          "name": "stdout",
          "output_type": "stream",
          "text": [
            "['photograph credit tejas ghariwala suratsurat resilience strategysteered supported strategic partner taru leading edge pvt', 'ltd india special credit m aparna ia former municipal commissioner smcmr', 'manoj kumar da ia former municipal commissioner smc managed surat climate change trust scctmr thennarasan ia commissioner smc chairman scctmr', 'jatin shah advisor smc managing trustee scctmr', 'jivan patel dy', 'commissioner smc trustee scctmr', 'chaitanya bhatt dy', 'commissioner smc trustee scctmr', 'r mahakal superintendent engineer nwrws trustee scctmr', '', 'b patel director gsdma trustee scctmr', 'b agrawal president sgcci trustee scctmr', 'p shah vicepresident sgcci trustee scctdr', 'r gandhi director svnit trustee scctmr', 'kanti bhanderi councillor smc trustee scctms', 'vaishali shah councillor smc trustee scctdr', 'vikas desai trustee scctmr', 'kamlesh yagnik trustee scctdr', 'akash acharya nominee centre social study team composition jatin shah adviser smc managing trustee scct kamlesh yagnik chief resilience officer mehul patel dy', 'chief resilience officer dr umamaheshwaran rajasekar strategy lead taru g k bhat adviser lalit dashora project manager taru shivani talati city project officer taru piyush shah gi specialist tejas patel technical support specialist vidhya moorthy communication soumita chakraborty stakeholder engagement specialist taru neha modi project officer scct dhruma bhavsar graphic design sustainably april 2017acknowledgment surat resilience strategy document prepared guidance support 100 resilient city', 'would possible without valuable contribution city stakeholder', 'surat resilience strategy result incredible dedication hard work city project team 100rc surat taru leading edge valuable input surat municipal corporation surat urban development authority surat climate change trust surat city police sardar vallabhbhai national institute technology centre social study veer narmad south gujarat university sarvajanik education society southern gujarat chamber commerce industry gujarat gas surat citizen council trust traffic education trust community nonprofit organization elected official individual subject expert contributed time knowledge expertise shaping resilience strategy innovative initiative', 'city project team grateful mr vikram singh regional director asia pacific 100rc mr saurabh gaidhani program manager asia pacific 100rc guidance support strategy development process', 'would like thank steering committee member discovery group member guidance contribution resilience strategy', 'would like extend deepest appreciation stakeholder participated discussion contributed strategy development processvision resilient surat foster robust thriving community healthy economically viable environmentally sound', 'surat city river tapiphotograph credit piyush patel suratmission surat seek turn existing challenge opportunity', 'aim become resilience champion city applying innovative solution problem responsibly including thought action citizen', 'city invite ally act cooperate development tomorrow ’ resilient surat—a cohesive robust sustainable citypandit dindayal upadhyay cable stay bridge across river tapi joining athwa adajanphotograph credit piyush patel suratlist figure figure 11 figure 21figure 22 figure 31 figure 3205 11 12 15 16100rc network surat inspiration 100rc citiesresilience orientationcharacteristics surat resilient initiative surat resilience pillar orientation surat resilience pillar goal initiativesabbreviations 100rc 100 resilient city amrutatal mission rejuvenation urban transformation amsl mean sea level bnr biological nutrient removal bpmca bombay provincial municipal corporation act brts bus rapid transit system cbo communitybased organization cdmp city disaster management plan ceptcentre environmental planning technology cop conference party cpcb central pollution control board credaiconfederation real estate developer ’ association india crf city resilient framework cro chief resilience officer cs center social study cwc central water commission dgvcl dakshin gujarat vij company ltd dic district industry center dpr detailed project report drr disaster risk reduction eia environmental impact assessment fa fixed activated sludge fgd focus group discussion fostta federation surat textile trader association gczma gujarat coastal zone management authority gi geographic information system gmfb gujarat municipal finance board gpcb gujarat pollution control board gsdma gujarat state disaster management authority gtpudagujarat town planning urban development act hada hazira area development authority hna hazira notified authority ia indian administrative service imd india meteorological department jnnurmjawaharlal nehru national urban renewable missionkii key informant interview lpcd litre per caput per day mmf man made fiber mla member legislative assembly mohfw ministry health family welfare moud ministry urban development mp member parliament ndma national disaster management authority ngo nongovernmental organization nhm national health mission nwrws narmada water resource water supply pra preliminary resilience assessment rbd road building department ray rajiv avas yojana rto regional transport officer sbr sequencing batch reactor scct surat citizen council trust scct surat climate change trust scetsarvajanik college engineering technology sda surat diamond association sgccisouthern gujarat chamber commerce industry sgvcl south gujarat vij company limited sld shared learning dialogue smc surat municipal corporation smimersurat municipal institute medical education research suda surat urban development authority svnit sardar vallabhbhai national institute technology tram traffic regulation management ttp tertiary treatment plant uccr urban climate change resilience uddurban development urban housing department uhcrc urban health climate resilience center ulb urban local body utid urban transport infrastructure design vnsgu veer narmad south gujarat universityi mr asmitaben p shiroya mayor suratour community ’ resilience rest people ability live well good time bounce back stronger ever inevitable hard time', 'developed input insight people surat resilience strategy designed articulate solution make city resilient physical challenge flood aging infrastructure also social challenge cohesion urban health', 'surat ’ resilience strategy launch point several program foster connection partnership', 'program excited enable several communitybased organization serve host training conduit service tailored meet need people', 'program good example practice resilience look like—it address one challenge creates multiple benefit many people', 'proud many partnership made resilience strategy possible look forward forming many additional partnership enable implementation', '100 resilient city 100rc—pioneered rockefeller foundation—has provided invaluable support guidance access technical assistance', 'indian cities— chennai pune jaipur—are also participating 100rc continued collaboration region help amplify work beyond boundary respective city', 'grateful surat community contributing resilience strategy every day make surat active dynamic highly engaged community', 'invite community member review report eye towards join friend neighbor colleague making surat model city resilience', 'best wish mr asmita shiroya mayor suratii behalf entire 100 resilient city family want congratulate city surat mayor asmitaben shiroya chief resilience officer kamlesh yagnik release surat resilience strategy major milestone city 100rc ’ partnership', 'dynamic city rich history surat build past lay foundation resilient future', 'document set forth extraordinary vision urban resilience resident call city home', 'surat ’ resilience work build year close collaboration rockefeller foundation began asian city climate change resilience network', 'resilience strategy reflects amazing progress city made understanding resilience challenge embracing holistic thinking planning true silience requires', 'initiative action strengthen city whole strategy enables surat address past challenge also recognizing increasing unpredictability future', 'strategy address fissure formed city ’ rapid growth go much', 'alongside enforcement traffic rule driving license norm quality life assessment guideline open public space strategy also includes innovative progressive initiative health action plan emphasizes connection urbanization climate change public health support woman entre preneurs promotion civic engagement', 'multifaceted blueprint city ’ present future surat opportunity lead india throughout 100rc network world', 'central effort people surat', 'strategy pro vides creative public outreach spread awareness city ’ chal lenges role resident working strengthen city', 'also dedicates entire pillar social cohesion celebrates city ’ heri tage also embracing city ’ immigrant contribution adopted home', 'strategy new exciting chapter surat ’ resilience work relationship 100r', 'also beginning', 'mark start exciting work come month year ahead', 'collectively begin implementing action initiative contained following page positively impact life call surat home', '100 resilient city could pleased partner effort', 'best wishesmr', 'micheal berkowitz president 100 resilient citiesmr', 'michael berkowitz president 100 resilient citiesiii 100 resilient city rc challenge seek work 100 city across globe build resilience address social economic physical challenge faced city increasingly urbanized world', '100rc facilitates building global practice resilience among government ngo private sector citizen', 'surat resilience strategy provides platform people across sector institution interest group come together help address critical question protect improve way life citizen surat present future', 'behest smc various stakeholder worked together identify issue impact surat ’ resilience', 'confident surat become india ’ champion resilience extending integrating already groundbreaking work field climate change adaptation sustainable service provision integrated planning provide example city 100rc learn', 'best wish working endeavor', 'surat municipal corporation provides wholehearted support strategy', 'regard mr n thennarasan ia municipal commissioner surat municipal corporationmr', 'thennarasan ia municipal commissioner surat municipal corporation building resilience reduce dependency', 'surat resilience strategy creates safer tomorrow community', 'working together give u best defense face next shock stress', 'regardsmr', 'milind torawane ia secretaryurban development departmentgovernment gujaratmr', 'milind torawane ia secretary urban development department government gujarat ivinvolvement citizen leading transform surat smart resilient city amazing', 'surat strategy aim integrate smarter need resident surat city', 'smart resilient city transformation rejuvenation future design', 'smart resilient city process followed evolved final destination', 'vision smart resilient city place citizen center project continuous involvement actor', 'mr nagarajan ia chief executive officer surat smart city development ltd suratmr', 'nagarajan ia chief executive officer smart city development ltd surat resilience blood suratis popularly referred people surat', 'surat resilience strategy seek turn existing challenge opportunity', 'aim become champion city applying innovative solution problem responsibly including thought action citizen', 'city invite ally act cooperate development tomorrow ’ resilient surat—a cohesive robust sustainable city', 'positive towards movement thrive towards resilient adaptation climate change', 'mr jatin shah advisor surat municipal corporationmanaging trustee surat climate change trust surat face diverse range issue', 'tidal flooding flash flood sanitation waste management congestion among others issue city currently deal', 'surat city ’ government together city element worked overcome challenge improved physical nonphysical infrastructure', 'future hope city resilience strategy document surat along challenge become resilient city develop modern sustainable city', 'mr kamlesh yagnik chief resilience officer suratmr', 'jatin shah advisor surat municipal corporation mr kamlesh yagnik chief resilience officer suratthe daily problem traffic jam choked road surat affect connectivity mobility', 'especially issue peak hour even ambulance emergency vehicle could get stuck traffic', 'surat also suffers lack enforcement traffic management system', 'factor large number private vehicle inefficient public transport system inadequate parking facility unsatisfactory footpath pedestrian encroachment existing footpath road margin well informal smalltime business activity major corridors—all contribute congestion road city', 'curb encroachment necessary traffic police come effective mechanism would also ease traffic flow city', 'wri ucra engagement supporting surat understand potentially resolve issue relating informal settlement access public transit wide range industrial commercial activity take place surat', 'people rural area lessdeveloped state flock city seeking employment opportunity industrial allied service sector trade business activity hawking retailing carting activity', 'resulted slum low income settlement along riverside lowlying riskprone area', 'huge demand affordable housing city cater migrant population', 'according research report real estate consulting firm cushman wakefield surat top list 11 indian city witnessing surge housing demand toi 2016', 'pwc wri respectively support surat understanding finding solution related affordable housing', 'surat municipal corporation manages water need city', 'present main source water entire city river tapi', 'river ’ water quality deteriorating—anthropogenic activity development along riverside contribute largescale pollution river ’ water', 'situation water quality quantity big challenge surat', 'option finding alternate source water getting water kakrapar weir pipeline need worked outalso city need work various water model example ‘ four national tap ’ model singapore pub 2016', '1 potentially surat tie partner like veolia deltares work water related initiative', 'surat known polishing textile manufacturing diamond cutting industry heavily dependent latter two dominant economic sector', 'recession two sector significant impact city ’ economy undp 2009', 'economy also characterized large number small medium scale unorganized industry', 'industrial base laborintensive', 'level unemployment low wage also low worker generally deprived social security benefit', 'city statement resilience challenge invite different alternative industry information technology automobile tourism etc backup livelihood provider case economic crisis occur', 'environment ecosystem city surrounding areas—critical determinant health inhabitants— impact workrelated productivity urban quality life', 'situated bank river tapi proximity arabian sea surat sensitive ecosystem', 'industrial growth well high population growth density put pressure ecosystem', 'implementation environmental policy coastal regulation enforcement law industrial area important', 'green space need developed maintained', 'tapi depleting due rapid siltation development along side river', 'environmental cell active efficient monitoring air pollution water pollution water supply city dependent river', 'cdia support surat understanding finding solution related coastal preservation', 'social cohesion social network weak surat', 'community peace city connected', 'stronger effort society government made establish social connectivity stability', 'regulation policing crucial city manage population quite large much diversity existing among community', 'sustain stability sense unity cultural value must embraced people administration', 'pwc support surat understanding city ’ social cohesion issue', 'surat welldeveloped health infrastructure including government health center private health service need skilled specialized human resource', 'upscaling public health need achieved increasing awareness capacity building urban health challenge', 'surat infamous vector waterborne disease', 'seasonality vectorborne disease likely keep changing may expansion disease transmission period due increased temperature change humid season', 'urban ecosystem surat also prone increase lifestyle disease pollution caused disease', 'potentially save child support surat understanding finding solution related public health', '1 public utility board pub statutory board ministry environment water resource', 'singapore ’ national water agency', 'flood affected citizen surat photograph credit taru india viibrief profile surat city location surat located western part india state gujarat bank river tapi important historical trade center serf trade link india gulf country', 'even mughal period surat gateway deccan plateau important port trading center', 'today city one highest proposed investment almost zero percent unemployment', 'one fastest growing city india', 'surat important commercial city south gujarat approximately 250 kilometer km', 'north bombay', 'city located 21°10 ’ n – 72°49 ’ e altitude 13 meter mean sea level amsl', 'located mouth gulf khambhat surat experience tidal range 5 6 monthly high tide reach western part city', 'surat district surrounded bharuch narmada north navsari dang south district', 'gulf khambhat west city', 'surat port city nearest port hazira located mouth tapi', 'distant past old city flood protection system including flood wall gate present', 'surat tropical monsoon climate', 'summer temperature surat range 37 44 degree celsius winter temperature drop 22 degree celsius', 'monsoon begin june last till end september average temperature around 28 degree celsius month', 'average annual rainfall approximately 1200 millimeter mm', 'imd 2016', 'surat located ahmedabad mumbai good connectivity term road railway recently air', 'golden quadrilateral—a highway network connecting delhi mumbai kolkata chennai—passes surat', 'city connected nh8 16km', 'connector highway', 'nh6 nh228 pas surat connecting various major town city india', 'airport surat functional since 2008 connects surat delhi mumbai', 'like major business center early historical time developed along bank river surat developed along bank tapi flow arabian sea 16 km', 'city', 'river dictate topology city landscape slope gradually northeast southwest', 'surat seen unprecedented growth last four decade recording one highest growth rate country 10 fold population rise', 'rank eighth largest city country census 2011', 'coupled spillover population peripheral area also observed', 'time time jurisdictional limit surat municipal corporation smc extended include growth', 'surat face risk sea level rise flooding', 'ukai multipurpose dam built upstream 94 km', 'surat meant flood control management besides irrigation power generation', 'last two decade surat surrounding metropolitan region witnessed major flood', 'city prone high tide flooding extreme heat subsequent health risksviiicity growth 1961 surat comprised area 812 sq', 'km', '2009 expanded 3265 sq', 'km', 'oldest part city developed train station part known growth pattern suratathwalines', 'since 1990s new development including desirable location city ’ burgeoning middle upper class taken place area lying athwalines arabian sea', 'plague 1994 city authority undertook one massive cleanup operation recent time revamped entire administration city', '– city development plan surat 20062012 city earlier witnessed significant flood varying intensity year 1968 1994 1998 2002 2006', '– surat 2006 flood citizen report – centre social study surat1 2 gopi talav surat photograph credit scct india 3resilient city pioneered rockefeller foundation 100 resilient city 100rc help city around world become resilient physical social economic challenge growing part 21st century', '100rc view resilience shocks—earthquakes fire flood etc—but also stress weaken fabric city daytoday cyclical basis', 'example stress include high unemployment overtaxed inefficient public transportation system endemic violence chronic food water shortage', 'addressing shock stress together city better equipped respond adverse event overall better able deliver basic function good time bad population', 'resilience strategy resilience strategy help city prepare adapt quickly rebound shock stress', 'objective resilience strategy provide roadmap chief resilience officer cro build resilience city', 'resilience strategy serf tactical roadmap build resilience city', 'articulates city ’ priority building resilience specific initiative immediate implementation well city ’ longer continued path', 'resilience strategy trigger action investment support within city government outside group', 'rather static roadmap resilience strategy living document continuously finetuned priority addressed initiative get implemented', 'resilience capacity individual community business system within city survive adapt grow matter kind chronic stress acute shock experienceresilience chronic stress include lack affordable housing pervasivehigh unemployment povertyinequity homelessness aging infrastructure water air pollution drought water shortage rising sea level coastal erosion crime violence societal instability depressed macroeconomic condition etcchronic stress acute shock include hurricane flooding heat wave fire hazardous material accident tornado terrorism disease outbreak riotscivil unrest infrastructurebuilding failure etcacute shocks11 background4 12 100rc network collaboration rotterdam 100rc water exchange held october 2015 focused complex intersection climate change aging infrastructure flood management urban development social connectivity combined diverse perspective brought participating cro nine city', 'offered rich learning experience surat', 'urban infrastructure asian city face social political environmental financial risk due climate change induced shock stress', 'creates impetus city stakeholder ass city ’ vulnerability look investment opportunity designing building resilient urban infrastructure', 'training urban climate change adaptation resilience aimed improving climate change urban resilience knowledge among smc ’ senior level manager help design project', 'training singapore organized city development initiative asia may 2016 city climate change training series', 'july 2016 singapore regional summit designed achieve objective built experience earlier summit best practice', 'built strengthened relationship among cro resilience team member partner better leverage network practitioner', 'increased city resilience team ’ capacity work around problem definition city action', 'fostered regional cohort bringing fore regional priority help advance collective action', 'smart city innovative summit asia conference south korea organized september 2016', 'provided surat cro opportunity discus smart city plan many smart city leader asian country', '‘ leadership management ’ ‘ policy issue 4th revolution ict business ’ also deliberated along smart city initiation agenda budgeting funding challenge management cooperation', 'five day mexico city november 2015 surat chance collaborate city shaping sharing learning came better understanding resilience', 'surat learnt realworld resilience challenge solution visiting ‘ living laboratory ’', 'catalyzed enthusiasm commitment among cro', 'second international symposium resilient community koriyama japan coorganized april 2016 institute resilient community fukushima renewable energy institute', 'brought together scientist engineer public health expert educator policy maker others collaborate building resilient community', 'surat educated interdisciplinary research program address critical issue resilience learned engage various public activity foster interaction expert community', 'rotterdam water exchange eventphotograph credit cro surat second international symposium resilient community koriyama japanphotograph credit cro surat cdia training 2016photograph credit cro surat5 figure 11 100rc network surat inspiration 100rc city fellow member city ’ resilience initiative serve inspiration surat ’ resilience strategy', 'surat resilience strategy initiative indicate city linkage showing relevance networking similar issue resilience within 100rc network6 7 8 921 stakeholder engagement strategy development process started identifying engaging relevant stakeholder city champion aegis city administration', 'seven discovery group formed comprising decision maker planner municipal engineer academician researcher entrepreneursbusinessmen builder ’ association water resource manager public health practitioner energygas supplier', 'surat considered model city good governance well providing effective service delivery comparison many indian city', 'surat also advantage efficient city administration strong political consensus sufficient municipal finance', 'past city demonstrated capacity build resilience improving quality lifeline service disaster management water supply sewerage solid waste disposal health', 'mission city strengthen infrastructure withstand future shock stress build redundancy improve resilience', 'smc improved capacity deal shock stress taken proactive initiative urban development community health disaster management working closely industry citizen', 'input multistakeholder group led smc address various issue city level also influence policy state central level', 'therefore progress city keenly observed act example urban resilience indian city including 100rc citiesinnovative method tool used strategy development process', 'key highlight process \\x83consultations policy maker decision maker citymunicipal administration', '\\x83shared learning dialogue slds enforcement authority citydistrict police administration surat range police administration', '\\x83key informant interview kiis statelevel government department institution', '\\x83meetings elected member city state nationallevel political system', '\\x83focus group discussion fgds city steering committee member discovery group member', '\\x83consultations subject matter specialist', '\\x83conduct timebound research study understand different aspect current situation obtain information secondary literature primary survey', '\\x83engagement new generation plannersengineersresearchers via urban transport infrastructure design utid studio transport planning student', '\\x83participation community engagement event capture perception citizen', 'supporting image show array activity including academic activity community level activity academic engagement part 100rc surat expert ’ participatory exercise chartbased activity cross discovery analysis voting excercise android application', 'resilience workshop photograph credit taru india 10 group activity discovery area diagnosis photograph credit taru india strategy orientation qr code supporting reference document research enforcementawareness implementation innovative method used strategy development', 'academic collaborationsphotograph credit taru india uturn event surat photograph credit taru india discovery area group meeting photograph credit taru india 1122 resilience orientation initiative within resilience strategy oriented around one four category shown figure 22', 'transdisciplinary research resilience issue complex urban system generate knowledge relation seven pillar', 'research continuous process require constant engagement institution stakeholdersawareness play significant role achieving aim resilience strategy', 'amount awareness already created engaging stakeholder key shock stress', 'enforcement also play important role implementing rule regulation especially traffic pollution management taken care various agency', 'agency us advanced technology law enforcement surveillance camera monitor traffic various location across citysome long term initiative aligned towards physical infrastructure development need implementation support urban local body', 'resilience synergy synergy established national statelevel policy program project institution linked incorporate lessonsefforts made ensure resilience goal initiative identified aligned various national statelevel policy program projectsthe current resilience strategy includes plan inform influence national statelevel stakeholder sharing lesson learned city resilience intervention', 'need enhance networking sharing experience ensure resilienceinformed policy local state level', 'resilience demonstration resilience strategy adopts multiscalar approach address various resilience issue', 'intervention aim improve multistakeholder participation empower citizen take informed decision post strategy development', 'necessary test concept small pilot project research study ensure effectiveness replicating across city', 'concept built existing mechanism help providing timely information', 'resilience timeline resilience goal initiative introduced surat resilience strategy categorized based time required successful implementation', 'shortterm intervention initiative may span one two year 2016–2018 mediumterm intervention initiative may span one five year 2016–2020', 'longterm initiative may require longer time 2016–2025 resource financial human may require considerable political administrative execution', 'resilience incubation strategy development process various institution organization identified resilience incubator', 'institution custodian knowledge technology experience', 'datainformation collected various phase resiliencebuilding exercise stored institution ensure access time leading continued sustainability effort', 'institution organization brought onboard begining', 'bouquet initiative resilience multisectoral process', 'requires crosssector link develop robust strategy implementable action', 'surat ’ resilience strategy aimed generating multi crosssectoral information broaden scope planning designing initiative', 'development detailed project report dprs next logical step city government access financial resource apart state national government', 'facilitate process several study research informing dprs identified highlighted', 'research enforcementawareness implementation figure 21 resilience orientation12characteristics lens reflectiveinitiatives capable addressing future need handling sudden foresighted shock stress surat serving multiple sector driver', 'opportunity passed rigorous process selection prioritization well reflected goal address major shock stress cityrobust discovery area 10 different initiative identified address cityspecific need', 'care taken identified initiative implemented range stakeholder maximize reach replicability strategyredundant surat resilient strategy contains research awareness enforcement level opportunity modified according future needsflexible project related engineering infrastructure development already supported city', 'resilience initiative opportunity therefore aligned state nationallevel programsresourceful strategy reflects multistakeholder engagement initiative description initiative owner supporter', 'every initiative identified within strategy supporting brief indicates scale stakeholder involvement needed', 'includes range actor academia businessprivate sector government civil society inclusive resilient initiative well aligned different level administrative policy applicable surat', 'initiative also linked plan program projects—for instance smart city atal mission rejuvenation urban transformation amrut etc—supported national state government', 'integration alignment figure 22 characteristic surat resilient initiatives13 14 1531 resilience pillar goal initiative surat resilience strategy developed around seven strategic pillar 20 goal 63 initiativesactions', 'section includes initiative surat develop implement 2016 2025', 'pillar defined number goal associated initiative', 'figure 31 show resilience pillar orientation figure 32 show resilience pillar goal initiative surat ’ strategy', 'figure 31 surat resilience pillar orientation16 figure 32 surat resilience pillar goal initiatives1732 strategy linkage pillar initiative linkage surat resilience strategy identifies seven pillar discovery area 20 goal 63 initiatives—the lattermost create resilient impact pillar thus increasing resilient value', 'eleven initiative identified around connectivity mobility', 'initiative targeted towards shared mobility public transport nonmotorized transport nmt solution traffic hotspot traffic awareness education', 'expert group discussion initiative prioritized committee member subject expert', 'later initiative investigated pillar check interdependency resilience issue using various impact scenario', 'result indicate connectivity mobility centric initiative higher level interdependency initiative area environment ecosystem public health social cohesion', 'public transport form backbone efficient urban mobility system adequate public transportation contribute ongoing environment friendly safety initiative', 'currently city administration increasing number public bus also planning develop new alternate mode including brts metro rail system', 'seven initiative identified around affordable housing', 'focused housing demand supply assessment availability financial aid affordable housing identification affordable locality city neighborhood green infrastructure', 'result indicate initiative affordable housing higher level interdependency initiative area employment economic dependency social cohesion', 'case affordable housing surat key industrial node serve workplace hub similar income group live together cohesive social environment', 'thirteen initiative identified address water availability quality', 'focused towards innovative infrastructure better management water supply aiming zero water waste conservation rainwater groundwater resource', 'identified initiative water sector higher level interdependency initiative area ecosystem environment employment economic dependency pillar', 'textile industry also contributes much city ’ economy employment', 'solution key environmental issue therefore ensure city economy grow environmentally sustainable manner', 'five initiative identified employment economic dependency', 'targeted towards developing alternative employment opportunity new emerging sector information technology shipping technical skill development program addition financial aid encourage entrepreneurship', 'majority textile industry rely heavily local road regional transport network rail road procure raw material export processed product', 'fourteen initiative identified around environment ecosystem', 'initiative focused environmental regulation policy new infrastructure intervention natural resource conservation energy efficiency communitylevel awareness environmental conservation', 'initiative positive impact water availability quality economy public health affordable housing', 'discussion expert committee member highlighted fact initiative pillar higher level interdependency initiative water availability quality public health employment economic dependency', 'therefore indicator water health require continuous monitoring city due geoclimatic location due historical flood plague event', 'ten initiative identified around social cohesion', 'inclined towards encouraging public participation community level cooperation government developing communitylevel activity', 'program community space help create better livable environment encourage cultural conservation turn enhance local identity city', 'result indicate initiative environment ecosystem higher level interdependency pillar connectivity mobility environment ecosystem public health', 'three initiative identified public health', 'focused towards skill development increase availability general health care facility make affordable', 'initiative pillar also inclined towards urban climate–health challenge create healthy livable urban ecosystem surat', 'city need affordable general health care especially disasterlike situations18 uturn event surat photograph credit tejas ghariwala surat uturn event uturn initiative surat city police supported surat municipal corporation bring joy creativity life community level', 'uturn people gather exercise create street painting play game much', 'give platform urban community participate communicate spread awareness various social environmental cultural issues19 pillar 01 connectivity mobility service regulation emerging issue \\x83rapid growth private vehicle \\x83inadequate parking facility \\x83lack traffic segregation \\x83lack pedestrian facility \\x83inefficient poorly maintained public transport share challenge san francisco new york new orleans mexico city vejle da nang semarang faculty technology centre environmental planning technology cept university ahmedabad civil engineering department sardar vallabhbhai national institute technology svnit suratresilience incubator supporting reference document please click scan', 'traffic congestion surat photograph credit taru india world resource instituteplatform partner 20 background surat one fastest growing city india', 'last year changing lifestyle number vehicle grown tremendously city', 'per recent report number registered vehicle city 26 million includes category vehicle toi 2016', 'drastic shift evident people moving nonmotorized motorized transport twowheelers fourwheelers', 'comprising 70 percent total number twowheelers take maximum share car constitute 9 percent vehicle', '2015 city 218 million vehicle plying road 17 million twowheelers 026 million car', 'mean every two resident city one vehicle toi 2016', 'coupled high growth private vehicle inefficient public transport system inadequate parking facility lack pedestrian facility encroachment footpath road margin informal activity smalltime business activity along major corridor increased traffic congestion city', 'absence public transport decade led paratransits especially autorickshaws emerging major public transport provider well increase individual mode transport', 'paratransits apart illegal add problem unorganized operation overloading poor service pollution overcharging restricted service hour', 'even though increase number private vehicle city much improvement traffic behavior', 'lack traffic sense awareness lead issue traffic management', 'people surat bad reputation rash careless driver', 'increase number nonlicensed driver also observed city', 'build resilience city need implement efficient traffic management system move towards ensuring adequate public transport system', 'several research study necessary identify scale intervention required', 'include increasing public parking pedestrian facility improving junction rail crossing provisioning traffic signal lane separator segregate traffic', 'effective enforcement mechanism traffic police also necessary enforce smooth traffic flow cityresilience challenge public transport public transport one concern highlighted majority stakeholder', 'le public transport needed service frequency low cover limited area', 'majority population find difficult use due limited signage poor comfort level', 'illegal parking surat commercial area market situated center city', 'access place narrow lane authorized parking facility', 'even major road high attraction point lack parking facility', 'lead people parking vehicle bridge footpath side main road leading reduced space vehicular traffic increased traffic congestion', 'footpath encroachment \\uf0b7encroached pedestrian lane side road decrease free movement pedestrian compromise safety', 'lane footpath usually occupied illegally vendor vehicle parked along roadside', 'currently limited residential commercial area clearly demarcated pedestrian lane footpath', 'footpath newly developed area like gaurav path piplod university road vesu occupied mobile food joint attract citizen recreational activity', 'high number rickshaw private vehicle lack public transport led increased number private transport provider private vehicle', 'airport connectivity city one domestic airport', 'current frequency flight limited caters two destinations—delhi mumbai', 'limited connectivity adverse impact trade mobility', 'industrial logistics industrial unit located within city operate congested environment', 'lack proper road reduced carriage width due roadside parking contribute existing traffic problem', 'need develop detailed logistics plan industry', 'traffic congestion surat photograph credit taru india 21goal 11spatial assessment accessibility public transport improve mobility connectivity research objectiveto ass map public transport accessibility suratinitiative 111 city linkagesstatus \\x83gujarat state road policy – 2015 special emphasis given road safety research policy statement x \\x83development plan dp 2035 \\x83surat smart city program \\x83bus rapid transit system project \\x83surat metro rail projectalignment \\x83civil engineering department sardar vallabhbhai national institute technology \\x83faculty technology centre environmental planning technology university \\x83traffic department surat city police \\x83surat climate change trust \\x83100 resilient city programowners \\x83traffic cell surat municipal corporation \\x83brts cell surat municipal corporation supporter orientation research brief accessibility public transport key challenge within city', 'city need ass accessibility public transport facility highlight area need improvement', 'achieve detailed public transport accessibility level ptal—which take consideration average walking speed time distance public transport stop peakhour route frequency different mode public transport—is needed', 'geographic information system gi based mapping tool used generate visual representation strategic future transport planning', 'short term 20172018 timeline \\x83migration influx \\x83insufficient transport network \\x83less regulation enforcementshocks stress new da nang mexico city new york 531 strategy linkages22brief city conduct detailed road accident study aimed identifying existing hotspot accident', 'also highlight area road safety issue persistent issue', 'research study use image 600 surveillance camera installed city police use gi based spatial analysis tool ass vehicle movement traffic pattern road safety issue resulting accident', 'study highly useful suraksha setu safe city project surat', 'research help surat city police department identifying hotspot also address problem root linking ongoing awareness initiativesbrief city conduct detailed road safety audit critical junction onsite assessment shortcoming road traffic control system lead unsafe travel', 'based assessment suitable measure suggested facilitate safe smooth comfortable efficient movement traffic', 'safety audit include development survey tool used monitoring transportation system current performance future improvement', '\\x83gujarat state road policy – 2015 special emphasis given road safety research policy statement x \\x83surat smart city program \\x83suraksha setu safe city project surat traffic policealignment \\x83gujarat state road policy – 2015 special emphasis given road safety research policy statement x \\x83smart city surat program \\x83suraksha setu safe city project surat traffic police alignmentspatial statistical analysis road accident road safety audit objectiveto access map major road accident hotspot suratobjectiveto carry road audit find engineering design issue better traffic management safety citizen surat city \\x83civil engineering department sardar vallabhbhai national institute technology \\x83college architecture sarvajanik college engineering technology \\x83surat climate change trust \\x83surat traffic education trust \\x83civil engineering department sardar vallabhbhai national institute technology \\x83college architecture sarvajanik college engineering technology \\x83surat climate change trust \\x83surat traffic education trustinitiative 112 initiative 113 city linkage city linkagesstatus statusownersowners \\x83traffic cell surat municipal corporation \\x83traffic department surat city police \\x83traffic cell surat municipal corporation \\x83traffic department surat city police supporterssupporters short term 20172018 timeline short term 20172018 timeline ongoing ongoing mexico city new york new york strategy linkage strategy linkages23 \\x83gujarat state road policy – 2015 special emphasis given awareness policy statement ii \\x83suraksha setu safe city project surat traffic police \\x83traffic week program surat traffic policealignmenttraffic awareness objectiveto raise awareness road safety traffic rule regulation use publicshared transport', '\\x83surat traffic education trust \\x83sarvajanik college performing art medium term 20172020 timelineowners \\x83traffic cell surat municipal corporation \\x83traffic department surat city police \\x83regional transport officer supportersgoal 12 raise awareness road safety education training orientation awareness \\x83migration influx \\x83insufficient transport network \\x83less regulation enforcementshocks stress city linkagesstatus ongoing melbourne new york vejle bangkok strategy linkagesinitiative 121 brief detailed annual plan awareness generation prepared 2017', 'include activity street play uturn event public meeting various school college public space', 'awareness also generated print electronic medium', 'citizen trained applying new renewing existing license', 'mobilebased application developed surat city transport linked train timing regional bus timing officeschool timing besides offering realtime public transport information', 'mobile application benefit commuter city24medium term 20172020 timeline \\x83gujarat state road policy – 2015 special emphasis given awareness policy statement ii \\x83suraksha setu safe city project surat traffic police alignment \\x83gujarat state road policy – 2015 special emphasis given road safety research policy statement viii \\x83suraksha setu safe city project surat traffic policealignmenttraffic management education sustainable shared mobility objectiveto educate new generation vehicle driver including student school college user compulsory course traffic managementobjectiveto establish mechanism increase sustainable shared mobility', '\\x83regional transport office \\x83surat traffic education trust \\x83all school college within surat city limit \\x83surat traffic education trust \\x83surat climate change trust \\x83surat citizen council trust \\x83civil engineering department sarvajanik college engineering technology \\x83civil engineering department sardar vallabhbhai national institute technology owner owner \\x83traffic cell surat municipal corporation \\x83traffic department surat city police \\x83district education office \\x83traffic cell surat municipal corporation \\x83traffic department surat city police supporterssupporters medium term 20172020 timeline city linkagescity linkagesstatusstatus newnew bangkokmexico city new york san francisco semarang 131 531 strategy linkage strategy linkagesinitiative 122 initiative 123 brief compulsory voluntary course traffic management introduced', 'taking note rise road accident sizable number involve youngster introduction traffic management course within school curriculum support central state education board increase number volunteer support initiative', 'create cadre volunteer called ‘ needto ’ basis mock drill time crisisbrief smart simple secure sustainable shared mobility plan developed along mechanism implementation', 'introduced citizen pilot basis across selected institutional area', 'initiative linked existing upcoming project brts metro rail project', 'also integrated transit plan city comprising mechanism including vehicle sharing mechanism paratransit system intermediate public transport brts metro city bus state bus mode connecting region developed25 \\x83gujarat state road policy – 2015 special emphasis given enforcement policy statement viii \\x83existingongoing program rto suratcity police surat \\x83suraksha setu safe city project surat traffic policealignmentenforcement traffic rule regulation objectiveto promote strict enforcement traffic rule regulation using advanced technology penalizing violator support surat city police', '\\x83traffic cell surat municipal corporation \\x83surat traffic education trustowners \\x83traffic department surat city police \\x83regional transport office supportersgoal 13 promote law enforcement better traffic management orientation enforcement medium term 20172020 timeline \\x83migration influx \\x83insufficient transport network \\x83less regulation enforcementshocks stressesinitiative 131 city linkagesstatus ongoing 122 132 strategy linkagesbrief traffic rule enforced implemented support surat city police regional transport office', 'initiative linked existingongoing project suraksha setu cctv monitoring digital challan community policing initiative launched government gujarat strengthening policepublic partnership', 'addition city promote traffic helplines road user register grievance would addressed timebound manner', 'traffic violator especially nonlicensed driver also controlled26 \\x83sarthi vahan application ministry road transportation highway \\x83gujarat state road policy – 2015 special emphasis given enforcement policy statement viii \\x83existingongoing program rto suratcity police suratalignmentdriving license norm objectiveto promote implement strict norm issuing new renewing existing driving license', '\\x83ministry road transportation highway \\x83traffic department surat city police \\x83surat traffic education trust \\x83traffic cell surat municipal corporation owner \\x83regional transport office supporter mediumterm 20172020 timelineinitiative 132 city linkagesstatus ongoing 123 131 strategy linkagestraffic congestion surat photograph credit taru india brief strict norm issuing new renewing existing driving license established studying existing driving practice citizen using innovative technology support regional transport office rto', 'central government initiative taken ministry road transportation highway also supported', 'mobile application developed city assist rto surat inspiration city gujarat27 \\x83gujarat state road policy – 2015 special emphasis given safer road infrastructure policy statement iv \\x83surat smart city projectalignmentgoal 14nonmotorized transport strategy ensure safer road infrastructure objectiveto develop nonmotorized transport nmt strategy surat', '\\x83town planning department surat municipal corporation \\x83town development department surat municipal corporation \\x83surat smart city development limited \\x83surat urban development authority \\x83surat climate change trust owner \\x83traffic cell surat municipal corporation supporter orientation implementation \\x83migration influx \\x83insufficient transport network \\x83less regulation enforcementshocks stress medium term 20172020 timeline newinitiative 141 city linkagesstatus new mexico city new york 347 142 strategy linkagesbrief nmt strategy developed objective preserving nmt modal share improving nmt infrastructure zero tolerance pedestrian injury fatality', 'existing comprehensive mobility plan also revised', 'nmt strategy also cover better signage signal system especially pedestrians28 \\x83gujarat state road policy – 2015 special emphasis given safer road infrastructure policy statement iv \\x83surat smart city projectalignment \\x83accessible india campaign sugamya bharat abhiyan government india \\x83gujarat state road policy – 2015 special emphasis given safety vulnerable road user policy statement vii \\x83surat municipal corporation also developing policy disabled people conveniently access public transportalignmentbetter road better city urban mobility infrastructure physicallychallenged citizensobjectiveto develop enhance street furniture signage landscape visual attraction', 'objectiveto develop urban mobility infrastructure accessible physically challenged citizen \\x83surat smart city development limited \\x83surat climate change trust \\x83roads building department govt', 'gujarat \\x83gujarat state road transport corporation \\x83sardar vallabhbhai national institute technology svnit surat \\x83indian railway \\x83surat smart city development limited \\x83surat urban development authority \\x83surat climate change trust owner owner \\x83traffic cell surat municipal corporation \\x83traffic cell surat municipal corporation \\x83brts cell surat municipal corporationsupporters supporter medium term 20172020 timeline medium term 20172020 timelineinitiative 142 initiative 143 city linkagesstatus new mexico city new orleans 347 141 strategy linkagescity linkagesstatus new semarang 141 strategy linkagesbrief work carried surat based idea “ better road connect community better ” city identify pilot road section street furniture signage landscaping enhanced', 'initiative linked surat smart city project', 'city also develop handbook road landscaping option encourage citizen participation', 'city join hand state nationallevel institution develop guideline adapted city regionbrief city conduct accessibility audit various location major cross roadsjunctions bus stop railway station airport taxisautorickshaw stand', 'proposed campaign linked accessible india campaign sugamya bharat abhiyan funded department empowerment person disability ministry social justice empowerment government india', 'based finding audit sensitization issue conducted specially designed zonal awareness workshop', 'followup step pwds person disability friendly urban mobility infrastructure developed selected location within city29 pillar 02 affordable housing emerging issue \\x83unprecedented population growth \\x83rise migration \\x83increase number slum \\x83lack affordable housing urban poor \\x83unregulated speculative land real estate market \\x83less availability land within corporation area affordable housing share challenge oakland san francisco new york new orleans mexico city norfolk rio de janeiro rotterdam melbourne supporting reference document please click scan', 'housing economically weaker section surat photograph credit taru india resilience incubatorplatform partner architecture college veer narmad south gujarat university surat faculty architecture sarvajanik college engineering technology scet surat pricewaterhouse cooper 30 background city surat rapidly grown since 1960s term population well industry thus placing concomitant pressure resource', 'city also expanded time major expansion happened 2006 currently cover area around 326 sq', 'km', 'population city 2011 4466826 census india', 'actual population may exceed figure especially rapid development surat metropolitan region', 'decadal growth city ’ population maximum 1931 1941', 'two decade following period city showed decrease decadal growth', '1961 positive trend continued till 1991 declining 1991 2001', 'surat seen unprecedented growth last four decade recording one highest growth rate country 10fold population rise', 'city rank eighth largest city country', 'coupled spillover population periphery also observed', 'similar urban city india surat share slum', 'slum mostly migrant population unable afford formal housing', 'per 2001 census 307 slum population 049 million existed surat', 'number slum since gone 773 census india 2011 expansion city ’ limit 2006', 'many slum located along tidal creek river embankment drainage line', 'slum face higher risk flooding pluvial fluvial tidal', 'recognized effort relocate slum initiated government various schemes—mainly last decade various national project including jawarharlal nehru national urban renewal mission jnnurm gujarat rural urban housing gruh—more 30000 permanent house provided safer location slum dweller', '2001 according census figure 20 percent surat ’ population lived slum', 'census 2011 showed reduction 10 percent due continuous improvement effort government scheme', 'slum dweller citizen falling economically weaker section ew society eligible avail readybuilt house plot land away existing slum hygienic environment', 'increase city limit development new zone boom observed real estate market', 'increased land value area making unaffordable class', 'caused gap demand supply leaving 90 percent house newly developed area unoccupiedbuilt house approach smc implemented several housing project government ’ housing scheme urban poor', 'also slum dweller living intersection road inappropriate location shifted house built housing scheme', 'built house approach rehabilitation slum dweller urban poor carried following five category \\x83ews housing \\x83vambay hosuing \\x83lig housing \\x83mukhya mantri gruh yojana \\x83pradhan mantri avas yojna resilience challenge le rental housing rental housing logical solution meeting affordable housing need city large migrant population', 'rental housing promoted temporary solution housing since vacant housing affordable', 'lack involvement private sector affordable housing formal policy involve private sector affordable housing', 'ulb smc freedom adopt model city benefit strong private sector especially affordable housing', 'affordable criterion ew lig mig hig low middle highincome group affordable housing delivered taking consideration criterion costeffective material optimum use carpet area affordable land availability housing scheme', 'affordable housing achieved providing certain subsidy tax deduction material land', 'disparity demand current suda plan part discovery area diagnosis suda ’ plan need reviewed see provides affordable housing sector', 'surat growth population area city also grown simultaneously', 'study show projection demand keeping view criterion population growth city expansion affordability economic growth well', 'spatial distribution spatial distribution ligmighig need ensured based affordability amenitiesutilities', 'example vesu area certain lifestyle cost living suitable hig housing', 'planning lig mig area serve idea affordability resulting vacant housing unserved need housing facility', 'housing requires right distribution based affordability locality consumer term daytoday utilities31goal 21 spatial assessment demand supply affordable housing \\x83housing scheme govt', 'india \\x83development plan 2035 \\x83mukhya mantri gruh yojana \\x83pradhan mantri avas yojana \\x83affordable housing policy gujarat \\x83gujarat town planning urban development act 1976 alignmenthousing demand assessment objectiveto ass map spatial demand affordable housing—for ew lig mig hig—and compare housing scheme proposed development plan–2035', '\\x83shri gijubhai chhaganbhai patel institute architecture interior design fine art veer narmad south gujarat university \\x83college architecture sarvajanik college engineering technology \\x83the southern gujarat chamber commerce industryowners \\x83slum upgradation cell surat municipal corporation \\x83town development department surat municipal corporation \\x83town planning department surat municipal corporation \\x83surat urban development authority supporter orientation research \\x83migration influx \\x83lack affordable housing \\x83lack social security shock stress short term 20172018 timelineinitiative 211 city linkagesstatus ongoing new york new orleans 212 strategy linkagesbrief city conduct gisbased survey across different socioeconomic class sec map spatial distribution demand affordable dwelling unit', 'city also develop innovative tool survey', 'working initiative city identify option integration within existing development plan–203532 \\x83pradhan mantri avas yojana housing urban govt', 'india \\x83mukhya mantri gruh yojana govt', 'gujarat \\x83development plan – 2035 \\x83affordable housing policy gujarat \\x83gujarat town planning urban development act 1976alignmentaffordable locality audit objectiveto identify affordable locality surat amenity public utilitiesservices public transport affordable health care affordable education food etc available low cost', '\\x83surat urban development authority \\x83shri gijubhai chhaganbhai patel institute architectureinterior design fine art veer narmad south gujarat university \\x83surat climate change trustowners \\x83slum upgradation cell surat municipal corporation \\x83town development department surat municipal corporation \\x83town planning department surat municipal corporation supporter short term 20172018 timeline initiative 212 city linkagesstatus new oakland san francisco 111 strategy linkageshousing economically weaker section surat photograph credit taru indiabrief overall living cost location important lower income group middleincome group household', 'along affordable housing unit important knowunderstand parameter affordability affordable transport fuelgas health care education livelihood option', 'city conduct affordable locality audit initiative', 'suitability criterion based accessibility infrastructure amenity within location lig mig closer public transport network fair price shop lowcost lifestyle amenities33orientation awareness short term 20172018 timelinegoal 22 awareness improve outlook maintenance affordable housing \\x83development plan 2035 \\x83mukhya mantri gruh yojana \\x83pradhan mantri awas yojana \\x83affordable housing policy gujarat \\x83gujarat town planning urban development act1976alignmentright housing objectiveto build resilience raising awareness amongst citizen cultural activity', '\\x83confederation real estate developer ’ association india \\x83the southern gujarat chamber commerce industry \\x83surat diamond association \\x83south gujarat textile processor association \\x83centre social study \\x83sarvajanik college performing art owner \\x83slum upgradation cell surat municipal corporation \\x83town development department surat municipal corporation supporter \\x83migration \\x83lack affordable housing \\x83lack social security \\x83less regulation \\x83civil unrest shock stressesinitiative 221 city linkagesstatus new new york norfolk melbourne 222 strategy linkagesbrief city seen unprecedented growth last four decade', 'surat rank eighth largest city india', 'support confederation real estate developer ’ association india business builder association city administration start largescale awarenessraising program sec especially lig mig issue right housing', 'city also take support center social science sarvajanik college performing art streamlining awareness activities34medium term 20172020 timeline medium term 20172020 timeline \\x83insurance regulatory development authorityirda act 2000 \\x83gujarat affordable housing policy ppp 2014 \\x83foreign direct invest fdi 2015 \\x83real estate regulatory act rera may2017alignment \\x83housing urban development corporation scheme rent \\x83slum upgradation mukya mantri gruh yojana online registration \\x83gujarat rent control actalignmentaffordable housing finance scheme development online rental housing system objectiveto promote innovative housing insurance scheme soft loan subsidy low middle income group citizen cityobjectiveto support assist migrant influx city developing rentready program connecting landlord renter', '\\x83housing urban development corporation hudco \\x83national housing bank \\x83confederation real estate developer ’ association india credai surat chapter \\x83surat diamond association \\x83textile association surat \\x83confederation real estate developer ’ association india credai surat chapterownersowners \\x83slum upgradation cell surat municipal corporation \\x83town development department surat municipal corporation \\x83gujarat housing board \\x83slum upgradation cell surat municipal corporation \\x83town development department surat municipal corporation \\x83gujarat housing board supporterssupportersinitiative 222 initiative 223 city linkagesstatus new new york norfolk melbourne oakland 221 strategy linkagescity linkagesstatus new norfolk oakland 221 strategy linkagesbrief initiative create awareness among lig mig resident housing insurance security option', 'help raise awareness amongst housing insurance security option welfare', 'city also promote raise awareness government subsidy soft loan promote house ownership amongst ew lig mig group', 'soft loan provided without much collateral option subsidized interest rate', 'also partner national housing scheme offered government indiabrief unseco report inform surat one highest migrant population india', 'diamond textile worker migrate surat better livelihood opportunity', 'rental housing scheme affordable cost useful worker', 'online system designed provide necessary support migrant developing rentready program connecting landlord renter', 'portal registration also developed short longterm rental request forms35long term 20172025 timelinegoal 23 engineering technology intervention providing affordable housing \\x83housing scheme govt', 'india \\x83gujarat town planning urban development act 1976 \\x83affordable housing policy mukhya mantri gruh gujarat rural urban housing yojana \\x83smart city proposal affordable housing inclusiveness developing affordable housing ew lig pmay pppalignmentaffordable building technique objectiveto use innovative building technique design engineering intervention construct affordable house city', '\\x83surat urban development authority \\x83slum upgradation cell surat municipal corporation \\x83town development department surat municipal corporation \\x83confederation real estate developer ’ association india credai surat chapterowners \\x83slum upgradation cell surat municipal corporation \\x83town development department surat municipal corporation \\x83gujarat housing board supporter \\x83lack affordable housing \\x83lack social security \\x83less regulation \\x83economic crisis \\x83migration influx shock stressesorientation implementation initiative 231 city linkagesstatus new norfolk 512 522 strategy linkagesbrief city promote innovative building technique design engineering intervention cut average cost per unit area ligmighig without compromising usable area quality service indicated within government scheme', 'city secure land construct sample house using technique within ongoing scheme', 'innovative landscaping building design lead increased carpet area better livable environment36long term 20172025 timeline \\x83housing scheme govt', 'india \\x83gujarat town planning act \\x83redevelopment policy gujarat \\x83indian green building council guideline 2001 \\x83cool roof passive ventilationcrpv acccrn alignmentincreasing thermal comfort building objectiveto adapt green blue white black building technique leading low energy consumption cost', '\\x83surat urban development authority \\x83slum upgradation cell surat municipal corporation \\x83town development department surat municipal corporation \\x83confederation real estate developer ’ association indiaowners \\x83slum upgradation cell surat municipal corporation \\x83town development department surat municipal corporation \\x83gujarat housing board supporter initiative 232 city linkagesstatus ongoing san francisco mexico city 512 522 strategy linkageseconomically weaker section housing surat photograph credit taru indiabrief innovative building design green blue white black building technique used promoted', 'technique like cool roof passive ventilation affordable housing help provide thermal comfort low income resident especially summers—an inventory government building carried city demonstrate efficiency technique', 'pilot give quantitative output thermal comfort technique useful replication community level37 pillar 03 water availability quality emerging issue \\x83high dependency ukai dam tapi river \\x83no alternative source water \\x83river tapi catchment management \\x83coastal environment salinity issue \\x83climate variability climate change share challenge oakland berkley san francisco new york new orleans mexico city rio de janeiro glasgow vejle rotterdam byblos da nang semarang melbourne medellin greater christchurch supporting reference document please click scan', 'tapi river surat photograph credit taru india resilience incubatordeltares veoliaplatform partner civil engineering department sardar vallabhbhai national institute technology svnit surat 38 background water need city resident currently managed smc', 'tapi perennial river major source water supply', 'network piped water supply started 1898', 'city investing water supply system century account wellmanaged water supply system', '2015 average water supply 980 million liter per day mld included demand domestic industrial commercial institutional consumer', 'recent past observed river water quality deteriorating', 'cause contributing pollution river water sometimes beyond control smc outside city boundary', 'hence option finding alternate source water—such getting water kakrapar weir pipeline—are worked', 'eventuality quality quantity issue big challenge surat', 'currently water supply intermittent average duration three hour per day', '95 percent complaint related water supply solved smc', 'meet rising population demand water next two decade smc envisaged various water supply infrastructure project', 'water supply scheme supported national state government 2010 2015', 'period various water supply project sanctioned jnnurm scheme newlymerged eastern area city', 'january 2013 90mld capacity fullyautomatic water treatment plant supervisory control data acquisition scada commissioned kosad water work', '2014–15 pilot project 24x7 water supply scheme new north area new southeast area commissioned total project cost r', '3454 crore', 'fasttracking implementation project smc achieved 30 percent increase water supply 750 mld 2010 980 mld 2015', 'smc poised achieve goal 100 percent coverage extended area population 2016', 'currently river tapi main source water supply surat', 'drought late onset monsoon already creating stress surat ’ water supply system peak summer', 'meeting demand population pegged 8 million 2020 least 1200 1500 mld water required', 'apart domestic use additional water needed industry hazira', 'tremendous increase population within city limit likely obvious increase water demand', 'city capacity store approximately three month case drought natural calamity highlight need reuse water city', 'lack water conservation practice may lead crisis near future absence present water source tapi', 'taking effect climate change account good water conservation method need planned', 'city reusing negligible amount water 8 percent', 'salt water intrusion another big problem city due proximity arabian sea', 'situation may increase competition limited resource currently allocated irrigation power generation', 'water scarcity become issue unless major change allocating ukai dam water take place', 'resilience challenge water quality close arabian sea 40 percent city lying low elevation coastal zone tidal action subsequent salt water intrusion one key challenge city face', 'water conservation existing water quality good surat due water availability ukai dam citizen follow proper water conservation management approach', 'river groundwater pollution need monitored city', 'need regulation incorporation rainwater harvesting part building bylaw also raising awareness among citizen conservation limiting wastage water', 'tertiary treatment plan surat treatment method vary different type wastewater', 'example different set microbe required treating different waste', 'however surat done currently', 'city reusing 8 percent waste water industrial purpose', 'demand assessment conflicting demand various sector resideconflicting demand various sector residential industrial irrigation natural ecological cycle require assessment', 'domestic water demand something unquestionably increase future population increase', 'town planning engineering technique important sector since also play crucial role groundwater availability recharge long term', 'keeping soil moisture water table mind design aspect adapted way water table get recharged', 'increasing pollution river tapi depletion primarily untreated sewage upstream settlement along industrial effluent led high water pollution', 'industrial pollution major impact tapi river impact various creek leading mindhola river', 'surat also called mini india celebrates many different festival also cause river pollution increase biological oxygen demand bod level river', 'issue water siltation untreated effluent likely impact quality river water', 'addition groundwater pollution recorded many area city', 'thus need environmental management river result shared public initiate collective action', 'city encounter many waterborne disease need checked39orientation research medium term 20172020 timelinegoal 31 qualitative quantitative research monitoring city water resource \\x83existing proposed effort aquifer mapping smc nwrwsalignmentgroundwater status objectiveto conduct researchaquifer mapping situation analysis groundwater level quality various location city \\x83narmada water resource water supply department \\x83central ground water board \\x83centarl water commission \\x83tifaccore environmental engineering surat \\x83civil engineering department sardar vallabhbhai national institute technologyowners \\x83hydraulic department surat municipal corporation supporter \\x83salt water intrusion \\x83droughts \\x83water pollution shortage \\x83disease outbreakshocks stressesinitiative 311 city linkagesstatus ongoing mexico city strategy linkagesbrief city initiate situation analysis groundwater level quality various location city especially around low elevation coastal zone industrial area', 'research provide insight quality groundwater different land us residential industrial area', 'boreholes constructed basic parameter total dissolved solid turbidity ph conductivity total hardness calcium hardness magnesium hardness total alkalinity chemical oxygen level evaluated', 'information show status alternative water resource tapi river40medium term 20172020 timeline medium term 20172020 timeline \\x83endtoend early warning system ew asian city climate change resilience network acccrn \\x83water quality monitoring hydraulic department surat municipal corporation smc \\x83minars project monitoring water quality 102 sampling station located various river like sabarmati narmada tapi ambica etc \\x83gems project assessment quality water major river gujarat narmada tapi mahi sabarmati etcalignment \\x83nonrevenue water nrw cell surat municipal corporation \\x83zone wise leakage mapping nrw \\x8324 hour water supply pilot project surat municipal corporation \\x83water meter installation drive surat municipal corporationalignmentrealtime river health monitoring tapi city water supply network audit objectiveto monitor realtime water quality covering hydroecological parameter tapiobjectiveto monitor water supply detect freshwater theft wastage within supply network', '\\x83gujarat pollution control board \\x83surat climate change trust \\x83central water commission \\x83surat climate change trust scct suratowners owner \\x83hydraulic department surat municipal corporation \\x83narmada water resource water supply department \\x83hydraulic department surat municipal corporation supporter supportersinitiative 312 initiative 313 city linkage city linkagesstatus status ongoing ongoing medellin oakland semarang byblosrotterdam rio de janeiro new york da nang semarang new orleans mexico city 513 strategy linkage strategy linkagesbrief city monitor realtime water quality tapi main source water supply developing river health monitoring application', 'initiative aimed monitor river health evaluating hydroecological state', 'application use parameter hydrology water quality aquatic life physical form habitat riparian vegetation', 'river health monitoring practice fall four main action \\x83routine monitoring \\x83compliance checking \\x83special investigation monsoon festive season \\x83management audit', 'brief water supply network status provide crucial information water supply master plan indicating area repair restoration required', 'audit cover technical component water supply network affected mainly following factor \\x83network design \\x83aging infrastructure \\x83selection appropriate material \\x83quality manufacturing \\x83quality installation construction \\x83service life individual component network \\x83pressure flow ratio \\x83quality water distribution \\x83operational parameter \\x83frequency maintenance repair \\x83availability fund', '41medium term 20172020 timelinegoal 32 awareness generation water education citizen \\x83street play public awareness sarvajanik college performing art scopa \\x83uturn eventalignmentdemonstrate environmental responsibility promote stewardship among citizen objectiveto create awareness among citizen wastewater treatment technique encourage use reusable water resource wherever possible motivate prevent wastage leakage also reuse water washing gardening', '\\x83nongovernment organization \\x83rotary club surat \\x83surat climate change trust \\x83sarvajanik college performing art owner \\x83urban community development center surat municipal corporation \\x83hydraulic cell surat municipal corporation supporter \\x83river flood \\x83salt water intrusion \\x83drought water shortage \\x83water pollution \\x83disease outbreakshocks stressesorientation awareness initiative 321 city linkagesstatus new greater christchurch semarang norfolk da nang medellin rotterdam 511 strategy linkagesbrief city increase awareness among citizen regarding water use', 'awareness program focus communitylevel decentralized wastewater treatment technique usage guideline different type reusabletreated water', 'campaign focus developing method practice use recycled water secondary us building maintenance cleaning gardening', 'demonstrating benefit water conserved community residency encourage people reuse treated water leading freshwater conservation42medium term 20172020 timeline \\x83early warning environmental system asian city climate change resilience network \\x83water quality monitoring surat municipal corporation \\x83city disaster management plan surat \\x83district disaster management plan surat \\x83gujarat state disaster management actalignmentrisk awareness center objectiveto strengthen community risk management risk reduction knowledge transfer establishing risk awareness center city', '\\x83gujarat state disaster management authority \\x83surat climate change trust \\x83narmada water resource water supply department \\x83central water commission \\x83india meteorological departmentowners \\x83hydraulic cell surat municipal corporation \\x83environmental cell surat municipal corporation supporter initiative 322 city linkagesstatus ongoing greater christchurch semarang norfolk da nang medellin rotterdam 511 strategy linkagesuturn event surat photograph credit taru indiabrief city establish risk awareness center exclusively work tracking risk creating awareness community level', 'surat may face flood risk industrial hazard', 'new technology emergency operation center eoc digital display technical facility added system progress continue happen support smc', 'risk awareness center carry forward ew project better flood risk awareness established asian city climate change resilience network program guidance smc43medium term 20172020 timelinegoal 33 pollution control guideline water quality standard community industrial level \\x83cpcb guideline environment protection act 1986 \\x83cpcb guideline water prevention control pollution ce act 1977 \\x83gpcb guideline water prevention control pollution act 1974 \\x83environmental audit scheme guideline environmental auditor 2006 \\x83water supply policy iso90012008 certification water supplyalignmentpreservation river tidal creek objectiveto enforce pollution control guideline effectively improve water quality', '\\x83central pollution control board \\x83surat climate change trust owner \\x83environmental cell surat municipal corporation \\x83gujarat pollution control board \\x83narmada water resource water supply department supporter \\x83salt water intrusion \\x83water pollution shortage \\x83disease outbreakshocks stressesorientation enforcement initiative 331 city linkagesstatus new byblos san francisco semarang 513 strategy linkagesbrief enforcing law policy associated water pollution major challenge surat', 'city declare bank tapi river tidal creek environmentally sensitive zone commercial residential activity periodically monitored', 'periodic monitoring industrial effluent released river initiative focus reducing river pollution', 'treated effluent discharged river also checked', 'surveillance camera installed key location linked smart city center', 'penalty system introduced discourage polluter time generate additional revenue sustaining initiative44 river tapi surat photograph credit taru india45medium term 20172020 timelineinnovative engineering technology intervention water supply quality \\x83water supply master plan \\x83water supply scheme \\x83water supply grid system uninterrupted water supply \\x8324x7 water supply pilot project surat municipal corporation \\x83private sector participation hydraulic department valve operation different part cityalignmentadvanced smart water supply system objectiveto ensure sufficient timely continuous water supply safeguard breakdown', '\\x83surat smart city development limited \\x83irrigation circle surat \\x83civil engineering department sardar vallabhbhai nation institute technology \\x83narmada water resource water supply departmentowners \\x83hydraulic cell surat municipal corporation \\x83surat smart city development limited supporter \\x83salt water intrusion \\x83droughts \\x83water pollution shortage \\x83disease outbreakshocks stressesorientation implementation goal 34 initiative 341 city linkagesstatus ongoing rio de janeiro rotterdam mexico city semarang 313 strategy linkagesbrief city develop smart water management technology intelligent sensing ict integrated water system', 'surat city initiated scada system 2007', 'currently smc increased water supply 30 percent 750 2010 980 mld 2015', 'plan expand system cover part city', 'parallel city administration also planning double area existing 326 sq', 'km', 'using advanced smart water supply system give advantage dealing current problem also addressing future scenarios46medium term 20172020 timelinemedium term 20172020 timeline \\x83indian green building council guideline 2001 \\x83gujarat development control regulation \\x83affordable housing policy gujarat \\x83smc rebate scheme rain water harvesting \\x83rwh subsidy offered smc people participationalignment \\x8310 existing stp plant managed surat municipal corporation total capacity 8925 mld \\x836 upcoming stp project providing capacity 580 mld smc \\x83140 mld ttp bamroli additional 40 mld ttp dindoli tendering stage industrial usage pandesara sachin gidc \\x83smc already adopted advanced technology sbr bnr fa etcalignmentrainwater harvesting implementation water reuse guideline objectiveto implement rainwater harvesting existing new building spearhead water conservation practicesobjectiveto adapt innovative technology anaerobic wastewater treatment develop option encourage citizen reuse wastewater', '\\x83civil engineering department sardar vallabhbhai national institute technology \\x83engineering college sarvajanik college engineering technology \\x83roads building department \\x83surat climate change trust scct suratownersowners \\x83hydraulic department surat municipal corporation \\x83hydraulic department surat municipal corporation \\x83gujarat pollution control board supporterssupportersinitiative 342 initiative 343 city linkagesstatus new rio de janeiro byblos da nang semarang berkley strategy linkagescity linkagesstatus ongoing melbourne semarang 231 232 strategy linkagesbrief according gujarat development control regulation mandatory high rise building install rainwater harvesting unit time construction', 'initially city start rainwater harvesting within government institutional building promote best practice', 'implemented reduce water supply demand especially institutional area lead conservation natural water resource', 'secondary benefit enforcement also help save energy used water supply', 'second entry point inventory developed large institutional commercial residential building rainwater harvesting unit installedbrief city develop water reuse guideline titled ‘ closing water loop guideline ’ first kind country', 'city use anaerobic treatment wastewater good concentrated wastewater', 'anaerobic process also frequently used ferment aerobic sludge fluid organic waste', 'city promote anaerobic purification various sector especially industrial sector', '47medium term 20172020 timeline long term 20172025 timeline \\x83gujarat state water policy2015alignment \\x83proposal par tapi narmada river interlink project government gujaratalignmentgroundwater resource augmentation interlinking water resource objectiveto adapt indigenous technique filtration stormwater groundwater rechargeobjectiveto develop proposal water resource interlink project increase allweather water availability city', '\\x83surat climate change trust \\x83narmada water resource water supply department \\x83surat climate change trust \\x83gujarat water resource development corporation \\x83surat urban development authorityownersowners \\x83hydraulic department surat municipal corporation \\x83hydraulic department surat municipal corporation \\x83narmada water resource water supply department supporterssupporters status status new new city linkage da nang berkley city linkage 141 347 strategy linkage strategy linkagesinitiative 344 initiative 345 brief city adapt indigenous technique french well filtration stormwater groundwater recharge', 'simple affordable technology contribute rainwater harvesting groundwater recharge', 'spite good water supply many residential institutional area depend ground waterbore well lead groundwater degradation', 'initiative \\x83location survey mapping city french well \\x83certain area especially mandated install french drain technology rainwater harvesting groundwater recharge', 'brief existing project titled ‘ par tapi narmada link ’ transfer water water surplus region water deficit region', 'along project initiative taken review traditional water body within city link ensure yearround water availability', 'inventory existing water body capacity kickstart campaign conservation lake', 'survey done existing water resource visavis quality water proposal prepared interlink them48medium term 20172020 timelinemedium term 20172020 timeline \\x83user charge water meter policy effective date 01042015 \\x83residential religious purpose water sewerage charge 201516 \\x83nonresidential purpose water sewerage charge 201516alignment \\x83guidelines conservation', 'development management urban green ministry environment forest climate change \\x83gujarat integrated township policy 2008alignmentwater monitoring urban design landscape intervention objectiveto develop digital infrastructure monitoring water demand supply scenario across cityobjectiveto implement urban design landscape intervention increased permeability urban space reduced runoff facilitate groundwater recharge support water resource conservation', '\\x83surat climate change trust \\x83ppp based intervention technology based industry \\x83town planning department \\x83confederation real estate developer ’ association india owner owner \\x83hydraulic department surat municipal corporation \\x83hydraulic department surat municipal corporation \\x83surat urban development authority supporter supporter city linkagesstatus new byblos berkley mexico da nang rio de janeiro new york 141 strategy linkagescity linkagesstatus ongoing new york rio de janeiro strategy linkagesinitiative 346 initiative 347 brief smc work 24x7 provide safe reliable drinking water citizen doorstep water supply distribution network', 'water supply scheme implemented present various central state government sponsored program', '\\x83review master plan existing water supply term changing climate expanding city \\x83develop system monitor water us based special requirement festival season summer generate water use bill email sm user', 'brief according gujarat integrated township act 2008 20 percent built urban landscape green covervegetation', 'however rapid urbanism change land cover impervious surface lead problem like urban water logging degradation groundwater table etc', 'city integrate policy specific plantation leading water recharge', 'city also develop guideline impervious surface construction increase groundwater recharge', 'technique permeable pavement footpath tabletop traffic refuge island also add groundwater recharge', 'development tapi riverfront incorporate urban design supporting initiative', 'city use pollinatorfriendly plant park median plant produce le litter cleaner environment49 pillar 04 dominant sector employment economic dependency emerging issue \\x83economy dependent mainly two business sector \\x83both sector highly dependent migrant worker \\x83imbalance diamond business due growing market synthetic diamond \\x83risk consolidation dominant sector \\x83high dependency global economy market share challenge glasgow greater christchurch byblos supporting reference document please click scan', 'worker diamond industry surat photograph credit taru india department economics veer narmad south gujarat university surat southern gujarat chamber commerce industry surat resilience incubator 50 background surat eighth largest city term population largest among noncapital city india', 'per mayor ’ foundation report surat fourth fastest growing city globally decadal growth 55 percent 60 percent last four decade', 'gdp rate 115 percent', 'among highest income tax paying city asia 2010–11 surat contributed r', '22000 million national exchequer', 'highest average annual household income practically zero percent unemployment', 'crisil icra graded surat top list urban civic body operating financial efficiency', 'city vibrant economy', 'hub diamond textile industry', 'current economy surat dominated diamond cutting textile gold thread making dyeing printing industry cater domestic market export', 'diamond cutting polishing however mainly cater export market', 'medium largescale industry mostly located five industrial estate around city', 'city account \\x8390 percent world ’ total rough diamond cutting polishing \\x839999 percent nation ’ total rough diamond cutting polishing \\x8390 percent nation ’ total diamond export \\x8360 percent nation ’ total manmade fabric production \\x8328 percent nation ’ total manmade fiber production \\x8318 percent nation ’ total manmade fiber export \\x8312 percent nation ’ total fabric production \\x8314 percent nation ’ total foreign exchange', 'along textile diamond sector city include petroleum oil gas shipping cement metallurgy paper chemical fertilizer etc', 'hazira ina magadalla ichchhapore olpad near surat giant industry oil natural gas corporation limited gas authority india limited abg shipyard narmada cement ambuja cement ultratech cement ntpckgpp power plant essar group industry steelpowerchemicaloilshipping larsen toubro reliance industry', 'microsoft ’ citynext initiative tied information technology service major tata consultancy service wipro leverage technology sustainable growth city india', 'first smart city india constituted microsoft citynext initiative surat gujarat', 'general surat ’ industrial system complex blend homebased smallscale mediumscale industry largely dependent semiskilled unskilled labor', 'migration state encouraged meet demand labor industriesif looked resilience lens economy surat heavily dependent two dominant sector diamond textile', 'two income generator dependent global market economy', 'recession two sector significant impact economy city', 'thus city invite different alternative industrial sector technology automobile tourism food industry etc backup livelihood provider case economic crisis', 'addition comprehensive organized framework skill upgradation city', 'resilience challanges access finance economy city strong also issue like income disparity', 'smallscale industry business need easy access finance soft loan low interest rate subsidy insurance etc', 'monochrome livelihood opportunity since diamond textile industry two major employer city limited diversity opportunity', 'lack resilience prevails economy', 'city need provide platform make existing sector stronger sustainable besides providing space new sector grow', 'unregulated industry city large number industry clustered specific location', 'much activity area go unregulated due limited access policing', 'industrial safety norm environmental policy enforced strictly regular audit environmental impact assessment eia activity', 'education level lack skill training many educational institution within city', 'unfortunately lack quality education skill development program', 'worker diamond industry surat photograph credit taru india51orientation research long term 20172025 timelinegoal 41 diversified business sector opportunity \\x83make india initiative govt', 'india \\x83the national skill development mission 2015 govt', 'india \\x83gujarat skill development mission department labour employment government gujarat \\x83vibrant gujarat 2017 focus sector skill development alignmentpromote support innovative business opportunity using information communication technology objectiveto promote innovative diversified economic enterprise create future business opportunity city help information communication technology ict', '\\x83urban community development center surat municipal corporation \\x83the southern gujarat chamber commerce industry \\x83economics department veer narmad south gujarat university owner \\x83district industry center \\x83deputy director department labour employment \\x83individual business group supporter \\x83economic crisis \\x83unemploymentshocks stress status city linkage glasgow strategy linkagesinitiative 411 brief ict industry witnessed excellent growth past two decade gujarat', 'investorbusinessfriendly policy would encourage local entrepreneur foreign direct investment fdi developed', 'lead surat becoming one favorite destination ict investment', 'ecommerce ebusiness also developed', 'major output provide alternate business environment addition textile diamond polishing52long term 20172025 timeline long term 20172025 timeline \\x83the micro small medium enterprise development act 2006 \\x83various scheme ministry micro small medium enterprise govt', 'india \\x83assistance sme raising capital sme exchange govt', 'gujaratalignment \\x83trade related entrepreneurship assistance development scheme woman ministry msme govt', 'india \\x83support training employment program woman ministry woman child development govt', 'indiaalignmentmicro small mediumsized enterprise promote woman entrepreneur objectiveto promote support micro small mediumsized enterprise surat', 'objectiveto promote support woman entrepreneur startup business offering business counselingtraining access finance', '\\x83urban community development center surat municipal corporation \\x83the southern gujarat chamber commerce industry \\x83national institute micro small medium enterprise \\x83district industry center \\x83deputy director department labour employment \\x83individual business groupsowners owner \\x83district industry center \\x83deputy director department labour employment \\x83individual business group \\x83district industry center \\x83deputy director department labour employment \\x83individual business group supporter supporter status new city linkage greater christchurch 411 412 strategy linkagescity linkagesstatus new byblos greater christchurch strategy linkagesinitiative 412 initiative 413 brief micro small medium enterprise sector emerged highly vibrant dynamic sector', 'following activity support initiative city \\x83organize event expo sgcci micro small medium enterprise \\x83organize skill development training program \\x83sign memorandum understanding mous nationallevel institution entrepreneurship development institute indian institute management \\x83facilitate access finance linkage bank \\x83establish livelihood business incubator aspire scheme government indiabrief woman entrepreneurship recognized important source economic growth', 'initiative achieved \\x83organize event expo sgcci micro small medium enterprise \\x83organize skill development training program \\x83sign memorandum understanding mous national level institution entrepreneurship development institute indian institute management \\x83facilitate access finance linkage bank \\x83establish livelihood business incubator aspire scheme government india53goal 42 skill development training capacity building \\x83economic crisis \\x83unemployment \\x83low education levelsshocks stressesorientation awareness long term 20172025 timeline \\x83make india initiative govt', 'india \\x83the national skill development mission 2015 govt', 'india \\x83gujarat skill development mission department labour employment government gujarat \\x83vibrant gujarat 2017 focus sector skill development alignmentestablishment center excellence incubation center objectiveto propose center excellence incubation center promote textile education initially also conduct research development diverse business opportunity skill development \\x83urban community development center surat municipal corporation \\x83the southern gujarat chamber commerce industry \\x83economics department veer narmad south gujarat university owner \\x83centre entrepreneurship development \\x83district industry center \\x83deputy director department labour employment supporter status city linkage glasgow strategy linkagesinitiative 421 brief ideaincubation center established city \\x83conduct research innovation textile sector preparing research plan next five year \\x83prepare research proposal ministry textile future funding \\x83establish link among national level institute \\x83connect existing effort national state government \\x83review dhaka model textile clothing industry develop surat model', '54medium term 20172020 timeline \\x83make india initiative govt', 'india \\x83the national skill development mission 2015 govt', 'india \\x83gujarat skill development mission department labour employment government gujarat \\x83vibrant gujarat 2017 focus sector skill development alignmentenhancement business skill objectiveto develop skill training capacity building field training mission various state country per existing industry demand produce new generation entrepreneur surat \\x83urban community development center surat municipal corporation \\x83entrepreneurship development institute india \\x83economics department veer narmad south gujarat university owner \\x83district industry center \\x83deputy director department labour employment \\x83the southern gujarat chamber commerce industry supporter status new city linkage glasgow 421 strategy linkagesinitiative 422 worker textile industry surat photograph credit scct suratbrief development skill training capacitybuilding event including conferencesworkshopsfield mission training mission various state country', 'initiative achieved \\x83upgrading entrepreneurship skill small medium sized enterprise smes city especially new technology intervention textile industry', '\\x83integrating general vocational technical education open opportunity international training provider showcase expertise', '\\x83developing program event skill upgradation', '\\x83associating potential national international institution incorporate best practicesinitiatives stay informed latest training technique \\x83establishing opportunity tieups increase skill level manufacturing sector thereby supporting ‘ make india ’ initiative \\x83establishing skill facilitation center linking existing national state level program project \\x83establishing smart commercial complex trade center publicprivate partnership municipal commercial lands55 pillar 05 ecosystem environmental regulation emerging issue \\x83air water pollution \\x83solid waste management \\x83coastal environment salinity issue share challenge oakland berkley san francisco new york new orleans mexico city rio de janeiro glasgow vejle rotterdam da nang semarang melbourne byblos supporting reference document please click scan', 'green tunnel duma area surat photograph credit taru india department environmental science sarvjanik college engineering technology suratsardar vallabhbhai national iinstitute technology surat resilience incubator 56 background situated bank river tapi close proximity arabian sea surat sensitive ecosystem', 'industrial growth high population growth density place pressure ecosystem surat', 'two important task attended surat implementation environmental policy coastal regulation zone enforcement law industrial area', 'need green space developed maintained', 'tapi depleting due rapid siltation development activity taking place along side river', 'pollution level check carried regularfrequent basis', 'environmental cell active efficient monitoring air sound land water pollution throughout city', 'water sewerage river tapi one major source water available surat', 'led discharge domestic used water sewage periurban area river', 'pollution including disposal sewage industrial effluent reservoir impoundment vegetation led growth algae underwater hydrilla water hyacinth', 'reuse water negligible 2 percent water reused city', 'water conservation practice lacking city', 'reduction water table groundwater pollution noticed many area', 'solid waste smc currently manages 1750 mt solid waste per day', 'around 98 percent total solid waste generated disposed effectively wellestablished sanitary landfill centralized biomedical waste collection transportation treatment final disposal facility', 'landfill dumping site problem account greenhouse gas emission', 'hence effort required segregate reuse waste', 'initiative solid waste management swm initiative regard new management solid waste msw rule 2015 mandated city', 'air quality vehicular pollution account 60–70 percent total pollution load city', 'main cause twowheelers autorickshaws multiaxle vehicle', 'according gujarat pollution control board surat one city maintain required air quality standard since permissible amount suspended particulate matter spm recorded city 2004–05', 'effort compressed natural gas conversion vehicle brts mobile pollution measuring van helped reducing spm level reducing greenhouse gas contributionresilience challanges creek flood storage control mechanism around tidal creek city', 'development along creek poor maintenance creek bank led siltation degradation water quality', 'pollutant discharged untreated unregulated industry worsen situation', 'growth vegetation subsequent reduction drain area lead frequent flooding creek', 'extreme rainfall due climate change observed total rainfall may reduced intensity occurrence continue increase', 'industrial accident surat lot industrial unit among olpad cyanide industrial area hna critical area', 'account various accident need addressed efficiently avoid future risk', 'also surat neglect possible risk kakrapar nuclear power plant situated bank river tapi', 'salt water intrusion illegal groundwater use noticed city', 'unregulated groundwater use eventually lead salt water intrusion creek river ground', 'heatwave observed duration summer season elongated irregular', 'heat wave increasing changing climate', 'lead health issue currently citizen aware longterm effect heat wave', 'insufficient regulation lack regulation low law enforcement major cause environment ecosystemrelated issue surat', 'major issue surat especially industrial area leading unregulated untreated industrial discharge river air pollution', 'one reason depletion river festive season due lack regulation enforcement', 'lack risk awareness sensitivity citizen towards environment missing city', 'citizen made aware consequence action environment thus take responsible steps57orientation research short term 20172018 timeline51 research urban climate change resilience \\x83state disaster act gujarat state \\x83district disaster management plan \\x83hazard risk vulnerability assessment gujarat \\x83city disaster management plan \\x83early warning system guideline \\x83asian city climate change resilience network \\x83urban flood management guideline alignmentmulti hazard risk assessment mapping objectiveto monitor impact climate change trend integrate multihazard risk assessment mapping city \\x83environment cell surat municipal corporation \\x83gujarat state disaster management authority \\x83surat urban development authority \\x83hazira notified area surat \\x83the southern gujarat chamber commerce industry suratowners \\x83surat climate change trust supporter \\x83extreme rainfall \\x83river flood urban flood \\x83creek flood \\x83industrial accident \\x83less regulation enforcement \\x83lake awareness risk \\x83air water pollutionshocks stress goal status new city linkage rio de janeiro 322 strategy linkagesinitiative 511 brief surat highly vulnerable multiple hydromet hazard river flood creek flood storm surge', 'risk exists surat since reclaimed land sea cause high tidal effect', 'due major industrial activity fire incident also noticed city', 'monitor climate change trend impact integrate multihazard risk planning city conduct regular gisbased spatial analysis vulnerability risk strengthen preparedness future resilience', 'city also enhance existing early warning system currently keep surat prepared mitigate flood risk', 'linked highend emergency operation center eoc mapping new growth areas58short term 20172018 timelineshort term 20172018 timeline \\x83central pollution control board guideline \\x83gujarat pollution control board guideline \\x83costal regulation zone guideline \\x83environmental policy strategy act gujarat alignment \\x83zoning atlas surat district central pollution control board \\x83ambient air quality monitoring program \\x83national air quality monitoring program \\x83state air quality monitoring program \\x83water quality monitoringalignmentreview environmental policy development pollution zoning atlas objectiveto review existing environmental industrial police make inventory handbook better enforcement environmental regulationsobjectiveto monitor zoneward pollution—noise air water land—and develop zoning atlas surat pollution reduction measure', '\\x83environment cell surat municipal corporation \\x83gujarat ecological commission \\x83national disaster management authority \\x83hazira notified area surat \\x83gujarat industrial development corporation surat \\x83gujarat coastal zone management authority \\x83surat climate change trust \\x83department environment engineering sarvajanik college engineering technology surat \\x83department environment engineering sardar vallabhbhai national institute technology surat \\x83central pollution control board \\x83surat climate change trust \\x83gujarat industrial development corporation surat \\x83hazira notified area surat \\x83department environment engineering sarvajanik college engineering technology surat \\x83department environment engineering sardar vallabhbhai national institute technology surat \\x83gujarat pollution control board \\x83the southern gujarat chamber commerce industry suratowners owner \\x83gujarat pollution control board gpcb \\x83environment cell surat municipal corporation supporter supporter statusstatusnewnew city linkage da nang rio de janeiro berkley new yorkcity linkage bangkok strategy linkage strategy linkagesinitiative 512 initiative 513 brief due sensitive coastal environment rapid growth surat city demand implementation environmental policy regulation guideline', 'inventory book environmental policy relevant surat city developed', 'policy inventory also present policy overlap crosslink help improvisation integration futurebrief city develop zoneward level pollution atlas identify spatiotemporal distribution major pollutant level pollution pattern time especially festival', 'information provided atlas analyzed identify source pollution option regulation', 'information also used provide awareness alert warning member public take appropriate health measure', 'pollution alert displayed key location major junction increase public outreach visitor inmigrants citizens5952 citizen awareness urban ecosystem \\x83river flood \\x83less regulation enforcement \\x83lack awareness risk \\x83water pollution \\x83extreme rainfall \\x83creek flood \\x83industrial accident \\x83low education level \\x83loss ecosystem servicesshocks stressesorientation awareness \\x83national green corp 2002002 \\x83national environmental awareness campaign 20142015 \\x83national environment policy 2006 \\x83publications nature club ecological commissionalignmentawareness ecosystem objectiveto generate awareness among citizen strength asset city conservation practice build long term resilience', '\\x83nature club surat \\x83gujarat ecological education research foundation \\x83gujarat ecological commission \\x83gujarat ecological society \\x83department environment engineering sarvajanik college engineering technology surat \\x83department environment engineering sardar vallabhbhai national institute technology surat \\x83gujarat pollution control board \\x83the southern gujarat chamber commerce industry surat \\x83veer narmada south gujarat university surat \\x83geer foundation surat \\x83lions club surat \\x83rotary club suratowners \\x83environmental cell surat municipal corporation \\x83urban community development cell surat municipal corporation supportersgoal initiative 521 brief citizen made aware current status educated innovative way address problem', 'awareness mitigation also improved community participation', 'city following activity support initiative \\x83create annual plan ecosystem awareness event city \\x83organize ‘ uturn event engagement ’ weekend holiday \\x83organize student ’ education fair ecosystem \\x83involve student create awareness \\x83support promote ngo communitybased organization working ecosystem sector \\x83develop inventory natural manmade resource city resilience benefit', 'short term 20172018 timeline status new city linkage vejle strategy linkages60medium term 20172020 timeline \\x83gujarat solar power policy 2015 \\x83waste energy policy – 2016 \\x83gujarat wind power policy2016 \\x83gujarat small hydel policy – 2016 \\x83subsidy residential rooftop solar plant \\x83house energy audit external energy audit energy efficiency cell surat municipal corporationalignmentawareness renewable energy objectiveto promote use renewable energy residential commercial institutional industrial sector \\x83gujarat energy development agency \\x83dakshin gujarat vij company limited \\x83torrent power limited surat \\x83the southern gujarat chamber commerce industry surat \\x83gujarat gas limited surat \\x83surat electricity company \\x83gujarat energy development agency \\x83electrical research development agencyowners \\x83energy efficiency cell surat municipal corporation \\x83environmental cell surat municipal corporation \\x83surat smart city development limited supportersinitiative 522 status new city linkage oakland rotterdam tapi river surat photograph credit taru indiabrief promote use renewable energy much possible workshop conference organized use renewable energy association gujarat energy development agency', 'mobile application innovative brochure flyer developed local language encourage use renewable energy', 'mous signed national institute solar energy government india research development', 'proposal center excellence solar research surat also developed', 'annual plan prepared energy awareness event city solar equipment displayed various location create enthusiasm awareness', 'strategy linkages61 \\x83capacity building scheme urban local body jnurm scheme world bank undp program \\x83capacity building program disaster management government official representative panchayat raj institution local body district level national disaster management authorityalignmentresilience building capacity objectiveto generate awareness enhance capacity resilience across city', '\\x83gujarat ecological commission \\x83gujarat state disaster management authority \\x83gujarat urban development missionowners \\x83environment cell surat municipal corporation \\x83surat climate change trust supporter medium term 20172020 timelineinitiative 524 status new city linkage rio de jainero 322 strategy linkagesmedium term 20172020 timeline \\x83swatchha bharat abhiyan \\x83nirmal gujarat \\x83swatchha bharat swatchha surat \\x83clean tapi campaign alignmentpollution awareness voluntary cleanup program objectiveto engage citizen encourage participation keeping city clean generate awareness waste segregation water pollution reuse home', '\\x83natures club surat \\x83ngos surat \\x83solid waste management department surat municipal corporation \\x83surat climate change trustowners \\x83environment cell surat municipal corporation supportersinitiative 523 status new city linkage new york strategy linkagesbrief capacity institution community individual adapt climate change increased previous effort city various program', 'however ensure maintenance continuous effort needed following activity \\x83share climate resilience strategy methodology government agency peer review learning \\x83design conduct local ecosystem conservation program urban practitioner \\x83develop resilience toolkit based 100rc crf introduce regional state government \\x83conduct capacity building workshop relevant stakeholder environmental resilience based crf component 100rc \\x83conduct debate urban climate change issue \\x83write article print electronic medium spread awareness \\x83organize street play climate change resilience issue studentsbrief smc many ongoing waste collection city cleaning practice spearheaded solid waste department', 'citizen ’ awareness participation currently low', 'better waste management important support participation civil society', 'awareness created among citizen instance pointing water pollution level festival effect waste disposal river', 'following activity carried achieve goal \\x83create citizen awareness waste segregation home \\x83organize cleanup drive city festive season \\x83generate awareness electronic print medium \\x83conduct street play swm practice \\x83organize workshop conference clean surat drive', '62 uturn event surat photograph credit taru india uturn event uturn initiative surat city police supported surat municipal corporation bring joy creativity life community level', 'uturn people gather exercise create street painting play game much', 'give platform urban community participate communicate spread awareness various social environmental cultural issues63 \\x83 goal 53 regulation enforcement environmental regulation \\x83industrial accident \\x83less regulation enforcement \\x83law education levelshocks stressesorientation enforcement medium term 20172020 timeline \\x83ambient air quality monitoring program \\x83clean tapi campaign \\x83national air quality monitoring program \\x83state air quality monitoring program alignmentpollutionfree surat objectiveto conduct frequent pollution audit industrial area conduct regular vehicular pollution emission check keysensitive location major junction', '\\x83surat climate change trust \\x83gujarat industrial development corporation surat \\x83hydraulic department surat municipal corporation \\x83traffic department surat city police \\x83regional transport office suratowners \\x83environment cell surat municipal corporation \\x83gujarat pollution control board supportersinitiative 531 status ongoing city linkage bangkok 523 131 132 strategy linkagesbrief due large industrial setup vehicular growth city need air quality monitoring', 'absence air pollution data difficult authority act', 'achieve goal city \\x83support existing effort air quality monitoring city developing monitoring alert system \\x83install digital display board key location major junction \\x83install fixed mobile device city capture area specific measurement \\x83publish name individual industrial electronic print medium weekly basis \\x83conduct pollution audit frequently industrial unitsareas cut pollution source \\x83check vehicular emission especially intermediate public transport', '64medium term 20172020 timeline medium term 20172020 timeline \\x83coastal regulation zone act guideline alignment \\x83national housing policy \\x83redevelopment policy gujarat \\x83indian green building council guideline 2001 \\x83cool roof passive ventilation projectalignmentcoastal area ’ conservation green building concept objectiveto conserve coastal area along city enforcing coastal regulation zone guideline actobjectiveto enforce green building concept upcoming residential commercial institutional industrial building city', '\\x83gujarat ecological commission \\x83gujarat maritime board \\x83gujarat coastal zone management authority \\x83surat climate change trust \\x83hazira notified area surat \\x83gujarat pollution control board surat \\x83surat irrigation circle \\x83surat urban development authority \\x83indian green building council \\x83green rating integrated habitat assessment \\x83confederation real estate developer ’ association india \\x83gujarat gas limited surat \\x83surat electricity company \\x83gujarat energy development agency \\x83electrical research development agencyownersowners \\x83environment cell surat municipal corporation \\x83forest environment department government gujarat \\x83environment cell surat municipal corporation \\x83energy efficiency cell surat municipal corporation \\x83surat smart city development limited supporterssupportersinitiative 532 initiative 533 status status new ongoing city linkage new york city linkage berkley oakland 231 232 strategy linkage strategy linkagesbrief south gujarat ’ coastal zone abundant coastal marine ecosystem include wide range mangrove coral reef sea grass salt marsh mud flat estuary lagoon unique marine coastal flora fauna', 'initiative linked integrated coastal zone management project implemented gujarat coastal zone management authority \\x83develop association gujarat coastal zone management authority various ongoing activity along surat ’ coast \\x83develop restore duma beach \\x83create coastal watch group help surat ’ city police smc implement crz guideline \\x83install cctv camera along coast monitor coastal activity \\x83enforce coastal regulation policy conduct regular audit control hazira notified authority ’ industrial unit', 'brief smc promotes concept process finalizing design building', 'following activity carried achieve goal \\x83develop green building guideline city keeping location growth pattern mind \\x83discuss concept road building gujarat housing board implement upcoming building \\x83develop readytouse green concept residential commercial institutional industrial building', '65innovative urbanism tactic balanced ecosystem \\x83flood risk \\x83water pollution \\x83heat wave \\x83high energy costshocks stressesorientation implementation goal 54 medium term 20172020 timeline \\x83indian green building council guideline 2001 \\x83development control rule gujarat \\x83affordable housing policy gujarat \\x83smc rebate scheme rain water harvesting \\x83rwh subsidy offered smc people participationalignmentcommunitylevel rainwater harvesting system objectiveto implement rainwater harvesting various building city initiate rainwater harvesting water conservation practice', '\\x83sardar vallabhbhai national institute technolog surat \\x83sarvajanik college engineering technology surat \\x83confederation real estate developer ’ association india surat \\x83surat climate change trustowners \\x83environment cell surat municipal corporation \\x83hydraulic department surat municipal corporation supportersinitiative 541 status ongoing city linkage melbourne strategy linkagesbrief smc promotes concept process finalizing design building', 'following activity carried achieve goal \\x83start rainwater harvesting club promote concept \\x83start campaign membership drive adding people \\x83establish linkage ongoing government effort specific location major junction cut mobile pollution source', '66medium term 20172020 timeline medium term 20172020 timeline \\x83guidelines conservation', 'development management urban green ministry environment forest climate change \\x83gujarat integrated township policy january 2008alignment \\x83gujarat solar power policy 2015 \\x83existing effort surat municipal corporationalignmentinnovative urban design landscaping installation solar rooftop system objectiveto increase green cover city placing green street furniture using innovative urban design landscapingobjectivesto increase use solar energy reduce dependency existing source meet future energy demand', 'support city becoming energy efficient maximizing use solar energy', '\\x83town planning department surat municipal corporation \\x83confederation real estate developer ’ association india \\x83indian green building council \\x83green rating integrated habitat assessment \\x83confederation real estate developer ’ association india \\x83gujarat gas limited surat \\x83surat electricity company \\x83gujarat energy development agency \\x83electrical research development agency \\x83dakshin gujarat vij company limited \\x83torrent power limitedownersowners \\x83environment cell surat municipal corporation \\x83surat urban development authority \\x83surat smart city development limited \\x83energy efficiency cell surat municipal corporation \\x83environment cell surat municipal corporation \\x83surat smart city development limited supporterssupportersinitiative 542 initiative 543 city linkage city linkagesstatus status new ongoing berkley glasgow byblos new orleans oaklandsan francisco rotterdam byblos rio de jainero oakland berkley strategy linkage strategy linkagesbrief green cover city lead cleaner air lower noise pollution also lessens effect urban heat island intensity heat wave', 'city take different urban design landscaping green street furniture increase green cover city', 'following activity carried achieve goal \\x83plan design competition locallevel academic institution new town planning scheme city \\x83develop plan urban design landscaping intervention riverfront various park garden surat ’ duma beach \\x83develop guideline green furniture road traffic island bus stop riverside creek side park open space city \\x83develop inventory area development take place', 'brief gujarat set solar capital world', 'first state country announce solar power policy 2009 complete target implementation mechanism', 'following activity carried city achieve goal \\x83develop green building guideline city keeping location growth pattern mind \\x83discuss concept road building gujarat housing board implement upcoming building \\x83develop readytouse green concept residential commercial institutional industrial building', '67 medium term 20172020 timeline \\x83swatchha bharat abhiyan \\x83nirmal gujarat yojana \\x83existing effort surat municipal corporation litter prevention systemalignmentdecentralization solid waste management objectiveto implement communitylevel swm practice using innovative measure', '\\x83surat smart city development limited \\x83energy efficiency cell surat municipal corporation \\x83green rating integrated habitat assessment \\x83confederation real estate developer ’ association indiaowners \\x83solid waste management department surat municipal corporation \\x83environment cell surat municipal corporation supportersinitiative 544 status ongoing city linkage rio de jainero strategy linkagesfestival lord ganesh river tapi suratphotograph credit scct suratbrief swm need decentralized city reduce load dumping site sanitary landfill big emitter greenhouse gas', 'city implement msw rule 2015', 'decentralize swm following measure taken \\x83innovative measure create awareness among citizen litter \\x83check waste disposed river festival \\x83conduct awareness drive waste segregation \\x83organize street play swm practice \\x83implement pilot project public building institution showcase ease swm treatment community level', '68 69 pillar 06 social cohesion emerging issue \\x83nonavailability migrant record \\x83community unrest reservation issue \\x83depletion cultural value share challenge san francisco new york boulder glasgow vejle byblos melbourne medellin pittsburgh supporting reference document please click scan', 'festival janmashtami surat photograph credit scct surat department sociology veer narmad south gujarat university vnsgu surat sarvajanik college performing art scopa suratcentre social science cs suratresilience incubator pricewaterhouse coopersplatform partner 70 background surat city industry trade', 'recent population growth city mainly due two main laborintensive industry textile diamond polishing', 'spurt population due combination factor mainly natural growth inmigration', 'surat claim zero unemployment city', 'attracted rural migrant within state saurashtra arid northern part state especially maharashtra uttar pradesh orissa', 'surat reflects pace mumbai', 'spite fastpaced life social cohesion mutual support quite high among surtis people surat', 'social network strong among community especially arid semiarid zone gujarat', 'research shown higher social capacity index observed middle upper sec compared lower sec slum dweller dominated diverse immigrant population', 'city constant risk flood hydrometeorological disaster strong social capital asset', 'therefore strengthening social capacity especially among migrant necessary enable people lower sec build resilience better coordination mutual support', 'unfortunately ngo microfinance coverage surat limited compared many indian city', 'therefore avenue build social cohesion explored', 'resilience challenge high migration migration rate growing every year becoming increasingly difficult city administration regulate growth', 'increase stress city ’ management existing infrastructure crime rate', 'increase migration also lead increase number slum engineered building cater housing demand', 'lead inequality society thus affecting social cohesion', 'lacking sense social responsibility increasing number migrant underlying feeling among local population sense social responsibility including contributing city management keeping city clean following rule regulation decreased time', 'city administration need bring back feeling belonging among citizen', 'loss local culture surat major industrial hub attracting people mainly economic opportunity', 'increased demand housing also led demolition heritage structure give way highrise building', 'surat said lost unique culture since many different community come together industrial activitiescrime law enforcement city need strong law enforcement deal problem encroachment public space traffic jam accident crime', 'high property rate surat strong real estate sector providing housing building structure residential commercial purpose', 'number building city grown severalfold past decade', 'nevertheless many building cater need middle income high income community making unaffordable lowincome group', 'majority home owner people invested one property therefore leading artificial housing shortage', 'one concern citizen increase number vacant high income house shortage low middle income house', 'night life gaurav path surat photograph credit scct surat 71orientation research 61 research social cohesion \\x83civil unrestriot \\x83migration \\x83lack social security \\x83lack risk awareness shock stress \\x83academic institute studiesalignmentresearch social issue objectiveto develop research profileportfolio social issue cohesion aspect academicresearch institution city \\x83urban community development center surat municipal corporation \\x83surat climate change trust owner \\x83center social study \\x83department sociology veer narmad south gujarat university supportersgoal initiative 611 status new city linkage strategy linkagesshort term 20172018 timelinebrief social institution research academic involved social change facilitated', 'theory linked practice combining empirical research actionoriented program', 'research portfolio next five year developed linked international research program', 'link established research institution 100rc city signing mous', 'international researcher student also invited part effort72short term 20172018 timeline short term 20172018 timeline \\x83asian city climate change resilience network \\x83100 resilience city program \\x83smart city programalignment \\x83smart city program \\x83surat development plan 2035 \\x83tapi riverfront project suratalignmenturban quality life assessment guideline public open space objectiveto develop quality life index surat city spatial assessment quality life ward zone level cityobjectiveto ass existing public open space develop public open space strategy guideline city \\x83surat smart city development limited \\x83center social study surat \\x83department sociology veer narmad south gujarat university \\x83surat climate change trust \\x83surat climate change trust \\x83surat smart city development limited owner owner \\x83urban community development center surat municipal corporation \\x83surat climate change trust \\x83town development department surat municipal corporation \\x83surat urban development authority supporter supportersinitiative 612 initiative 613 status status new new city linkage glasgow city linkage new york melbourne san francisco 347 strategy linkage strategy linkagesbrief quality life general wellbeing individual society outlining negative positive feature life', 'observes life satisfaction including everything physical health family education employment wealth religious belief finance environment', 'achieved following way \\x83develop quality life index surat \\x83do spatial mapping urban quality life', 'brief existing public open space city assessed', 'gi remote sensing technology land surface air surface temperature used monitoring urban heat island effect', 'also highlight issue current practice use mall footpath duma riverfront walkway etc', 'existing guideline central state government reviewed figure provision open space', 'existing guideline also renewed based current populationtoopen space ratio', 'community asset mapping also linked initiative7362 social cohesion awareness generation \\x83civil unrestriot \\x83migration \\x83lack social security \\x83lack risk awareness shock stressesorientation awareness short term 20172018 timeline \\x83programs govt', 'india govt', 'gujarat surat municipal corporation alignmentcentre community resilience objectiveto establish center cultural resource visual art community resilience city', '\\x83center social studiesinitiative 621 owner \\x83urban community development center surat municipal corporation supportersgoal status new city linkage boulder 626 strategy linkagesbrief city like surat huge diversity culture social value symbolized ‘ mini india ’ due plurality culture', 'center cultural resource visual art established city building community resilience', 'proposed cultural center focused various cultural activity \\x83cultural festival \\x83awareness ownership city \\x83surat day celebration \\x83cultural conservation practice', '74medium term 20172020 timeline short term 20172018 timeline \\x83programs governmentt india govt', 'gujarat surat municipal corporation \\x83uturn event surat \\x83happy street surat \\x83society promotion indian classical music culture amongst youth \\x83smc drama competition \\x83surat tapi utsav \\x83surat food festival \\x83swami vivekananda national book fair national horticulture fair shilp gram fair \\x83cyclemarathon surat \\x83tapi boat festival suratalignment \\x83smart city program \\x83amrut program \\x83surat municipal corporation mobile applicationalignmentawareness community level event promoting civic engagement objectiveto generate awareness campaign communitylevel event street play various resilience issue cityobjectiveto encourage strengthen civic engagement participation city decision making future planning process', '\\x83center social study surat \\x83sarvajanik college performing art surat \\x83surat climate change trust \\x83center social study initiative 622 initiative 623 owner owner \\x83urban community development center surat municipal corporation \\x83urban community development surat municipal corporation \\x83surat smart city development limitedsupporters supporter status city linkage vejle 626 strategy linkagesstatus new city linkage byblos 625 strategy linkagesbrief surat conduct campaign communitylevel event street play resilience issue help generate awareness', 'linked activity center cultural resource visual art community resilience \\x83plan organize ‘ uturn ’ like event \\x83organize street play seven discovery area \\x83conduct mock drill educate people disaster management instance flood climate change issue', 'brief civic engagement encouraged citizen representative city able engage influence development process achieve larger civic objective goal', 'civic engagement initiated smart city program strengthened following activity \\x83hold public debate key developmental issue \\x83organize city center presentation upcoming project \\x83conduct online offline opinion poll new initiative \\x83start citizen collaboration center', '75short term 20172018 timeline medium term 20172020 timeline \\x83draft heritage policy 2011 \\x83heritage city development augmentation yojanaalignment \\x83draft heritage policy 2011 \\x83heritage city development augmentation yojanaalignmentheritage walk surat heritage restoration objectiveto create awareness among citizen historic value city encourage local community conserve preserve heritage inculcate sense pride appreciation among themobjectiveto restore redevelop heritage cultural landmark city', '\\x83the archaeological survey india vadodara \\x83indian national trust art cultural heritage new delhi \\x83surat climate change trust surat \\x83center social study surat \\x83architecture college scet surat \\x83the archaeological survey india vadodara \\x83indian national trust art cultural heritage new delhi \\x83surat climate change trust surat \\x83center social study suratinitiative 625 initiative 624 owner owner \\x83surat municipal corporation surat \\x83urban community development center \\x83surat municipal corporation surat \\x83urban community development centersupporters supporter status status ongoing new city linkage byblos city linkage byblos 624 625 strategy linkage strategy linkagesbrief heritage walksheritage trail innovative way encourage citizen tourist better understand local cultural natural social historical importance city', 'various walkstrails designed organized help people understand importance key location neighborhood across city', 'interesting itinerary could include \\x83cemetery walk dutch american english \\x83fort area walk \\x83dumas heritage walk \\x83hope bridge walk', 'city link heritage website promote walkstrailsbrief city surat endowed rich architectural heritage vital identity city', 'two year ago world heritage day smc announced heritage policy promised protect heritage building city set heritage cell', 'heritage policy 2417 property old city 574 old village rander 80yearsold identified conservation effort', 'support initiative achieve goal city \\x83prepare submit proposal restoration redevelopment heritage site archaeological survey india also key business group restoration redevelopment funding corporate social responsibility program \\x83develop website dedicated heritage issue brochure pamphlet promote heritage location \\x83develop video audio documentary suratspecific heritage location', '76short term 20172018 timeline short term 20172018 timeline \\x83existing project surat municipal corporationalignment \\x83department social justice empowerment surat \\x83uturn surat \\x83happy street surat \\x83cycle club suratalignmentcelebration surat day pedal social cause objectiveto plan celebrate surat day bring citizen together one locationobjectiveto plan organize cyclothon marathon event surat create awareness social cause issue', '\\x83surat climate change trust \\x83center social study surat \\x83traffic cell surat \\x83cbos ngo \\x83surat climate change trust \\x83center social study initiative 626 initiative 627 owner owner \\x83urban community development center surat municipal corporation \\x83urban community development center surat municipal corporation supporter supporter status new city linkage vejle pittsburgh 622 strategy linkagesstatus new city linkage 622 strategy linkagesbrief one day calendar year declared ‘ surat day ’', 'day celebrated across city centered around river tapi', 'could also announced tapi festival', 'attract surtis one location bring together celebration', 'also attract people outside city', 'various event could planned day encourage public private government collaboration', 'brief cyclothon marathon event aligned ongoing planned event national state local government', 'surat plan organize cyclothon marathon event create awareness various social issue including following diseasefree surat sugarfree surat tobaccofree surat clean tapi clean air clean duma communal harmony civic sense etc', '77 pillar 07 upscaling public health emerging issue \\x83access general health care \\x83high cost medical service \\x83lack affordable health care \\x83health care facility emergency share challenge san francisco new york new orleans mexico city vejle da nang semarang supporting reference document please click scan', 'urban health center surat photograph credit taru india urban health climate resilience center uhcrc scct surat resilience incubator platform partner 78 background public health major concern tropical city surat', 'located nearly flat coastal terrain surat infamous vector waterborne disease', 'seasonality vectorborne disease likely change disease transmission period likely expand due increase temperature change humid season', 'many health sector study raise concern change vector propagation recommend conducting continued action research climate vectorborne disease', 'especially important since region malariaendemic area face recurrent outbreak leptospirosis', 'location climate sociodemographic structure coupled developmental activity city high risk factor breeding vector well ability survive spread infection', 'located riverbank close sea surat number water pool breeding site mosquito', 'climate change increasing population high inmigration change land use inaccessible service water supply sewerage solid waste create environment could lead increase vectorborne disease', 'smc aware situation already putting place clean city initiative including monsoon preparedness avoid problem', 'surat also known knowledge experience managing malaria case', 'various health sector study highlighted nearextinction filarial disease due extension underground sewerage across city show effort ulb worked', 'similarly malaria control due strong citywide monitoring system includes urban health center', 'mosquito vector control measure door todoor monitoring prevent breeding system fine penalty fogging reduce chance disease occurring', 'resilience issue high cost medical service many government private health care center critical medical service expensive therefore le accessible low income population', 'increase quality medical service segment needed', 'child lowincome settlement photograph credit taru india79orientation research 71 research healthier citizen healthier city \\x83migration influx \\x83heat wave cold wave \\x83extreme rainfall \\x83disease outbreakshocks stress medium term 20172020 timeline \\x83health department surat municipal corporation \\x83urban health climate resilience centeralignmentcenter excellence urban health climate resilience objectiveto establish center excellence coe urban health climate change conduct actionable research urban health climate change trend', '\\x83surat climate change trust \\x83surat municipal institute medical education researchinitiative 711 owner \\x83health department surat municipal corporation \\x83urban health climate resilience center supportersgoal status city linkage rio de janeiro rotterdam new york strategy linkagesbrief surat urban health climate resilience center uhcrc participating actively urban health issue research', 'initiative sustained uhcrc developed center excellence support academic partner', 'scope actionable research coe cover integrated emergency medical care network skill training module climate change urban health noncommunicable disease including malnutrition food safety security equityfocused urban health care service climate health coastal city vulnerability assessment adaptation plan creating childfriendly resilient city', '80medium term 20172020 timeline \\x83existing effort health department surat municipal corporationalignmenturban health climate resilience skill laboratory promotion centre objectiveto establish training capacity building set urban health climate change promotional center skill development', '\\x83surat climate change trust \\x83surat municipal institute medical education researchinitiative 713 owner \\x83health department surat municipal corporation \\x83urban health climate resilience center supporter medium term 20172020 timeline \\x83existing effort health department surat municipal corporationalignmenturban health climate observatory objectiveto develop urban health climate change information system monitor health care scenario climate trend', '\\x83surat climate change trust \\x83surat municipal institute medical education researchinitiative 712 owner \\x83health department surat municipal corporation \\x83urban health climate resilience center supporter status status city linkage rio de janeiro rotterdam new york city linkage rio de janeiro rotterdam new york new orleans strategy linkage strategy linkagesbrief city develop urban health climate information system realtime data urban health climate observatory', 'evidencebased health management system service sustained climate science research program improves capacity communication societal understanding thus helping reduce morbidity mortality due extreme climatic condition', 'system provide surat cityspecific realtime climate data impact indicator support health sector infrastructure operating city', 'system technologysupported updated information alert', 'developed managed external technical expert unitbrief health climate resilience skill laboratory multistakeholder setup urban practitioner', 'centre provide formal informal training program', 'also serve health promotion center communitylevel health awareness education display museum knowledge transfer awareness institutional well community level', 'centre also promote extensive education effort build outreach worker ’ capacity urban health sector', 'perform community participation consortium different level academician citizen school urban agriculturist generate urban health awareness81 82 83way forward surat prima facie would work upon prioritization initiative', 'based time frame priority initiative implemented city', 'despite financially independent compared many cite surat still depend state central finance various developmental project', 'incorporate resilience existing forthcoming citylevel project well leverage fund resilience strategy suggests developing synergy ongoing planned program', 'prioritization initiative would thus help aligning state central going policy', 'resilience strategy includes plan inform influence state national level stakeholder sharing lesson learned city resilience intervention', 'therefore developing series resilience informed ready use dprs important city access fund resource various program opportunity arise', 'dprs empower city leverage resource building resilience well develop capacity appreciate resilience', 'input international national platform strategic partner best practice useful developing sectorspecific dprs100rc network provided city large refined prestigious excellent expertise platform partner expert advisor associated helping city connect', 'identifying approaching platform partner expert advisor would next step help city implement resilience initiative peer interested partner', 'currently city largely depends national state government funding apart local source', 'surat wide spread economic sector innovative idea could adopted raise resource public private holding', 'identifying resource would align city towards spear heading implementation resilience initiative', 'best way forward align city hierarchy initiative importance level implementation period connecting platform partner advisor identified fund resource local state central policy', 'rightly said end even beginning end', 'perhaps end beginning', '84 car parked flyover 2006 flood photograph credit taru india85glossary chief resilience officer —the driver principal owner author city ’ resilience strategy', 'field opportunity —the range initiative city could undertake build resilience generated strategy process assessed end phase ii', 'discovery area – important area discovery phase ii activity resilience strategy', 'discovery working group —various individual representing diverse multidimensional stakeholder interest within outside city government contribute time expertise conduct analysis phase ii resilience strategy phase ii —building mobilization analysis phase', 'phase ii cro partner diverse interdisciplinary team platform partner explore challenge innovate solution generating city ’ defined discovery area', 'platform partner —partners private public academic nonprofit sector agreed provide 100rc member city free access resiliencebuilding tool service technical assistance', 'preliminary resilience assessment —establishes baseline understanding city ’ strength weakness using holistic understanding resilience described city resilience framework', 'resilience lens —an analytical framework evaluate option ensure city action achieve multiple positive outcome mitigating negative consequence', 'resilience strategy —a tactical roadmap build resilience city', 'strategy articulates city ’ resilience priority specific initiative short medium longterm implementation', 'risk—a function likelihoodprobability shock stress combined consequence shock stress', 'scope work —an outline customized approach method role responsibility cro city strategy partner partner phase ii strategy development process', 'stakeholder —individuals group within outside city government influence capacity build resilience representative diverse interest need civic private public sectorssteering committee —a small group highlevel multisector decisionmakers responsible overseeing governance support resilience strategy', 'strategy —the overall collection priority initiative action plan cro stakeholder identify implement build resilience city', 'strategy partner —the consultant team hired 100rc support cro strategy development process', 'working team —the team responsible daytoday task carry resilience strategy development process', 'team minimum includes cro strategy partner 100rc relationship manager86references relevant website relevant articles100rc', '2015', 'strategy guidance manual developing highim pact resilience strategy', 'version 20', '100rc taru leading edge pvt', 'ltd 2014', '‘ 100 rc agenda setting surat city workshop summary ’ 100rc taru leading edge pvt', 'ltd 2016', '‘ preliminary silience assessment pra ’ acccrn', 'taru leading edge pvt', 'ltd 2011', '‘ surat city resil ience strategy ’ arup', 'rockefeller foundation', '2014', '‘ city resilience index city resilience framework ’ cg', 'patel institute technology', 'india', '2015', '‘ appraisal study brts surata sustainable urban transport centre social study', '2006', '‘ surat 2006 flood citizen ’ report ’ centre social study', '2010', '‘ learning live flood surat ’ cept university', 'tech infrastructure engineering design mied 2016', '‘ urban transport infrastructure design utid stu dio surat ’ indian journal research', '2015', '‘ study urban transporta tion system surat city ’ port transport department', 'government gujarat', '2015', '‘ draft state road safety policy ’ sarvajanik college engineering technology', '2015', '‘ traffic junction audit ’ surat municipal corporation', 'surat urban development authori ty cept university', '20062012', '‘ city development plan ’ surat smart city development limited', '2016', '‘ surat smart city proposal ’ surat city police', '2015', '‘ suraksha setu', 'safe city project report ’ veolia', '2016', '‘ city resilience strategy ’ central pollution control board', 'online', 'cpcbnicincensus india', 'online', 'http censusindiagovin gujarat pollution control board', 'online', 'http wwwgpcb', 'govin india meteorological department', 'online', 'http wwwimd', 'govin ministry urban development', 'government gujarat', 'online', 'http moudgovin urban development urban housing department', 'government gujarat', 'online', 'http wwwuddgujaratgov', 'surat municipal corporation', 'online', 'http www', 'suratmunicipalgovin surat urban development authority', 'online', 'http www', 'sudaonlineorg sarbeswara sahoo mahatma gandhi labour institute', '‘ impact global economic recession livelihood diamond worker case study gujarat india ’ online globallabouruniversityorgfileadmingluconference2010athttp wwwpapers21impactofglobaleconomicrecessiononthelivelihoodofdiamondpdf singapore national water agency', '2016', '‘ four national tap ’', 'online athttps wwwpubgovsgwatersupplyfournationaltaps time india', '2016', '‘ 23l housing demand highest surat 201620 ’ online http timesofindiaindiatimescomcityahmedabadat23lhousingdemandtobehighestinsuratduring201620articleshow53555306cms undpunited nation development programme', '2009', '‘ global economic crisis impact poor india synthesis sector study ’', 'online http wwwinundporgcontentdamindiadocsexesumfinalpdf87 mr kanani mr bhairav desai mr gaurang ramus mr jitubhai vakharia mr mangar m bhamini patel dr gaurav shethia mr kantibhai bhanderi mr parmar prof bhargav adhvaryu m geeta shrof mr k h khatwani mr abhishek lengade prof bhavana vimawala mr girish luthara mr k shah mr abhishek rathi mr bhavesh tailor mr harsh sanghavi mla mr kanjibhai balala mr ajay choksi mla mr bhavesh takodia mr harshil delivala mr kashyap desai dr akash acharya mr bhavin patil m hemali shah mr ketan shah mr anand vashi mr brijesh patel dr hemant bulsara mr keyur rana mr anil goplani dr c n ray mr hemrashmi parekh mr keyur solanki mr anil h biscuitwala mr c r patil mp mr himanshu bhatt dr kiran pandya mr anil saraogi mr c bhatt prof himanshu padhya mr krupesh chauhan mr arif nalbandh mr chandrakant jariwala dr hiren h patel mr kumar kanani mla mr arjun joshi dr chandresh jardosh mr hiren vepari mr nagarajanias mr arpit parmar dr chetan choksi mr hitesh patel mr thennarasan ia', 'mr ashish bhatiaips mr chetan shah mr hitesh shah mr mahendra patelias mr ashish desai mr r mehta m ila chhovala prof mahesh nagecha mr ashish gujarati mr darshan desai mr j k patel mr manoj agrawal dr ashish k panchal m darshna jardosh mp mr jagdish patel mr manoj sharma dr ashish naik mr devesh patel mr janak bagdanawala mla mr maqsood shaikh mr ashish navsariwala mr dinesh navadiya mr jatin desai mr mathur sawani m ashmita siroya mayor mr doctor nihar mr jatin shah mr maulik rao mr ashok kanungo mr e h pathan mr j patel mr maulin joshi mr ashutosh kawdia mr faruk hasan surti mr jaypraksh stiwari mr mayank dalal dr atul desai mr g k bhat mr jignesh patel mr milind torawane ia mr avinash p satasiya mr g j joshi mr jignesh r bhatt mr mohommed e jeena mr b agrawal mr ganesh gheriya mr jitendra k parmar mr mrunal shukla credit surat resilience strategy output incredible dedication effort input individual subject matter expert government organization well input nongovernmental organization elected member expert academician private sector leader contributed time energy share knowledge city helping u shape innovative strategy initiative', 'city project team would like thank following individual valuable inputs88 mr mukesh patel mla mr praful panseria mla mr sanjay saraogi mr yogesh desai prof muni rawal mr pramod thakare prof saswat bandyopadhyay m zankhana patel mla mr murutuza tarwala mr prashant b desai mr satyakam joshi mr nanubhai vanani mla mr pravinbhai ghoghari prof sejal patel mr naresh kapadia mr purnesh modi mr shankarlal chevli smc mr narottam patel mla m r c patel mr sharad kapadia mr narsimha komarips prof r christian prof shivrao mr nathu sosa mr r k purohit mr shyambhai agrawal mr natubhai patel mr r v gamit mr shyambhai gupta prof niket shastri mr rajendra kumar ia mr snehal patel mr nilesh patel mr rajesh desai smc dr sonal desai mr nirmalesh arya mr rajesh ravani mr suresh patel dr p l patel mr rakesh asthaana ip mr sureshbhai agrawal mr p n makwana mr ranjit gilitwala mla dr saurabh dalal mr p r shah m rina gamit dr swapnil patel mr p shah mr rohit mehta mr tejas patel mr p v sarma mr satish sharmaips mr uresh naik mr p k dutta dr channiwala m vaishali shah dr p l patel dr r gandhi dr vaishali mungurwadi mr p r prasad mr p shah mr vardan kabra mr p r shah mr saiyad ayaz m varsha patel mr parag shah mr sameer patel mr vatsal naik mr paresh shah mr sandip mahakal mr veljibhai sheta mr partha tripathy mr sangita patil mla mr vijay dhamelia dr parul vadgama mr sanjay mangukiya dr vikas desai mr piyush shah mr sanjay punjabi mr vinodbhai moradiya89']\n"
          ]
        }
      ],
      "source": [
        "import nltk\n",
        "from nltk.corpus import stopwords\n",
        "from nltk.stem import WordNetLemmatizer\n",
        "from nltk.tokenize import word_tokenize, sent_tokenize\n",
        "import string\n",
        "\n",
        "# Download necessary NLTK data\n",
        "nltk.download('punkt')\n",
        "nltk.download('stopwords')\n",
        "nltk.download('wordnet')\n",
        "nltk.download('omw-1.4')\n",
        "\n",
        "# Initialize a WordNetLemmatizer\n",
        "lemmatizer = WordNetLemmatizer()\n",
        "\n",
        "# Define a list of stopwords to be removed from the text\n",
        "stop_words = set(stopwords.words('english'))\n",
        "\n",
        "# Tokenize the text into sentences\n",
        "sentences = sent_tokenize(Surat_text)\n",
        "\n",
        "# Initialize an empty list to hold the preprocessed sentences\n",
        "preprocessed_sentences = []\n",
        "\n",
        "# Loop through each sentence\n",
        "for sentence in sentences:\n",
        "    # Remove punctuation and convert to lowercase\n",
        "    sentence = sentence.translate(str.maketrans('', '', string.punctuation)).lower()\n",
        "\n",
        "    # Tokenize the sentence into words\n",
        "    words = word_tokenize(sentence)\n",
        "\n",
        "    # Remove stopwords and lemmatize the words\n",
        "    words = [lemmatizer.lemmatize(word) for word in words if word not in stop_words]\n",
        "\n",
        "    # Add the preprocessed sentence to the list\n",
        "    preprocessed_sentences.append(' '.join(words))\n",
        "\n",
        "# Now 'preprocessed_sentences' contains the preprocessed text\n",
        "preprocessed_sentences\n",
        "\n",
        "print(preprocessed_sentences)"
      ]
    },
    {
      "cell_type": "code",
      "execution_count": null,
      "id": "e5c56cee-d9b2-41af-b8da-0676971feefc",
      "metadata": {
        "ExecuteTime": {
          "end_time": "2023-07-14T21:43:32.399909+00:00",
          "start_time": "2023-07-14T21:43:24.621388+00:00"
        },
        "jupyter": {
          "outputs_hidden": true
        },
        "noteable": {
          "cell_type": "code"
        }
      },
      "outputs": [],
      "source": [
        "!python -m spacy download en_core_web_sm"
      ]
    },
    {
      "cell_type": "markdown",
      "id": "e51cf359",
      "metadata": {},
      "source": [
        "### Spacy resilience metric"
      ]
    },
    {
      "cell_type": "code",
      "execution_count": 113,
      "id": "cef330f8-9144-46ff-a597-68524425cc4e",
      "metadata": {
        "ExecuteTime": {
          "end_time": "2023-07-14T21:44:34.150696+00:00",
          "start_time": "2023-07-14T21:44:22.815223+00:00"
        },
        "noteable": {
          "cell_type": "code"
        }
      },
      "outputs": [
        {
          "data": {
            "text/plain": [
              "['pollution',\n",
              " 'pollution',\n",
              " 'public health',\n",
              " 'social cohesion',\n",
              " 'waste management',\n",
              " 'connectivity mobility',\n",
              " 'affordable housing',\n",
              " 'affordable housing',\n",
              " 'water quality',\n",
              " 'pollution',\n",
              " 'water quality',\n",
              " 'economy',\n",
              " 'economy',\n",
              " 'environment ecosystem',\n",
              " 'pollution',\n",
              " 'pollution',\n",
              " 'social cohesion',\n",
              " 'social cohesion',\n",
              " 'public health',\n",
              " 'pollution',\n",
              " 'public health',\n",
              " 'affordable housing',\n",
              " 'pollution',\n",
              " 'crime',\n",
              " 'public health',\n",
              " 'public health',\n",
              " 'pollution',\n",
              " 'law enforcement',\n",
              " 'integration',\n",
              " 'connectivity mobility',\n",
              " 'connectivity mobility',\n",
              " 'environment ecosystem',\n",
              " 'public health',\n",
              " 'social cohesion',\n",
              " 'affordable housing',\n",
              " 'affordable housing',\n",
              " 'affordable housing',\n",
              " 'social cohesion',\n",
              " 'affordable housing',\n",
              " 'economy',\n",
              " 'economy',\n",
              " 'environment ecosystem',\n",
              " 'economy',\n",
              " 'public health',\n",
              " 'affordable housing',\n",
              " 'public health',\n",
              " 'social cohesion',\n",
              " 'public participation',\n",
              " 'environment ecosystem',\n",
              " 'connectivity mobility',\n",
              " 'environment ecosystem',\n",
              " 'public health',\n",
              " 'public health',\n",
              " 'connectivity mobility',\n",
              " 'pollution',\n",
              " 'law enforcement',\n",
              " 'affordable housing',\n",
              " 'affordable housing',\n",
              " 'affordable housing',\n",
              " 'affordable housing',\n",
              " 'affordable housing',\n",
              " 'affordable housing',\n",
              " 'affordable housing',\n",
              " 'affordable housing',\n",
              " 'affordable housing',\n",
              " 'affordable housing',\n",
              " 'affordable housing',\n",
              " 'affordable housing',\n",
              " 'affordable housing',\n",
              " 'integration',\n",
              " 'affordable housing',\n",
              " 'affordable housing',\n",
              " 'affordable housing',\n",
              " 'affordable housing',\n",
              " 'affordable housing',\n",
              " 'affordable housing',\n",
              " 'affordable housing',\n",
              " 'affordable housing',\n",
              " 'affordable housing',\n",
              " 'water quality',\n",
              " 'pollution',\n",
              " 'water quality',\n",
              " 'water quality',\n",
              " 'pollution',\n",
              " 'pollution',\n",
              " 'pollution',\n",
              " 'pollution',\n",
              " 'pollution',\n",
              " 'pollution',\n",
              " 'pollution',\n",
              " 'water quality',\n",
              " 'water quality',\n",
              " 'pollution',\n",
              " 'water quality',\n",
              " 'water quality',\n",
              " 'pollution',\n",
              " 'pollution',\n",
              " 'water quality',\n",
              " 'pollution',\n",
              " 'pollution',\n",
              " 'pollution',\n",
              " 'water quality',\n",
              " 'pollution',\n",
              " 'pollution',\n",
              " 'pollution',\n",
              " 'pollution',\n",
              " 'pollution',\n",
              " 'pollution',\n",
              " 'pollution',\n",
              " 'economy',\n",
              " 'economy',\n",
              " 'economy',\n",
              " 'economy',\n",
              " 'economy',\n",
              " 'economy',\n",
              " 'economy',\n",
              " 'economy',\n",
              " 'pollution',\n",
              " 'waste management',\n",
              " 'pollution',\n",
              " 'pollution',\n",
              " 'pollution',\n",
              " 'pollution',\n",
              " 'waste management',\n",
              " 'pollution',\n",
              " 'pollution',\n",
              " 'pollution',\n",
              " 'pollution',\n",
              " 'water quality',\n",
              " 'law enforcement',\n",
              " 'pollution',\n",
              " 'pollution',\n",
              " 'pollution',\n",
              " 'pollution',\n",
              " 'pollution',\n",
              " 'pollution',\n",
              " 'pollution',\n",
              " 'pollution',\n",
              " 'pollution',\n",
              " 'pollution',\n",
              " 'integration',\n",
              " 'pollution',\n",
              " 'pollution',\n",
              " 'pollution',\n",
              " 'pollution',\n",
              " 'pollution',\n",
              " 'pollution',\n",
              " 'pollution',\n",
              " 'waste management',\n",
              " 'waste management',\n",
              " 'pollution',\n",
              " 'pollution',\n",
              " 'pollution',\n",
              " 'pollution',\n",
              " 'pollution',\n",
              " 'pollution',\n",
              " 'pollution',\n",
              " 'pollution',\n",
              " 'pollution',\n",
              " 'pollution',\n",
              " 'pollution',\n",
              " 'waste management',\n",
              " 'waste management',\n",
              " 'social cohesion',\n",
              " 'social cohesion',\n",
              " 'social cohesion',\n",
              " 'crime',\n",
              " 'social cohesion',\n",
              " 'law enforcement',\n",
              " 'law enforcement',\n",
              " 'crime',\n",
              " 'social cohesion',\n",
              " 'social cohesion',\n",
              " 'public health',\n",
              " 'public health',\n",
              " 'pollution',\n",
              " 'pollution']"
            ]
          },
          "execution_count": 113,
          "metadata": {},
          "output_type": "execute_result"
        }
      ],
      "source": [
        "import spacy\n",
        "from spacy.matcher import Matcher\n",
        "\n",
        "# Load the Spacy model\n",
        "nlp = spacy.load('en_core_web_sm')\n",
        "\n",
        "# Initialize a Spacy Matcher\n",
        "matcher = Matcher(nlp.vocab)\n",
        "\n",
        "# Define patterns for the resilience metrics\n",
        "patterns = [\n",
        "    [{'LOWER': 'healthcare'}, {'LOWER': 'facilities'}],\n",
        "    [{'LOWER': 'clean'}, {'LOWER': 'water'}],\n",
        "    [{'LOWER': 'nutritious'}, {'LOWER': 'food'}],\n",
        "    [{'LOWER': 'employment'}, {'LOWER': 'opportunities'}],\n",
        "    [{'LOWER': 'income'}, {'LOWER': 'equality'}],\n",
        "    [{'LOWER': 'public'}, {'LOWER': 'health'}, {'LOWER': 'policies'}],\n",
        "    [{'LOWER': 'crime'}],\n",
        "    [{'LOWER': 'economic'}, {'LOWER': 'diversity'}],\n",
        "    [{'LOWER': 'local'}, {'LOWER': 'economy'}],\n",
        "    [{'LOWER': 'law'}, {'LOWER': 'enforcement'}],\n",
        "    [{'LOWER': 'social'}, {'LOWER': 'cohesion'}],\n",
        "    [{'LOWER': 'social'}, {'LOWER': 'inequality'}],\n",
        "    [{'LOWER': 'dispute'}, {'LOWER': 'resolution'}],\n",
        "    [{'LOWER': 'transportation'}, {'LOWER': 'infrastructure'}],\n",
        "    [{'LOWER': 'internet'}, {'LOWER': 'access'}],\n",
        "    [{'LOWER': 'utilities'}],\n",
        "    [{'LOWER': 'waste'}, {'LOWER': 'management'}],\n",
        "    [{'LOWER': 'natural'}, {'LOWER': 'resources'}],\n",
        "    [{'LOWER': 'environmental'}, {'LOWER': 'regulations'}],\n",
        "    [{'LOWER': 'government'}, {'LOWER': 'leadership'}],\n",
        "    [{'LOWER': 'corruption'}],\n",
        "    [{'LOWER': 'public'}, {'LOWER': 'participation'}],\n",
        "    [{'LOWER': 'education'}, {'LOWER': 'and'}, {'LOWER': 'training'}],\n",
        "    [{'LOWER': 'urban'}, {'LOWER': 'planning'}],\n",
        "    [{'LOWER': 'integration'}],\n",
        "    [{'LOWER': 'connectivity'}, {'LOWER': 'mobility'}],\n",
        "    [{'LOWER': 'affordable'}, {'LOWER': 'housing'}],\n",
        "    [{'LOWER': 'economy'}],\n",
        "    [{'LOWER': 'environment'}, {'LOWER': 'ecosystem'}],\n",
        "    [{'LOWER': 'social'}, {'LOWER': 'cohesion'}],\n",
        "    [{'LOWER': 'public'}, {'LOWER': 'health'}],\n",
        "    [{'LOWER': 'water'}, {'LOWER': 'quality'}],\n",
        "    [{'LOWER': 'water'}, {'LOWER': 'quantity'}],\n",
        "    [{'LOWER': 'pollution'}]\n",
        "]\n",
        "\n",
        "# Add the patterns to the matcher\n",
        "matcher.add('RESILIENCE_METRICS', patterns)\n",
        "\n",
        "# Initialize an empty list to hold the matched resilience metrics\n",
        "resilience_metrics = []\n",
        "\n",
        "# Loop through each preprocessed sentence\n",
        "for sentence in preprocessed_sentences:\n",
        "    # Convert the sentence to a Spacy Doc\n",
        "    doc = nlp(sentence)\n",
        "\n",
        "    # Find matches in the doc\n",
        "    matches = matcher(doc)\n",
        "\n",
        "    # Loop through each match\n",
        "    for match_id, start, end in matches:\n",
        "        # Get the matched span\n",
        "        span = doc[start:end]\n",
        "\n",
        "        # Add the matched resilience metric to the list\n",
        "        resilience_metrics.append(span.text)\n",
        "\n",
        "resilience_metrics\n",
        "\n",
        "\n"
      ]
    },
    {
      "cell_type": "code",
      "execution_count": 38,
      "id": "66ff5e13-dacb-4a23-85ca-a8ac68066ebd",
      "metadata": {
        "ExecuteTime": {
          "end_time": "2023-07-14T21:45:23.485383+00:00",
          "start_time": "2023-07-14T21:45:22.602107+00:00"
        },
        "noteable": {
          "cell_type": "code"
        }
      },
      "outputs": [
        {
          "data": {
            "image/png": "[encoded data removed]",
            "text/plain": [
              "<Figure size 720x432 with 1 Axes>"
            ]
          },
          "metadata": {
            "needs_background": "light"
          },
          "output_type": "display_data"
        }
      ],
      "source": [
        "from collections import Counter\n",
        "import matplotlib.pyplot as plt\n",
        "\n",
        "# Count the frequency of each resilience metric\n",
        "frequency_resilience = Counter(resilience_metrics)\n",
        "\n",
        "# Create a bar plot of the frequencies\n",
        "plt.figure(figsize=(10, 6))\n",
        "plt.barh(list(frequency_resilience.keys()), list(frequency_resilience.values()))\n",
        "plt.xlabel('Frequency')\n",
        "plt.title('Frequency of Resilience Metrics')\n",
        "plt.show()"
      ]
    },
    {
      "cell_type": "code",
      "execution_count": 11,
      "id": "7712681e",
      "metadata": {},
      "outputs": [
        {
          "name": "stdout",
          "output_type": "stream",
          "text": [
            "Requirement already satisfied: torch in c:\\users\\lifet\\anaconda3\\lib\\site-packages (2.0.1)\n",
            "Requirement already satisfied: networkx in c:\\users\\lifet\\anaconda3\\lib\\site-packages (from torch) (2.7.1)\n",
            "Requirement already satisfied: jinja2 in c:\\users\\lifet\\anaconda3\\lib\\site-packages (from torch) (2.11.3)\n",
            "Requirement already satisfied: typing-extensions in c:\\users\\lifet\\anaconda3\\lib\\site-packages (from torch) (4.7.1)\n",
            "Requirement already satisfied: filelock in c:\\users\\lifet\\anaconda3\\lib\\site-packages (from torch) (3.6.0)\n",
            "Requirement already satisfied: sympy in c:\\users\\lifet\\anaconda3\\lib\\site-packages (from torch) (1.10.1)\n",
            "Requirement already satisfied: MarkupSafe>=0.23 in c:\\users\\lifet\\anaconda3\\lib\\site-packages (from jinja2->torch) (2.0.1)\n",
            "Requirement already satisfied: mpmath>=0.19 in c:\\users\\lifet\\anaconda3\\lib\\site-packages (from sympy->torch) (1.2.1)\n",
            "Requirement already satisfied: transformers in c:\\users\\lifet\\anaconda3\\lib\\site-packages (4.31.0)\n",
            "Requirement already satisfied: tokenizers!=0.11.3,<0.14,>=0.11.1 in c:\\users\\lifet\\anaconda3\\lib\\site-packages (from transformers) (0.13.3)\n",
            "Requirement already satisfied: tqdm>=4.27 in c:\\users\\lifet\\anaconda3\\lib\\site-packages (from transformers) (4.64.0)\n",
            "Requirement already satisfied: packaging>=20.0 in c:\\users\\lifet\\anaconda3\\lib\\site-packages (from transformers) (21.3)\n",
            "Requirement already satisfied: numpy>=1.17 in c:\\users\\lifet\\anaconda3\\lib\\site-packages (from transformers) (1.24.3)\n",
            "Requirement already satisfied: huggingface-hub<1.0,>=0.14.1 in c:\\users\\lifet\\anaconda3\\lib\\site-packages (from transformers) (0.16.4)\n",
            "Requirement already satisfied: regex!=2019.12.17 in c:\\users\\lifet\\anaconda3\\lib\\site-packages (from transformers) (2022.3.15)\n",
            "Requirement already satisfied: requests in c:\\users\\lifet\\anaconda3\\lib\\site-packages (from transformers) (2.27.1)\n",
            "Requirement already satisfied: safetensors>=0.3.1 in c:\\users\\lifet\\anaconda3\\lib\\site-packages (from transformers) (0.3.1)\n",
            "Requirement already satisfied: pyyaml>=5.1 in c:\\users\\lifet\\anaconda3\\lib\\site-packages (from transformers) (6.0)\n",
            "Requirement already satisfied: filelock in c:\\users\\lifet\\anaconda3\\lib\\site-packages (from transformers) (3.6.0)\n",
            "Requirement already satisfied: fsspec in c:\\users\\lifet\\anaconda3\\lib\\site-packages (from huggingface-hub<1.0,>=0.14.1->transformers) (2022.2.0)\n",
            "Requirement already satisfied: typing-extensions>=3.7.4.3 in c:\\users\\lifet\\anaconda3\\lib\\site-packages (from huggingface-hub<1.0,>=0.14.1->transformers) (4.7.1)\n",
            "Requirement already satisfied: pyparsing!=3.0.5,>=2.0.2 in c:\\users\\lifet\\anaconda3\\lib\\site-packages (from packaging>=20.0->transformers) (3.0.4)\n",
            "Requirement already satisfied: colorama in c:\\users\\lifet\\anaconda3\\lib\\site-packages (from tqdm>=4.27->transformers) (0.4.6)\n",
            "Requirement already satisfied: idna<4,>=2.5 in c:\\users\\lifet\\anaconda3\\lib\\site-packages (from requests->transformers) (3.3)\n",
            "Requirement already satisfied: charset-normalizer~=2.0.0 in c:\\users\\lifet\\anaconda3\\lib\\site-packages (from requests->transformers) (2.0.4)\n",
            "Requirement already satisfied: urllib3<1.27,>=1.21.1 in c:\\users\\lifet\\anaconda3\\lib\\site-packages (from requests->transformers) (1.26.9)\n",
            "Requirement already satisfied: certifi>=2017.4.17 in c:\\users\\lifet\\anaconda3\\lib\\site-packages (from requests->transformers) (2021.10.8)\n"
          ]
        }
      ],
      "source": [
        "!pip install torch\n",
        "!pip install transformers"
      ]
    },
    {
      "cell_type": "code",
      "execution_count": 114,
      "id": "ae3cbf5b",
      "metadata": {},
      "outputs": [
        {
          "name": "stderr",
          "output_type": "stream",
          "text": [
            "[nltk_data] Downloading package punkt to\n",
            "[nltk_data]     C:\\Users\\lifet\\AppData\\Roaming\\nltk_data...\n",
            "[nltk_data]   Package punkt is already up-to-date!\n"
          ]
        },
        {
          "name": "stdout",
          "output_type": "stream",
          "text": [
            "                                             Sentence Sentiment     Score\n",
            "0   the city invites all allies to act for, and co...  POSITIVE  0.998330\n",
            "1   nd orientation\\nsurat resilience pillars, goal...  NEGATIVE  0.929081\n",
            "2   of real estate developers’ associations of ind...  NEGATIVE  0.958493\n",
            "3   ion system\\ngmfb gujarat municipal finance boa...  NEGATIVE  0.983544\n",
            "4   inistry of health and family welfare\\nmoud min...  NEGATIVE  0.968988\n",
            "..                                                ...       ...       ...\n",
            "86  brief\\ngreen cover in the city leads to cleane...  NEGATIVE  0.996489\n",
            "87  this further increases the stress on the city’...  POSITIVE  0.991987\n",
            "88  surat is said to have lost its unique culture,...  NEGATIVE  0.999743\n",
            "89  ‘city resilience strategy’ central pollution c...  NEGATIVE  0.514001\n",
            "90  http:/ /censusindia.gov.in/\\ngujarat pollution...  NEGATIVE  0.976134\n",
            "\n",
            "[91 rows x 3 columns]\n"
          ]
        }
      ],
      "source": [
        "from transformers import pipeline\n",
        "import pandas as pd\n",
        "import nltk\n",
        "nltk.download('punkt')\n",
        "\n",
        "# Create a sentiment analysis pipeline\n",
        "sentiment_analyzer = pipeline(\"sentiment-analysis\", model='distilbert-base-uncased-finetuned-sst-2-english')\n",
        "\n",
        "# Tokenize the Surat text into sentences\n",
        "surat_sentences = nltk.tokenize.sent_tokenize(Surat_text.lower())\n",
        "\n",
        "# Define resilience metrics\n",
        "resilience_metrics = ['public participation', 'integration', 'law enforcement', 'crime', 'environment ecosystem', 'economy', 'water quality', 'affordable housing', 'connectivity mobility', 'waste management', 'social cohesion', 'public health', 'pollution']\n",
        "\n",
        "# Convert resilience metrics to lower case\n",
        "resilience_metrics = [metric.lower() for metric in resilience_metrics]\n",
        "\n",
        "# Initialize an empty list to hold the results\n",
        "results = []\n",
        "\n",
        "# Analyze the sentiment of each sentence containing a resilience metric\n",
        "for sentence in surat_sentences:\n",
        "    if any(metric in nltk.tokenize.word_tokenize(sentence) for metric in resilience_metrics):\n",
        "        # Split long sentences into chunks of 512 tokens\n",
        "        sentence_chunks = [sentence[i:i+512] for i in range(0, len(sentence), 512)]\n",
        "        for chunk in sentence_chunks:\n",
        "            result = sentiment_analyzer(chunk)\n",
        "            results.append([chunk, result[0]['label'], result[0]['score']])\n",
        "\n",
        "# Convert the results list to a DataFrame\n",
        "df = pd.DataFrame(results, columns=['Sentence', 'Sentiment', 'Score'])\n",
        "\n",
        "# Print the DataFrame\n",
        "print(df)\n",
        "\n",
        "df.to_csv('sentiment_analysis_results.csv', index=False)\n"
      ]
    },
    {
      "cell_type": "code",
      "execution_count": 115,
      "id": "bda50596",
      "metadata": {},
      "outputs": [
        {
          "name": "stdout",
          "output_type": "stream",
          "text": [
            "           Word Sentiment     Score\n",
            "0     pollution  NEGATIVE  0.999501\n",
            "3       economy  POSITIVE  0.998665\n",
            "9         crime  NEGATIVE  0.993622\n",
            "11  integration  POSITIVE  0.999180\n"
          ]
        }
      ],
      "source": [
        "# Create a sentiment analysis pipeline\n",
        "sentiment_analyzer = pipeline(\"sentiment-analysis\", model='distilbert-base-uncased-finetuned-sst-2-english')\n",
        "\n",
        "# Tokenize the Surat text into words\n",
        "surat_words = nltk.tokenize.word_tokenize(Surat_text.lower())\n",
        "\n",
        "# Define resilience metrics\n",
        "resilience_metrics = ['public participation', 'integration', 'law enforcement', 'crime', 'environment ecosystem', 'economy', 'water quality', 'affordable housing', 'connectivity mobility', 'waste management', 'social cohesion', 'public health', 'pollution']\n",
        "\n",
        "# Convert resilience metrics to lower case\n",
        "resilience_metrics = [metric.lower() for metric in resilience_metrics]\n",
        "\n",
        "# Initialize an empty list to hold the results\n",
        "results = []\n",
        "\n",
        "# Analyze the sentiment of each word that is a resilience metric\n",
        "for word in surat_words:\n",
        "    if word in resilience_metrics:\n",
        "        result = sentiment_analyzer(word)\n",
        "        results.append([word, result[0]['label'], result[0]['score']])\n",
        "\n",
        "# Convert the results list to a DataFrame\n",
        "df = pd.DataFrame(results, columns=['Word', 'Sentiment', 'Score'])\n",
        "\n",
        "df = df.drop_duplicates()\n",
        "\n",
        "# Print the DataFrame\n",
        "print(df)\n"
      ]
    },
    {
      "cell_type": "markdown",
      "id": "7b3b7a3e",
      "metadata": {},
      "source": [
        "#### LDA Model - Topic modeling top 10"
      ]
    },
    {
      "cell_type": "code",
      "execution_count": 116,
      "id": "81dd05bf-37c6-4062-ba05-dbfc372ccfc1",
      "metadata": {
        "ExecuteTime": {
          "end_time": "2023-07-14T21:49:18.055831+00:00",
          "start_time": "2023-07-14T21:49:12.620825+00:00"
        },
        "noteable": {
          "cell_type": "code"
        }
      },
      "outputs": [
        {
          "data": {
            "text/plain": [
              "[(0,\n",
              "  '0.049*\"city\" + 0.030*\"percent\" + 0.025*\"water\" + 0.023*\"issue\" + 0.022*\"challenge\" + 0.020*\"support\" + 0.020*\"sector\" + 0.018*\"initiative\" + 0.016*\"vehicle\" + 0.016*\"economy\"'),\n",
              " (1,\n",
              "  '0.092*\"water\" + 0.054*\"supply\" + 0.043*\"surat\" + 0.042*\"technology\" + 0.039*\"engineer\" + 0.024*\"department\" + 0.022*\"city\" + 0.017*\"tapi\" + 0.017*\"institute\" + 0.015*\"opportunity\"'),\n",
              " (2,\n",
              "  '0.075*\"surat\" + 0.063*\"water\" + 0.044*\"corporation\" + 0.042*\"municipal\" + 0.036*\"city\" + 0.024*\"department\" + 0.021*\"strategy\" + 0.019*\"development\" + 0.019*\"cell\" + 0.017*\"pollution\"'),\n",
              " (3,\n",
              "  '0.086*\"city\" + 0.028*\"industrial\" + 0.026*\"surat\" + 0.025*\"water\" + 0.023*\"area\" + 0.021*\"increase\" + 0.020*\"monitor\" + 0.020*\"pollution\" + 0.019*\"policy\" + 0.019*\"flood\"'),\n",
              " (4,\n",
              "  '0.083*\"city\" + 0.072*\"surat\" + 0.040*\"traffic\" + 0.029*\"road\" + 0.020*\"transport\" + 0.019*\"state\" + 0.019*\"policy\" + 0.018*\"initiative\" + 0.016*\"smart\" + 0.016*\"public\"'),\n",
              " (5,\n",
              "  '0.097*\"resilience\" + 0.065*\"health\" + 0.047*\"surat\" + 0.044*\"city\" + 0.041*\"climate\" + 0.038*\"strategy\" + 0.032*\"urban\" + 0.023*\"build\" + 0.020*\"municipal\" + 0.018*\"change\"'),\n",
              " (6,\n",
              "  '0.082*\"house\" + 0.047*\"affordable\" + 0.036*\"development\" + 0.026*\"scheme\" + 0.026*\"india\" + 0.023*\"city\" + 0.020*\"gujarat\" + 0.019*\"initiative\" + 0.019*\"plan\" + 0.018*\"urban\"'),\n",
              " (7,\n",
              "  '0.074*\"surat\" + 0.032*\"development\" + 0.031*\"city\" + 0.027*\"center\" + 0.026*\"urban\" + 0.025*\"social\" + 0.025*\"gujarat\" + 0.023*\"india\" + 0.022*\"industry\" + 0.022*\"patel\"'),\n",
              " (8,\n",
              "  '0.090*\"surat\" + 0.043*\"gujarat\" + 0.034*\"city\" + 0.019*\"awareness\" + 0.018*\"development\" + 0.016*\"resilience\" + 0.015*\"energy\" + 0.015*\"national\" + 0.015*\"tapi\" + 0.014*\"management\"'),\n",
              " (9,\n",
              "  '0.043*\"city\" + 0.037*\"population\" + 0.034*\"surat\" + 0.034*\"waste\" + 0.033*\"growth\" + 0.026*\"people\" + 0.024*\"conservation\" + 0.023*\"water\" + 0.019*\"capacity\" + 0.018*\"solid\"')]"
            ]
          },
          "execution_count": 116,
          "metadata": {},
          "output_type": "execute_result"
        }
      ],
      "source": [
        "\n",
        "from gensim import corpora, models\n",
        "from gensim.utils import simple_preprocess\n",
        "from gensim.parsing.preprocessing import STOPWORDS\n",
        "from nltk.stem import WordNetLemmatizer\n",
        "import numpy as np\n",
        "np.random.seed(153)\n",
        "\n",
        "def lemmatize(Surat_text):\n",
        "    return WordNetLemmatizer().lemmatize(Surat_text, pos='v')\n",
        "\n",
        "def preprocess(Surat_text):\n",
        "    result = []\n",
        "    for token in simple_preprocess(Surat_text):\n",
        "        if token not in STOPWORDS and len(token) > 3:\n",
        "            result.append(lemmatize(token))\n",
        "    return result\n",
        "\n",
        "# Preprocess the text\n",
        "processed_docs = [preprocess(doc) for doc in preprocessed_sentences]\n",
        "\n",
        "# Create a dictionary representation of the documents\n",
        "dictionary = corpora.Dictionary(processed_docs)\n",
        "\n",
        "# Filter out words that occur less than 10 documents, or more than 50% of the documents\n",
        "dictionary.filter_extremes(no_below=10, no_above=0.5)\n",
        "\n",
        "# Create Bag-of-words representation of the documents\n",
        "corpus = [dictionary.doc2bow(doc) for doc in processed_docs]\n",
        "\n",
        "# Train the LDA model\n",
        "lda_model = models.LdaModel(corpus, num_topics=10, id2word=dictionary, passes=5)\n",
        "\n",
        "# Print the Keyword in the 10 topics\n",
        "lda_model.print_topics()\n"
      ]
    },
    {
      "cell_type": "code",
      "execution_count": 95,
      "id": "f4265cd1-efb4-4538-9afd-d8dadcb4a09b",
      "metadata": {
        "ExecuteTime": {
          "end_time": "2023-07-14T21:51:03.437108+00:00",
          "start_time": "2023-07-14T21:51:02.689721+00:00"
        },
        "noteable": {
          "cell_type": "code"
        }
      },
      "outputs": [
        {
          "data": {
            "text/plain": [
              "[('water', 0.9981004595756531),\n",
              " ('city', 0.9979302287101746),\n",
              " ('house', 0.9979143738746643),\n",
              " ('policy', 0.9977485537528992),\n",
              " ('strategy', 0.9977234601974487),\n",
              " ('area', 0.9977015852928162),\n",
              " ('initiative', 0.9976964592933655),\n",
              " ('development', 0.9976584911346436),\n",
              " ('surat', 0.9976113438606262),\n",
              " ('project', 0.9974467754364014),\n",
              " ('technology', 0.9974449276924133),\n",
              " ('gujarat', 0.997386634349823),\n",
              " ('urban', 0.9972599744796753),\n",
              " ('monitor', 0.9972387552261353),\n",
              " ('supply', 0.9972198009490967),\n",
              " ('resilience', 0.9971844553947449),\n",
              " ('develop', 0.9971779584884644),\n",
              " ('transport', 0.9971605539321899),\n",
              " ('traffic', 0.9971467852592468),\n",
              " ('awareness', 0.9971388578414917)]"
            ]
          },
          "execution_count": 95,
          "metadata": {},
          "output_type": "execute_result"
        }
      ],
      "source": [
        "from gensim.models import Word2Vec\n",
        "\n",
        "# Train a Word2Vec model\n",
        "model = Word2Vec(processed_docs, min_count=1)\n",
        "\n",
        "# Vector for challenge\n",
        "resilience_vector = model.wv['pollution']\n",
        "\n",
        "# Similar word for challenge\n",
        "similar_words = model.wv.most_similar('pollution', topn=20)\n",
        "\n",
        "similar_words"
      ]
    },
    {
      "cell_type": "code",
      "execution_count": 117,
      "id": "44c19ba1-397c-41ae-a0c2-b6c370542e4b",
      "metadata": {
        "ExecuteTime": {
          "end_time": "2023-07-14T21:52:32.190649+00:00",
          "start_time": "2023-07-14T21:52:31.040670+00:00"
        },
        "noteable": {
          "cell_type": "code"
        }
      },
      "outputs": [
        {
          "data": {
            "text/plain": [
              "[('mr', 0.9985212683677673),\n",
              " ('surat', 0.9983361959457397),\n",
              " ('water', 0.9982829689979553),\n",
              " ('develop', 0.9980910420417786),\n",
              " ('city', 0.9980683326721191),\n",
              " ('road', 0.9979090690612793),\n",
              " ('quality', 0.9978646636009216),\n",
              " ('increase', 0.9978590607643127),\n",
              " ('area', 0.9978481531143188),\n",
              " ('supply', 0.9978038668632507),\n",
              " ('urban', 0.9977394938468933),\n",
              " ('river', 0.9977121949195862),\n",
              " ('resilience', 0.9977015256881714),\n",
              " ('initiative', 0.9976963996887207),\n",
              " ('support', 0.9976727962493896),\n",
              " ('policy', 0.9976704716682434),\n",
              " ('build', 0.9976574778556824),\n",
              " ('affordable', 0.9976359605789185),\n",
              " ('house', 0.9976300597190857),\n",
              " ('research', 0.9976227879524231)]"
            ]
          },
          "execution_count": 117,
          "metadata": {},
          "output_type": "execute_result"
        }
      ],
      "source": [
        "def preprocess_modified(Surat_text):\n",
        "    result = []\n",
        "    for token in simple_preprocess(Surat_text):\n",
        "        if token not in STOPWORDS:\n",
        "            result.append(lemmatize(token))\n",
        "    return result\n",
        "\n",
        "# Preprocess the text with modified preprocessing function\n",
        "processed_docs_modified = [preprocess_modified(doc) for doc in preprocessed_sentences]\n",
        "\n",
        "# Train a Word2Vec model with modified preprocessing\n",
        "model_modified = Word2Vec(processed_docs_modified, min_count=1)\n",
        "\n",
        "# Try to get the vector for 'resilience'\n",
        "try:\n",
        "    resilience_vector_modified = model_modified.wv['pollution']\n",
        "    similar_words_modified = model_modified.wv.most_similar('pollution', topn=20)\n",
        "except KeyError:\n",
        "    similar_words_modified = 'The word resilience is still not in the vocabulary.'\n",
        "\n",
        "similar_words_modified\n"
      ]
    },
    {
      "cell_type": "code",
      "execution_count": 16,
      "id": "0f4fbc55",
      "metadata": {},
      "outputs": [],
      "source": [
        "import gensim.downloader as api\n"
      ]
    },
    {
      "cell_type": "code",
      "execution_count": 97,
      "id": "0db3f7b4-1062-4385-b3ce-0a589f530de0",
      "metadata": {
        "ExecuteTime": {
          "end_time": "2023-07-14T23:02:42.864963+00:00",
          "start_time": "2023-07-14T23:00:43.390647+00:00"
        },
        "jupyter": {
          "outputs_hidden": false,
          "source_hidden": false
        },
        "noteable": {
          "cell_type": "code"
        }
      },
      "outputs": [
        {
          "data": {
            "text/plain": [
              "[('emissions', 0.6847870945930481),\n",
              " ('pollutants', 0.6770709753036499),\n",
              " ('environmental', 0.6384705901145935),\n",
              " ('smog', 0.6194671988487244),\n",
              " ('polluted', 0.6174101233482361),\n",
              " ('dioxide', 0.597844123840332),\n",
              " ('pollutant', 0.5828356146812439),\n",
              " ('carbon', 0.5641278624534607),\n",
              " ('greenhouse', 0.5608704686164856),\n",
              " ('emission', 0.5505319833755493)]"
            ]
          },
          "execution_count": 97,
          "metadata": {},
          "output_type": "execute_result"
        }
      ],
      "source": [
        "# Download the 'glove-wiki-gigaword-300' model\n",
        "glove_model = api.load('glove-wiki-gigaword-300')\n",
        "\n",
        "try:\n",
        "    resilience_vector_glove = glove_model['pollution']\n",
        "    similar_words_glove = glove_model.most_similar('pollution', topn=10)\n",
        "except KeyError:\n",
        "    similar_words_glove = 'The word resilience is still not in the vocabulary.'\n",
        "\n",
        "similar_words_glove"
      ]
    },
    {
      "cell_type": "code",
      "execution_count": 18,
      "id": "5b893291-c104-4634-a33f-aeec00dd6d15",
      "metadata": {
        "ExecuteTime": {
          "end_time": "2023-07-14T23:05:24.225117+00:00",
          "start_time": "2023-07-14T23:05:18.999359+00:00"
        },
        "noteable": {
          "cell_type": "code"
        }
      },
      "outputs": [
        {
          "name": "stderr",
          "output_type": "stream",
          "text": [
            "ERROR: Could not install packages due to an OSError: [WinError 5] Access is denied: 'C:\\\\Users\\\\lifet\\\\anaconda3\\\\Lib\\\\site-packages\\\\~-mpy\\\\.libs\\\\libopenblas64__v0.3.21-gcc_10_3_0.dll'\n",
            "Consider using the `--user` option or check the permissions.\n",
            "\n"
          ]
        }
      ],
      "source": [
        "!pip install -q scikit-learn"
      ]
    },
    {
      "cell_type": "code",
      "execution_count": 130,
      "id": "b49544e2",
      "metadata": {},
      "outputs": [
        {
          "name": "stdout",
          "output_type": "stream",
          "text": [
            "       Resilience Metrics\n",
            "0    public participation\n",
            "1             integration\n",
            "2         law enforcement\n",
            "3                   crime\n",
            "4   environment ecosystem\n",
            "5                 economy\n",
            "6           water quality\n",
            "7      affordable housing\n",
            "8   connectivity mobility\n",
            "9        waste management\n",
            "10        social cohesion\n",
            "11          public health\n",
            "12              pollution\n"
          ]
        },
        {
          "data": {
            "text/html": [
              "<div>\n",
              "<style scoped>\n",
              "    .dataframe tbody tr th:only-of-type {\n",
              "        vertical-align: middle;\n",
              "    }\n",
              "\n",
              "    .dataframe tbody tr th {\n",
              "        vertical-align: top;\n",
              "    }\n",
              "\n",
              "    .dataframe thead th {\n",
              "        text-align: right;\n",
              "    }\n",
              "</style>\n",
              "<table border=\"1\" class=\"dataframe\">\n",
              "  <thead>\n",
              "    <tr style=\"text-align: right;\">\n",
              "      <th></th>\n",
              "      <th>Term</th>\n",
              "      <th>TF-IDF Score</th>\n",
              "    </tr>\n",
              "  </thead>\n",
              "  <tbody>\n",
              "    <tr>\n",
              "      <th>0</th>\n",
              "      <td>pollution</td>\n",
              "      <td>0.832656</td>\n",
              "    </tr>\n",
              "    <tr>\n",
              "      <th>1</th>\n",
              "      <td>affordable housing</td>\n",
              "      <td>0.434429</td>\n",
              "    </tr>\n",
              "    <tr>\n",
              "      <th>2</th>\n",
              "      <td>water quality</td>\n",
              "      <td>0.181012</td>\n",
              "    </tr>\n",
              "    <tr>\n",
              "      <th>3</th>\n",
              "      <td>economy</td>\n",
              "      <td>0.168945</td>\n",
              "    </tr>\n",
              "    <tr>\n",
              "      <th>4</th>\n",
              "      <td>social cohesion</td>\n",
              "      <td>0.144810</td>\n",
              "    </tr>\n",
              "    <tr>\n",
              "      <th>5</th>\n",
              "      <td>public health</td>\n",
              "      <td>0.144810</td>\n",
              "    </tr>\n",
              "    <tr>\n",
              "      <th>6</th>\n",
              "      <td>waste management</td>\n",
              "      <td>0.084472</td>\n",
              "    </tr>\n",
              "    <tr>\n",
              "      <th>7</th>\n",
              "      <td>law enforcement</td>\n",
              "      <td>0.060337</td>\n",
              "    </tr>\n",
              "    <tr>\n",
              "      <th>8</th>\n",
              "      <td>crime</td>\n",
              "      <td>0.048270</td>\n",
              "    </tr>\n",
              "    <tr>\n",
              "      <th>9</th>\n",
              "      <td>integration</td>\n",
              "      <td>0.036202</td>\n",
              "    </tr>\n",
              "    <tr>\n",
              "      <th>10</th>\n",
              "      <td>public participation</td>\n",
              "      <td>0.012067</td>\n",
              "    </tr>\n",
              "    <tr>\n",
              "      <th>11</th>\n",
              "      <td>connectivity mobility</td>\n",
              "      <td>0.012067</td>\n",
              "    </tr>\n",
              "    <tr>\n",
              "      <th>12</th>\n",
              "      <td>environment ecosystem</td>\n",
              "      <td>0.000000</td>\n",
              "    </tr>\n",
              "  </tbody>\n",
              "</table>\n",
              "</div>"
            ],
            "text/plain": [
              "                     Term  TF-IDF Score\n",
              "0               pollution      0.832656\n",
              "1      affordable housing      0.434429\n",
              "2           water quality      0.181012\n",
              "3                 economy      0.168945\n",
              "4         social cohesion      0.144810\n",
              "5           public health      0.144810\n",
              "6        waste management      0.084472\n",
              "7         law enforcement      0.060337\n",
              "8                   crime      0.048270\n",
              "9             integration      0.036202\n",
              "10   public participation      0.012067\n",
              "11  connectivity mobility      0.012067\n",
              "12  environment ecosystem      0.000000"
            ]
          },
          "execution_count": 130,
          "metadata": {},
          "output_type": "execute_result"
        }
      ],
      "source": [
        "import pandas as pd\n",
        "from sklearn.feature_extraction.text import TfidfVectorizer\n",
        "\n",
        "# Define the resilience metrics\n",
        "resilience_metrics = ['public participation', 'integration', 'law enforcement', 'crime', 'environment ecosystem', 'economy', 'water quality', 'affordable housing', 'connectivity mobility', 'waste management', 'social cohesion', 'public health', 'pollution']\n",
        "\n",
        "# Create a DataFrame from the resilience metrics\n",
        "df = pd.DataFrame({'Resilience Metrics': resilience_metrics})\n",
        "\n",
        "# Remove duplicates\n",
        "df = df.drop_duplicates()\n",
        "print(df)\n",
        "\n",
        "# Convert the text and the resilience metrics to lower case\n",
        "Surat_text_lower = Surat_text.lower()\n",
        "resilience_metrics_lower = [metric.lower() for metric in resilience_metrics]\n",
        "\n",
        "# Initialize the TfidfVectorizer with the lower case resilience metrics and ngram_range set to (1, 2)\n",
        "vectorizer = TfidfVectorizer(vocabulary=resilience_metrics_lower, ngram_range=(1, 2))\n",
        "\n",
        "# Fit and transform the vectorizer on the lower case Surat text\n",
        "X = vectorizer.fit_transform([Surat_text_lower])\n",
        "\n",
        "# Get the feature names and the TF-IDF scores\n",
        "feature_names = vectorizer.get_feature_names_out()\n",
        "scores = X.toarray()[0]\n",
        "\n",
        "# Combining feature names and scores\n",
        "features_scores = list(zip(feature_names, scores))\n",
        "\n",
        "# Sort tuple list by score in descending order\n",
        "features_scores_sorted = sorted(features_scores, key=lambda x: x[1], reverse=True)\n",
        "\n",
        "# Create a DataFrame from the sorted feature scores\n",
        "df = pd.DataFrame(features_scores_sorted, columns=['Term', 'TF-IDF Score'])\n",
        "df\n"
      ]
    },
    {
      "cell_type": "markdown",
      "id": "3712cac8",
      "metadata": {},
      "source": [
        "Seattle Resilience Strategy"
      ]
    },
    {
      "cell_type": "code",
      "execution_count": 103,
      "id": "f5a4b85f",
      "metadata": {},
      "outputs": [],
      "source": [
        "import requests\n",
        "from PyPDF2 import PdfReader\n",
        "\n",
        "def download_and_extract_text(url, output_pdf_file):\n",
        "    # Download the file\n",
        "    response = requests.get(url)\n",
        "    with open(output_pdf_file, 'wb') as f:\n",
        "        f.write(response.content)\n",
        "\n",
        "    # Extract text from the downloaded PDF\n",
        "    with open(output_pdf_file, 'rb') as f:\n",
        "        reader = PdfReader(f)\n",
        "        text = ''\n",
        "        for page in reader.pages:\n",
        "            text += page.extract_text()\n",
        "\n",
        "    return text\n"
      ]
    },
    {
      "cell_type": "code",
      "execution_count": null,
      "metadata": {},
      "outputs": [],
      "source": [
        "url = 'https://resilientcitiesnetwork.org/downloadable_resources/Network/Seattle-Resilience-Strategy-English.pdf'\n",
        "output_pdf_file = 'Seattle-Resilience-Strategy-English.pdf'\n",
        "\n",
        "Seattle_text = download_and_extract_text(url, output_pdf_file)\n",
        "print(Seattle_text)\n"
      ]
    },
    {
      "cell_type": "code",
      "execution_count": 121,
      "id": "8df932f4",
      "metadata": {},
      "outputs": [
        {
          "name": "stdout",
          "output_type": "stream",
          "text": [
            "['seattle— future city resilience roadmapseattle— future city resilience roadmap framework 4 chapter 15 goal 69 actions5 chapter 1 building opportunitygoal 1 closing opportunity gappage 18 goal 2 creating pathway jobspage 22 goal 3 prepare seattle worker job future page 26 chapter 2 making seattle affordable allgoal 4 building affordable housing page 32 goal 5 preventing displacementpage 38 goal 6 creating connected affordable transportation networkpage 44 goal 7 helping resident meet basic needspage 48 chapter 3 creating city everyone welcome goal 8 correcting historic injustice criminal justice systempage 54 goal 9 protecting vulnerable communitiespage 60 goal 10 standing seattle ’ workerspage 64 chapter 4 fostering generational investmentsgoal 11 serving model employer driving equitable outcomespage 68 goal 12 reimagining enhancing civic treasurespage 74 goal 13 meeting need growing citypage 78 goal 14 combatting climate change page 82 goal 15 harnessing power partnershipspage 866 message mayor jenny durkan know seattle city future also know city challenge', 'want ensure city continues place everyone feel welcome safe', 'place thrive finding job close home welcoming neighborhood know root put endure child grow continue call seattle home', 'roadmap graciously supported rockefeller foun dation set holistic strategy address many complex challenge facing city', 'affordable housing climate change livingwage job highspeed con nected transit—and everything seattle ready address toughest challenge facing city', 'together progress front help u realize shared vision building city future', 'progress look like providing affordable housing every part city making meaningful progress homelessness creating true economic opportunity young people worker continue make u city invents future advancing public safety justice equity continue dismantle institutional racism bigotry barrier social justice building civic treasure public space green park everyone enjoy – especially next generation connecting worldclass transit safe transportation choice', 'put ideas—big small—into action help people', 'last decade seattle become fastest growing city america', 'fortunate region become magnet much incredible talent', 'mean many seattle place opportunity around', 'find job provides family put skill good use', '’ case everyone – ’ one main priority build opportunity child youth everyone city', 'whether ’ providing free college help close opportunity gap underrepresented group public education system providing onthejob skill building retraining opportunity worker looking way give everyone city tool need access incredible opportunity available city', '’ building city future', 'sincerely jenny durkan mayor seattle “ strong resilient determined innovative generous frankly', 'best damn city anywhere ” mayor jenny durkan seattle state city 2018 seattle—future city resilience roadmap7 message 100 resilient city 100rc behalf 100 resilient city 100rc program pioneered rockefeller foundation congratulation mayor jenny durkan chief resilience officer katya sienkiewicz city seattle release seattle—future city resilience roadmap', 'roadmap provides initial path forward city aim build resilient future addressing current future shock stress', 'tactic outlined document help seattle increase access economic opportunity promote affordability foster welcoming city catalyze critical investment accommodate growth address climate change', 'particularly excited seattle ’ innovative approach e toward preparing worker training youth job future', 'taken together educational workforce training program described throughout document help equip resident skill need face challenge automation changing workplace', 'since seattle joined 100rc network 2016 100rc partnered city provide technical support resource create roadmap address resilience challenge', 'addition 100rc network member seattle opportunity exchange best practice city across globe addressing similar shock stress', 'collaboration helped inspire initiative described roadmap—for example related future work', 'also proud seattle joined conference late 2018 advance equitable resilient city', 'network exchange seattle able share 100rc city groundbreaking work date embedding practice foster racial equity drawing inspiration innovative work city ranging los angeles greater manchester uk', 'release roadmap mark critical mile stone city ’ resilience journey work far over—and successful implementation require dedication partnership across sector', 'work continues eager see roadmap propels city toward resilient future seattle resident', 'sincerelymichael berkowitz president 100 resilient citiesmichael berkowitz president 100rc seattle—future city resilience roadmap8 executive summary seattle always city invents future', 'early day logging town current status fastestgrowing city america seattle birthplace country ’ greatest innovation', 'city changed way people live work travel course drink morning coffee', 'situated land inhabited thousand year indigenous people suqamish duwamish nisqually snoqualmie muckleshoot ilalkoamish stuckamish skopamish tribe seattle rich cultural fabric deep root resilience', 'despite losing much land population nonnative settler rich complex cultural social economic structure still present become vital active part seattle ’ civic cultural economic life', 'rich history served foundation entrepre neurial spirit sense communal resilience later generation', 'city burned ground great fire 1889 enterprising resident rebuilt better', 'seattle ’ leader faced challenge welcoming thousand new family chasing opportunity gold rush early 1900s literally moved earth reshape seattle city today', 'although challenge today different one early seattle settler faced le significant', 'today challenge harness power strong economic population growth benefit current future seattle resident', 'great prosperity opportunity led great inequality others', 'must intentionally work keep seattle city resident access opportunity live affordably feel welcome', 'achieve must address key challenge threaten seattle ’ resilience', 'must continue prepare acute shocks— event could threaten city ’ ability function natural disaster', 'must also address chronic stresses—chal lenges weaken natural built human resource income inequality chronic homelessness', 'stress often exacerbate effect shock occur particularly vulnerable population', 'seattle mean working mitigate impact protect resident earthquake localized flooding wildfire smoke', 'time must design policy initiative improve affordability lowincome resident make transportation efficient accessible eliminate opportunity gap remove structural inequity', 'seattle—future city resilience roadmapcity seattleseattle today population 730400 347 seattle ’ population people color one six household spend half income housing largest hub nationally tech startup home world ’ 2 largest public cloud service fastestgrowing city america 108 language spoken seattle school 192 increase job 2005 201596 resident live within 10 minute walk park 5th highest average household income top 30 city 20 people color live poverty compared 9 whites18 seattle ’ popula tion foreign born 7th seattle—future city resilience roadmap9 city seattle110 seattle ’ resilience journey seattle ’ location rapid population boom resulted unique risk vulnerability impact ability maintain deepen city ’ resilience', 'last decade seattle fastestgrowing big city america growing 608660 people 2010 730400 20182 growth brought amazing amount diversity adding city ’ vibrant inclusive community', '108 language spoken schools3 seattle housing market however struggled keep pace significant growth', 'beautiful natural terrain—with puget sound bordering seattle west mountain river lake providing natural border sides—presents one city ’ greatest challenge', 'building new housing growing population keeping housing affordable difficult without space expand', 'housing construction grew 13 2010 2018 causing home price jump nearly 93 roughly decadelong period bottom housing crisis january 20184 result one six seattle household severely burdened cost housing spending half income housing seen growing rate homelessness last decade', 'recent report university washington disclosed amount family four need “ scrape ” seattle risen 86 2001 2017', '5 abundant natural resource base environmen tal amenity seaport location highly educated workforce critical mass globally recognized exportoriented company enabled seattle region ’ economy flourish last halfcentury benefit significant growth realized everyone', 'average household income fifth highest top 30 largest city america approximately 20 seattle ’ people color live poverty compared approximately 9 se attle ’ white residents6 term income inequality seattle rank 18 50 largest u cities7 income inequality exacerbated persistent gap access opportunity seattle resident', 'seattle epicenter much global innovation happening today amazon boeing starbucks microsoft costco expedia alaska airline', 'area seen 21 increase job since 2011 know many seattle resident access highpaying job require college degree', '26 blackafrican american native hawaiian pacific islander latino american indianalaska native student washington state earn college degree compared 46 white counterpart', '8 seattle ’ recent growth also strained infra structure system leading traffic congestion highlighting need efficient environmentally friendly transportation option', 'quarter seattle ’ population still commute driving alone', 'recognize negative impact reduced affordability access opportunity felt acutely seattle ’ resident color 786 african american renter said unlikely would able afford living seattle 5 year compared 65 white renters9 focused correcting racial inequity acknowledging seattle ’ past regard racist exclusionary practice ripple effect today', 'committed partnering community organization rectify moving forward', '2000 resident engaged identify critical challenge', 'seattle ready face challenge', 'past decade invested billion across city affordable home specifically invested almost 232 million rental home ownership business support neighborhood recently designated “ opportunity zone ” increasingly transit option diversifying away strained highway system connecting population center include light rail electric bus biking preserve environment future generation', 'counter strain housing continue cultivate amenity make seattle livable expanding affordable housing creative way exploring conversion former military base surplus government property well facilitating accessory dwelling unit adu development', 'focused accessible preschool healthy food option walkability coworking space accessibility 412 hiking biking trail dog park skate park playground well neighborhood community center', 'seattle resident also committed investing cre ating future seattle need', 'last decade alone resident approved 18 billion education since 2010 seattle school district operation levy total 851 million family educa tion family education preschool promise fepp levy vote 2011 2018 respectively 58 million 2014 preschool program levy total 335 million renewal lowincome housing levy vote 2009 2016 approximately 149 million increased vehicle license fee since 2015 sale tax increment approximately 127 million since 2015 pay enhanced bus service metro', 'likewise throughout region already making progress toward resilient future seattle', 'seattle—future city resilience roadmapwe must build successful effort continue address key resilience challenge including lack affordable housing child care traffic congestion structural inequity need different group resident experiencing homelessness', 'end resilience roadmap focus four key pillar seattle ’ resilient future building opportunity seattle need city everyone access opportunity created strong economy', 'achieved providing college seattle youth working diligently close opportunity gap addressing root cause access child care preschool connecting people job training opportunity pre paring youth future work seattle', 'making seattle affordable seattle ’ attractiveness place live displace longtime resident discourage people live highcost living', 'must work make seattle attractive place live also affordable one', 'need create affordable housing create policy reduce displace ment improve access affordable public transportation continue connect resident benefitscreating city everyone welcome must continue celebrate embrace diversity seattle ensuring everyone feel welcome', 'need focus correcting historic injustice criminal justice system protection vulner able community standing worker making sure city serf model employer', 'fostering generational investment seattle ’ growth high quality life need pre served future generation', 'must preserve civic treasure continue meet need growing city invest making vibrant city generation come', 'includes protecting natural environment committing becoming carbon neutral 2050', 'seattle—future city resilience roadmap1112 race social justice initiative throughout history united state people community color constantly oppressed government', 'race social justice initiative contains four strategy help people color seattle achieve equality daily life building antiracist network within city government transforming internal government culture city toward one rooted racial justice humanistic relationship belonging wellbeingcity seattledepartment planning development july 8 2015 comprehensive plan managing growth20152035 draft seattle 2035— seattle comprehensive plan since seattle comprehensive plan first adopted 1994 embraced concept sustainable growth meaning city grows accommodate incoming resident business maintaining enhancing resource future', 'plan periodically updated provides longterm guidance help city make decision enable sustainable growth', 'next update process year', 'seattle housing affordability livability agenda final advisory committee recommendation mayor edward b murray seattle city council july 13 2015 housing affordability livability agenda throughout year seattle continuously reinvented house resident way foster livability distinctive vibrant neighborhood promote quality life walkability access efficient public transit park cultural amenity enrich urban life', 'housing affordability livability agenda recommends initiative greatest potential impact housing affordability seattle', 'equity environment agenda equity environment agenda blueprint advance racial equity seattle ’ environmental work', 'agenda lay four key goal area recommended strategy area related healthy environment job equity community leadership', 'affordable middleincome housing advisory council affordable middleincome housing advisory council aim create housing choice seattle ’ middleincome earner', 'advisory council brings expertise investment housing development make recommendation based economic analysis engagement community throughout city', 'elevate investment strategy innovative construction model close growing gap housing city subsidy may support private market producingexisting resilience effortsseattle climate action april 2018 seattle climate action city seattle committed meeting goal paris climate agreement making choice necessary care community economy planet today future', 'focus seattle ’ climate action strategy improving efficiency energy use transportation system building', 'seattle ’ housing choice seattle planning commission report july 2003 housing choice report following comprehensive plan planning commission recognized need affordable housing community well broader range housing option', 'housing choice report contains result public process commission sponsored city ’ department construction land use', 'shiva – seattle hazard identification vulnerability analysis city seattle office emergency management 206 233 5076 httpwwwseattlegovemergency 4152014 seattle hazard identification vulnerability assessment seattle constantly threatened natural disaster ranging violent earthquake blinding snowstorm', 'seattle hazard identification vulnerability assessment report identifies hazard examines consequence order better prepare future disaster', 'seawall project seattle ’ seawall originally built 70 year ago', '2017 city completed major element seawall project', 'new seawall protects public safety meet current seismic standard improves salmon migration corridor serf foundation seattle ’ future waterfront', 'small business advisory council better understand challenge facing city ’ small business community mayor durkan established seattle ’ first small business advisory council sbac', 'sbac tasked ensuring small business role informing policy program access resource', 'council provide input impact city decision make policy recommendation help increase access tool resource available small business', 'sound transit ’ sustainability plan sound transit ’ sustainability plan identifies transportation provider provide affordable reliable transportation option central puget sound region also improve quality life protect environment', 'sustainability plan – 2019 update building better tomorrow january 2019opq equitable development initiative equitable development initiative envisions seattle diverse city resident achieve full potential regardless race mean', 'organization fund organization working city antidisplacement strategy economic development opportunity', 'date initiative invested 21 million project', 'analyzing impact displacement opportunity related seattle ’ growth strategygrowth equity may 2016seattle office planning community development seattle 2035 equity analysis seattle 2035 equity analysis report provides analysis way growth strategy listed environmental impact statement could affect city ’ disadvantaged population', 'pull information described comprehensive plan order create analysis1314 seattle—future city resilience roadmapnetwork inspirationlos angeles formed multimillion dollar publicprivate partnership la county california community foundation wingart foundation promote due justice promoting access counsel representation dealing immigration court removal hearing', 'oakland launched program called class rooms2careers yearround program combine student financial assistance relevant work experience careeroriented academic curriculum benefit student partic ipating company', 'quito recently built first metro line improving region al transportation', 'creation line key building urban resilience transit oriented development im proving accessibilityvancouver improving building performance le en impact earthquake', 'current ly canadian building code requires new building collapse earthquake', 'ever vancouver implement recov erybased design ensures building standing also operable earthquake15 seattle—future city resilience roadmapwashington dc strives grow automationresistant industry large growth potential ensure high quality job education background withstand negative impact auto mation', 'achieve city form new partnership sector train resident skill valuable high wage highdemand job resistant automationatlanta aim end chronic home lessness city 2020', 'achieve focusing program improve access permeant housing homeless family individualsnew york city track become first major u city implement congestion pricing improve travel congested city street also raising fund public transit improvement', 'seattle—future city resilience roadmap16safe thriving seattle goal 1 educate engage angelenos around risk reduction preparedness selfsufficient least seven 14 day major shock goal 2 develop additional pathway employment delivery financial literacy tool support vulnerable angelenos goal 3 cultivate leadership stewardship equity young angelenos17 chapter 1 building opportunity seattle grown faster city america past decade', 'incredible growth brought incredible opportunity—and incredible challenge', 'addition ten thousand highpaying technology job city led unimaginable prosperity – everyone benefitting equally region ’ economic boom', 'thrive diversity worker maritime port worker nurse firefighter teacher continue call seattle home', 'ensure seattle truly resilient city address growing economic inequality making significant investment social service workforce development youth opportunity program', 'seattle challenge closing opportunity gap compounded washington state ’ education fund ing structure', 'funding come three source state legislature levy seattle public school levy city seattle', 'structure washington state responsible funding “ basic ” education need teacher salary local levy fund intended improve quality education service based local priority', 'however due consistent shortfall state funding level local levy often used make gap basic funding', 'seattle resident consistently voted highqual ity education levy proving dedication quality education opportunity seattle ’ youth', 'historic passage mayor durkan ’ family education preschool promise fepp levy 2018 pre sented historic opportunity city improve seattle resident ’ preschool careerpreparation experience', 'seattle working close opportunity gap strong early education program invest ments k12 college preparation job readiness program', 'city also investing physical mental health service postsecondary education seattle promise program', 'way city plan ensure seattle ’ youth prepared take highpaying job future', '“ city seattle must play active role reducing removing financial barrier keep high school graduate going college getting technical training', 'need education shot good familywage job', 'good student great seattle', 'help channel prosperity thriving economy back community let u start filling thousand job opening homegrown talent', 'creating seattle promise build economic opportunity education help make progress reduce opportunity gap student color ” seattle—future city resilience roadmap—mayor durkan1 seattle—future city resilience roadmap 18 goal 1', 'closing opportunity gap seattle—future city resilience roadmap19 seattle—future city resilience roadmap 11 12closing opportunity gap start highquality early learning service', 'know child access highquality prek day care better prepared life continued learning success', 'investment mayor durkan ’ family education preschool promise fepp levy nearly double number kid able attend seattle preschool program spp 1500 child 20182019 2700 20252026 expand spp 28 new class room', 'past 4 year spp proven successful must flexible responsive community', 'investment help spp maintain high standard quality incorporating flexible design allows reduce barrier entry enhance alignment partnership', 'investment help expand access preschool program shortage childcare facility present challenge family even prek begin', 'attempt counter shortage city seattle ’ child care bonus program invests capital fund development new childcare facility seattle funded developer mitigation contribution offset additional need childcare service due increased size commercial development choose participate city ’ program', 'many center current proposed located near lightrail station', 'center required operation le 20 year 20 child served annually must family income le 80 area medianinvest highquality early learning service prepare child success promote high school graduation college job readiness program since 2014 75 stu dent seattle ’ public school grad uate time year rate con tinue improve', 'fact 4year high school graduation rate improved nearly 73 2013 79 2017', 'however graduation rate disaggregated race significant opportunity gap become evident', '2016 ontime graduation rate black latino americanindian alaskan native student seattle public school 70 63 55 respectively compared 84 white student 81 asian student', 'gap proven persistent must addressed order reduce disparity educa tional attainment promote equitable local economic development support state ’ workforce need', 'complement early learning funding k12 investment mayor durkan ’ fepp levy fund researchbased intervention targeting academic preparation social emotional behavioral skill building encourage better high school graduation rate prepare student college career', 'supplemental service using culturally linguistically responsive approach designed close oppor tunity gap historically underserved student school community also funded', 'key element k12 fepp levy investment providing access expanded learning opportunity including highquality afterschool summer outofschool learning experience support development academic social emotional physical interest student', 'seattle—future city resilience roadmapseattle—future city resilience roadmapthe rising cost college degree meant many seattle high school graduate unable pursue kind advanced degree necessary start career highly competitive market', 'according projection washington state expected add 740000 job next 5 year', 'majority job require sort postsecondary degree credential yet currently 31 washington state ’ high school student go attain postsecondary credential age 26', 'seattle preparing youth ready take job priorityon second day office mayor durkan signed executive order create seattle promise college tuition program 10 expand free access college seattle public school student', 'funding initiative integrated family education preschool promise fepp levy postsecondary investment provide student access college pathway—including tuition wraparound student support service nontuition financial support—that lead certificate credential degree', 'beginning fall 2019 seattle public school graduate able attend seattle college 2 year tuitionfree', 'annually initiative serve approximately 1360 high school student college prep course 870 seattle promise college students1420 provide college seattle youth13 physical mental health service proven critical support service necessary help student achieve academic success', 'since passing first fami lie education levy 1990 city invested health service', 'starting first schoolbased health center rainier beach high school programming expanded year include health center 25 elementary middle high school', 'investment funded school nursing oral health pilot health system enhancement across school system', 'city partner public health—seattle king county manage investment provide support community provider seattle public school', 'k12 student health invest ments designed increase access comprehensive medical mental health care service promote early interven tion prevention treatment healthrelated barrier learning life success increase number student graduate prepared postsecondary pathway choicesupport learning mental health servicesseattle—future city resilience roadmap21seattle—future city resilience roadmap 22 goal 2', 'creating pathway job seattle—future city resilience roadmap23 seattle—future city resilience roadmap past several decade american workforce shifted away model lifelong employment structured predictable career advancement toward one shorter tenure series company', 'rise “ nontraditional ” career path mean incumbent worker focused skill set often disadvantage competitive labor market', 'seattle advancing training need youth lowincome working adult increasing oppor tunities individual gain postsecondary credential', 'center working adult initiative seattle college district provides education accessible workerfriendly format including online hybrid course', 'plan increase number course offering enrollment program evaluating expansion apprenticeship preapprenticeship programsempower worker changing workforce program train upskill incumbent workers2221 creating pathway true oppor tunity ’ end credential college degree', 'create lasting opportunity also need support youth creating pathway good career', 'opportunity promise program— extension seattle promise scholarship program—is providing current seattle promise scholar paid internship region ’ top company', 'alaska airline amazon expedia becu many others already participating opportunity promise program beginning', 'goal program available interested seattle promise scholar summer 2020', 'similarly partnership one region ’ largest healthcare provider seattle piloted new accelerated training program prepares lowincome job seeker career health care', 'using employerdesigned curriculum job seeker receive skill support needed enter build founda tion healthcare career', 'seattle hope replicate grow partnership employer region', 'addition seattle also piloted new grant program expand career experience youth', 'create support career pathway new employee 23support training career navigation wraparound service individual experiencing barrier employment seattle ’ strong economy robust labor market made city magnet many highskilled worker across country around world job created available individual facing barrier employmentby offering training case management support enabling people connect career', 'seattle collaborated regional partner better address gap service specific population', 'datainformed funding workforce service ensure underserved receive employment support needed24 seattle—future city resilience roadmap25 know many pro gram city offer lead good outcome youth participate program consistently operate full capacity', 'ensure many seattle youth access program possible looking way make easy young people age 16 24 access job skillbuilding opportunity develop skill time plan economically secure personally empowering career', 'addition improved outreach expanded program part nering mayor ’ innovation advisory council create online youth opportunity portal help u reach goal', 'future function hope add youth portal include following access job board external youth employ ment training opportunity locate nonemployment youth service area create profile résumé skill bank create education employment plan using labor market data', 'create youth portal increase enrollment opportunity city24 50 year seattle youth employment program syep provided summer job seattle ’ underserved young people age 16 24', 'program long successful providing valuable training good pay safe place youth 2019 expanding syep help student better prepare twentyfirstcentury work', 'starting fall 2019 syep partici pant enrolled yearround program provides mentorship skill training throughout year culminating summer internship turn lead alumna community', 'shifting developmentfocused model largest youth internship program provide training connects next step careerin order connect seattle ’ youth livingwage job future first ever career connect ed learning grant announced may 2019', 'fund nine local organization increase job readiness competency youth age 14 24 reach estimated 700 young adult career experience', 'nine pro gram lead seattle youth handson training workshop tour aimed building job competency introducing youth highdemand career information technology health care maritime sector', 'grant awarded seattle public school ’ health service pathway program example increase seattle public school ’ capacity educate youth career local healthcare industry embed career learning curriculumprovide job skill building opportunity seattle youth city programsseattle—future city resilience roadmap 25 goodwill ’ youth maritime program goodwill ’ youth maritime program help prepare high school senior career maritime industry', '2year free program qualifying student provides smooth transition senior year high school toward college readiness', 'help build strong soft skill connects student future career maritime opportunity', 'also includes ongoing support saturday workshop throughout student ’ senior year ensure track high school graduation ready college program maritime pathway', 'program participant eligible four quarter maritime class area college summer internship ongoing college career navigation support service', '26 goal 3', 'prepare seattle worker job future seattle—future city resilience roadmap27 31 creation increasingly special ized robot sophisticated artifi cial intelligence putting job risk automation changing face american workplace know', 'according study 702 occupational grouping 47 u worker high proba bility seeing job automated next 20 years11 disruption also expected impact lowwage earner disproportionately food preparation office admin istration transportation job taken machine potentially leave worker unemployable', 'situation likely exacerbate income inequality must consciously planned', 'reduce impact automation seattle resident help prevent significant layoff among lowwage worker seattle need provide workforce opportunity hone skill take kind job le suited automation', 'job often require advanced degree underscore importance seattle ’ work close opportunity gap provide ongoing training worker', 'nearly job feel pressure automation point future', 'thus continued training flexible adaptive creative workforce critical ensuring seattle worker ’ survive continue thriveprepare seattle ’ workforce increasing automation servicerelated job goal 3', 'prepare seattle worker job future future work subcabinet city ’ future work subcab inet focus building robust local talent pipeline creating sustainable opportunity seattle ’ youth addressing challenge facing seattle resident increasing automa tion', '2018 future work subcabinet focused building unified development continuum youth aligning siloed program common vision', 'sub cabinet carry work forward 2019 also pursuing new policy agenda expanding worker protection access economic opportunity adult working gig economy—an increasingly large section adult working population city u city', 'seattle—future city resilience roadmap28 seattle—future city resilience roadmap establish worker protection nontraditional “ platform ” worker wide variety revenuegen erating opportunity available worker platform like uber lyft instacart many worker generating substantial portion income application', 'worker platform economy experience poor working condi tions low pay rate tip theft constantly changing job requirement', 'platform worker also likely report living poverty receiving public assistance', 'put simply social safety net workplace protection developed twentieth century longer available many twentyfirst century worker', 'city begun outreach effort affected worker better stand platform work impact lowwage worker particularly worker color immigrant refugee', 'specifically city worked university wash ington working washington worker ’ right organization based seattle identify affected worker convene focus group discus benefit challenge platform work develop best possible policy solutionsin past decade rise nonstandard employment gig economy worker provided people opportunity ever make additional income support hobby family', 'gig economy job also introduced new challenge relating worker protection labor standard', 'office labor standard office economic development office mayor working worker appbased platform develop recommendation ensuring worker large section economy continue work live thrive city', 'recommendation may include clarifying labor standard app based platform increasing opportunity access education training worker looking transition gig economy employment sectorscreate series recommendation address unique challenge gig economy worker 3332seattle—future city resilience roadmap29 working washington working washington worker ’ right organization based seattle building powerful worker ’ movement aim dramatically improve wage working condition lowincome worker change national conversation wealth inequality value work', 'working washington fastfood striker sparked fight seattle ’ firstinthenation 15 minimum wage', 'working washington made history city seattle passed secure scheduling seattle provide employee information advance notice regarding work schedule', 'working washington also led pay campaign national effort sparked instacart worker organized take back tip push back pay cut', 'effort led numerous groundbreaking action advance labor standard local state corporate level', 'information working washington check workingwaorg', '30 seattle—future city resilience roadmapsafe thriving seattle goal 1 educate engage angelenos around risk reduction preparedness selfsufficient least seven 14 day major shock goal 2 develop additional pathway employment delivery financial literacy tool support vulnerable angelenos goal 3 cultivate leadership stewardship equity young angelenos 31 chapter 2 making seattle affordable seattle ’ recent economic growth brought tremendous opportunity prosperity region—but also created dire need housing choice affordable low moderate middlein come household', 'seattle remain equitable welcoming city must create housing option people work seattle live seattle benefit city offer', 'booming population also put stress neighborhood infrastructure led increase cost living', 'limited space expanding due seattle ’ geographical challenge many community experienced rapid densification gentrification neighborhood', 'city constantly changing evolving seattle different', 'time wel coming new resident supporting highskilled worker must also make intentional invest ments help u preserve strong community remains open working family including teacher firefighter nurse thousand others keep small business going', '“ need housing low middleincome seattleites raised kid see city kid ’ afford live', 'create new opportunity every part city must ensure mix housing unit deeply affordable market rate creating affordable space small business community organization artist', 'everyone welcome every part city ” seattle—future city resilience roadmap mayor ’ 2019 state city lightly edited clarity32 goal 4', 'building affordable housing seattle—future city resilience roadmap33 seattle—future city resilience roadmap 41 increasing housing cost rising property tax stressed housing market contributed increase homelessness seattle', 'together stress also made difficult renter homeowner fixed income remain home', 'city seattle working help support resident maintain remain current housing prevent falling homelessness displaced', 'city strengthening cause eviction ordinance align washington state ’ new law making additional reform protect renter preventing domestic violence survivor held liable property damage caused abuser', 'seattle also investing communitydriven project expansion equitable development initiative edi investing 5 million per year seattle ’ existing community member business highdis placementrisk neighborhood', 'first official action mayor durkan signed executive order 12 quickly develop implement strategy increase access city ’ affordability benefits—including rental assistance—for lowerincome housingcostburdened household', 'program seattle rental housing assistance pilot program specifically focused preventing household income 0 50 area median come waitlist housing choice voucher fall ing homelessness waitlist longerterm assistance', 'prevent eviction displacement seattle resident stay current housing 42 truly addressing housing shortage affordability crisis seattle mean adding home income level', 'providing mix housing type price people level income homeowner renter able find home afford', 'increased investment city build housing seattle ’ vulnerable resident experiencing homelessness worker family earning le 88250 family four', 'seattle proposing double city ’ homeownership opportunity mayor ’ affordable middleincome housing advisory council city ¬aiming find private market solution help middleincome family stay seattle housing choice', 'recent investment include plan rezone nearly third 34acre fort lawton property north seattle adding 238 ne unit mixedincome affordable housing including supportive housing senior veteran apartment lowincome household opportunity homeownership', 'july 1 2019 seattle city council approved legislation could make easier build accessory dwelling unit adus—for example backyard cottage motherin law apartments—which potential provide new housing opportunity neighborhood singlefamily home often unaffordable many people', '5 eligible lot city built adus 4000 new affordable housing unit would created', 'city currently support operation approximately 2000 unit permanent supportive housing', 'since 2017 city made unprecedented investment creating 630 new unit permanent supportive housingbuild housing family income level help seattle keep increased demandseattle—future city resilience roadmap 34 urban sustainability accelerator september 2019 office planning community development leading inter departmental team representative seattle department construction inspec tions seattle office housing planning commission council staff participating urban sustainability accelerator program yearlong collaboration city county team across country working promote accessory dwelling unit adus', 'team ’ work focus programmatic idea align addressing challenge hear homeowner prioritize program racial equity', 'bring seattle ’ business philanthropy nonprofit partner together find creative solution shared housing crisis seattle ’ shared housing crisis solved gov ernment alone', 'attempt build affordable housing must leverage creative potential part ners across city', 'many seattle ’ largest business nonprofit partner already started pitching ·plymouth housing seattle nonprofit created operated supportive housing homeless adult almost 40 year raised close 50 million business philanthropy expand share home extremely lowincome resident ·in january 2019 microsoft made 500 million commitment fund project create preserve affordable housing puget sound region attempt curb housing crisis ·amazon helped support nonprofit fare start mary ’ place providing combined 60000 square foot space building south lake union campus', '35 seattle—future city resilience roadmap 44 strategic land acquisition provides opportunity secure land affordable housing development area city low access affordable housing option neighborhood high displacement risk', 'affordable development publicly owned site includes community engagement identify priority housing commercial community spacesthe office housing oh developing partnership including one sound transit regional transit agency explore opportu nities leverage publicly owned site free reduced cost', 'help decrease overall cost development permanently affordable homeownership oppor tunities around seattle', 'work way communitybased organization particularly area high displacement risk ensure site developed alignment community vision meet neighborhood need', 'oh also developed funding policy allows strategic acquisition key site future development', 'policy also allows acquisition preserve existing building expiring subsidy prevent displacement lowincome residentsacquire land strategically eye toward equity future affordabilityone primary challenge related building affordable housing finding sustainable longterm funding source everincreasing need', 'building affordable housing development requires large amount upfront capital affordable housing ongoing resident service requires sustained funding', '2019 leader olympia acted city seattle priority approve resource build operate affordable housing', 'approved bill allow city like seattle retain sale tax fund affordable housing', 'legislation authorizes city county use local sale tax credited state sale tax affordable andor supportive housing', '43 increase diversity housing financing sources36 seattle—future city resilience roadmapsupporting resident experiencing homelessness protecting risk homelessness systemic problem touch every city puget sound region every major u city', 'many root cause many case adverse life event health issue loss job need escape domestic violence situation quickly catapult neighbor homelessness', 'root cause inherently interconnected unsheltered neighbor many factor compound one another make homelessness ongoing struggle overcome', 'seattle largest concentration individ uals experiencing homelessness region shared crisis regional problem demand regional response', 'resilience challenge increasingly important coordinate effort investment countywide best serve need', 'continuing make significant investment addressing homelessness positive impact seattle resident', 'create regional governance structure respond homelessness may 3 2018 king county city seattle signed memorandum understanding increase co ordination homeless service cooperate planning reporting set path governance reform better coordinate investment regionwide', 'agreement also establishes homeless service housing governance partnership king county seattle home federally recognized seattleking county continuum care responsible coordinating homeless service investment king county region regional partner improve outcome account ability', 'december 19 2018 mayor county executive endorsed plan create regional authority setting path greater regional coopera tion make homelessness rare brief nonrecurring', 'new governance partnership take following task ·create single regional authority align funding across region ensure efficient effective response homelessness', '·set principle outcome new system governing homeless service housing investment address', '·focus result achieve housing sup port service impact customer', '·work city provider regional part ners ensure coordinated investment provide comprehensive network service countywide', '·consider model governing public health homeless service housing investment u city explore best practice increase success', '·establish shared budget priority joint planning effort meet need king county seattle ’ homeless population', 'implement seattle ’ firstever performancebased contracting homeless service housing provider 2018 address overarching failure achieve new standard adopted 2017 city ’ human service department implemented performancebased contracting developed benchmark serve service point homeless service provider', 'new benchmark reduce contract payment provid er fail meet performance benchmark reward provider improvement course year', 'new policy challenged prior culture provider driving program outcome shift openly discussing need datadriven contracting well obstacle provider face meeting target already resulted efficiency improve ments homeless service housing provider', 'expand navigation team connect people service help move safer place june 2019 mayor durkan announced addition four new member navigation team bringing total 38 mayor durkan ’ tenure', 'navigation team specially trained team outreach worker paired seattle police department personnel con nect unsheltered people housing critical resource helping address pervasive challenge around issue homelessness seattle', 'addition allows navigation team connect people service 7 day week', 'two position newly created system navigator help provide outreach service shelter referral people living unsheltered whether rightofway large encampment', '37 seattle—future city resilience roadmapincrease service people experiencing homelessness past year city seattle taken important step address homelessness know impact', '2018 4200 household moved homelessness housing prevented becoming homeless', 'mayor durkan increased investment enhanced shelter provides 247 access shelter service increased exit permanent housing 88 2018 2017', 'part mayor ’ path 500 plan creates additional shelter capacity 500 people 516 new safe space added system increasing access service housing opportunity', 'still every night many neighbor sleep outside without shelter inhumane dangerous condition', 'obligation bring people street safer place', 'pilot safe parking site resident experiencing homelessness 2019 budget mayor durkan provided 250000 safe parking pilot provide safe secure place park overnight accompanied case manage ment people living car', 'participant pilot focus reestablishing permanent housing', 'pilot designed based best practice successful program san diego santa barbara', 'remediate hazardous predatory rv vehicle rental june 2019 mayor durkan announced new step stem supply hazardous vehicle preventing resale towed car recreational vehicle rv preventing rental hazardous vehicle vulnerable individual', 'current process derelict vehicle may instance returned market towed', 'goal initiative decrease number vehicle pose significant public health safety risk', 'vehicle towed public health criterion used evaluate safety vehicle tow yard', 'deemed uninhabitable allowed reenter market auction process', 'additionally mayor transmitted legislation amend seattle municipal code prohibit rental unsafe vehicle', 'proposed amendment would include restitution person paying rent live vehicle', 'new step complement work rv mediation program established mayor durkan 2018 clean public rightofway mitigate pub lic health hazard debris garbage waste adjacent rv', 'pilot city seattle team engage individual living rv vehicle voluntarily move vehicle allow cleaning removal garbage inoperable unsafe vehicle left behind', 'navigation team member assist program helping store personal belonging offering referral service shelter', 'chief seattle club located seattle ’ historic pioneer square district chief seattle club provides safe sacred place rest revive nurture spirit urban native people need', '501c3 registered organization dedicated physically spiritually supporting american indian alaska native people', 'center pioneer square district downtown seattle club provides food med ical support housing assistance urban indian le gal clinic native art program gallery frequent ings tribe pow wow museum much', '“ believe power ancestral way preserving mean fostering sense community among without one call ” quote chief seattle club website 38 seattle—future city resilience roadmapgoal 5', 'preventing displacement 39 seattle—future city resilience roadmap city seattle conjunction change state re idential landlordtenant act working improve protection tenant facing potential eviction', 'change state law city ’ harmonization effort include following ·extending amount time tenant respond notice pay vacate 3 day 14 day ·requiring notice vacate translated top 10 languag e spoken washington state ·including information regarding access legal advocacy resource identifying cultural organization provide assistance primary language tenant ·allowing court discretion reinstate tenancy tenant able commit payment plan outstanding rent fee finally exploring opportunity create equitable fairer law informed relationship tenant landlords52stand right tenant help prevent unjust evictions51 many rapidly growing city many seattle ’ long time resident struggling neighborhood market rate housing longer affordable', 'february 2019 mayor signed antidisplacement order13 recog nizing need create affordable inclusive neighborhood direct ing city department develop implement strategy affordability—including affordability low middleincome housing— mitigate residential displacement particularly neighborhood community high risk displace ment', 'addition effort around mandatory housing affordability affordable middle income housing includes initiative around home ownership tenant protection', 'additionally office housing currently exploring policy would expand city ’ home repair program provide nointerest loan lowincome homeowner improve increase habitable space address critical health safety structural issueskeep longtime home owner homesseattle—future city resilience roadmap40 correcting historic inequity neighborhood equitable development initiative edi like many city u seattle tightly seg regated due policy like redlining racial restrictive covenant early twentieth century', 'recognizing effect police still impacting com munities today seattle taken step correct historic inequity ensure neighborhood welcoming vibrant place seattle resident', 'equitable development initiative edi created make public private investment neighborhood support need consider past history current condition future outcome equitably distributed currently living working seattle well new arrival', 'equitable development framework guide city prioritizes work shape budget poli cies program investment structure implementation targeted strategy equitable development project using clear objective reducing disparity achieving equitable outcome marginalized population', 'equitable development framework support two equity goal “ strong communi tie people ” “ great place equitable access ” six equity driver key achieving equity objective ·advance economic opportunity', 'promote economic opportunity marginalized population en hance community cultural anchor', 'provide access quality education training livingwage career path', '·prevent residential commercial cultural dis placement', 'enact policy program allow marginalized population business community organization stay neighborhood', '·build local cultural asset', 'respect local community character cultural diversity value', 'preserve strengthen cultural community build capacity leader organization coalition greater selfdetermination', '·promote transportation mobility connectivity', 'prioritize investment effective affordable trans portation support transitdependent community', '·develop healthy safe neighborhood', 'create neighborhood enhance community health access public amenity access healthy affordable culturally relevant food safe environment everyone', '·enable equitable access neighborhood', 'leverage private development fill gap ame nities expand supply variety housing employment choice create equitable access neighborhood high access opportunity', 'part budget mayor durkan made program permanent announced additional 5 million 2019 total 21 million fund communitybased organization working seattle antidisplacement strategy economic development opportunity', 'september city celebrated first property acquisition organization made possible edi funding childcare provider serving immigrant family purchased day care community center', 'starting year edi annual monitoring program track equitable development outcome heightened risk residential com mercial cultural displacement trend seattle', 'seattle—future city resilience roadmap41 seattle—future city resilience roadmap42 opportunity zone included federal tax code part december 2017 tax cut job act enacted spur economic development job creation underserved community', 'working ensure community intended benefit opportunity zone legislation actually benefit—through development priority small medium business workforce opportunity', 'end exploring tool city ’ disposal public land expedited permitting combining incentive tax incentive bring community project fruition', 'city focused critical area unique civic innovation high displacement investing almost 232 million affordable rental ownership housing business support zone past decade', 'leverage opportunity zone capital invest communities53reaching equity goal focus group conducted part racial equity toolkit learned city offer multiple program office housing oh support lowincome homeowner staying home many people eligible program know', 'added addi tional resource oh budget contract communitybased organization share information existing possible future program help ensure meet racial equity goal', 'africatown city supported community led partnership redevelop liberty bank building first black owned bank west mississippi founded community response redlining disinvestment central seattle', 'partnership africatown community land trust black community impact alliance byrd barr place capitol hill housing create 115 new affordable home affordable retail space black owned business living monument heritage legacy future central district', 'central district historically home seattle ’ africanamerican population faced increasing displacement pressure recent decade', 'seattle—future city resilience roadmap43 54 thanks significant influx new resident many seattle ’ neighborhood changing expanding accommodate growing population', 'many longtime seattle resident passionate neighborhood deeply concerned gentrification erasing unique aspect neighborhood', 'city seattle recently passed new community preference policy would allow housing developer choose give priority access portion housing unit project applicant live work neighborhood high risk displacement formerly resided neighborhood experienced displacement', 'giving preference specific group could considered odds federal state local fair housing law oh approve preference policy casebycase basis housing developer demonstrate preference policy furthers fair housing perpetuate segregation disadvantage protected class', 'lottery run project would used select resi dent accordance preference policy', 'community experiencing displacement long asked policyminimize impact gentrification community seattle—future city resilience roadmapgoal 6', 'creating connected affordable transportation network 4445 seattle—future city resilience roadmap thriving vibrant resilient city one resident access reliable highquality public transpor tation–and resident feel empowered use public transit primary mean transportation', 'se attle home number public transit option including seattle streetcar sound transit link light rail king county metro bus', 'partnering seattle public school king county metro seattle college seattle department transportation city seattle provides 15000 young people unlimited access public transportation orca opportunity program', 'seattle largest city u provide free transit pass high school student ushering new generation public transportation riders61cultivate culture transit ridership among seattle ’ youth 62 seattle transportation benefit district stbd established 2010 raise additional revenue help fund improvement seattle ’ transportation service', 'stbd seattle raise 50 million annually improve transit availability access 2020', 'thanks change stbd made 2018 mayor durkan 14200 additional seattle household access 10minute better king county metro bus service', 'past year city seattle also invested additional transit service provide capacity 4800 new weekday daily ride seattle 5 increaseprovide transit service seattle resident smart investment seattle transportation benefit district 63 sound transit 3 st3 ballot measure seattle ’ november 2016 election proposed expan sion regional public transit system managed sound transit', 'city ’ ambitious effort strategically plan affordable transitoriented devel opment generation come', '538 billion st3 plan expand existing link light rail system suburb tacoma federal way everett issaquah seattle neighborhood ballard west seattle', 'local portion measure would partially funded increase sale tax mo tor vehicle excise tax property tax', 'expansion improve accessibility efficiency affordability resident across regionexpand regional public transit system46 seattle—future city resilience roadmap 65 traffic disruption due construc tion major improvement uncommon major city like seat tle', 'project like boston ’ big dig replacement eastern span san franciscooakland bay bridge frequently accompanied extended regional traffic impact', 'seattle 2019 2024 city changing resident travel town', 'opening state route 99 sr 99 tunnel demolition alaskan way viaduct rebuild ing central waterfront extension link light rail—all public private megaproj ect transform downtown extended impact traffic', 'challenging period city working partner across region manage congestion limit impact commuter business keep downtown open business fivestrategy approach monitoring transportation system investing transit reducing drivealone trip downtown managing public rightofway coordinating regional communication', 'coordinate minimize impact extended planned traffic disruption seattle 64 bikeable city one people ride bicycle convenient fun safe healthy choice', 'city people age ability bicycle trip purpose', 'seattle already regarded one bikeable city america', '2019 seattle even named america ’ “ best bike city ” bicycling magazine', 'seattle bicycle master plan bmp aspires encourage accommodate people ride bicycle', 'bmp provides blueprint make easier decide ride bicycle comfortable integral part daily life seattle people age ability', 'bmp identifies project program implemented 2014 2033 achieve vision meet plan ’ goal safety ridership equity connectivity livability', 'center city bike network project build network protected bike lane connecting downtown rest seattle city continues grow', 'check project web page learn center city bike network', 'also launched seattle freefloating bike share program let anyone borrow electricassist bike quick errand trip link light rail allday adventure everything', 'pick bikeshare bike closest ride want go leave bike next person ride', 'bike share seattle run three private vendor jump lime lyft', 'order operate bike three vendor need download company ’ app follow instruction provided', 'bike share program partnered local nonprofit rooted right make video bike share user park bike correctly end ride', 'encourage bike use connecting almost 200 mile bike lane network 202447 seattle—future city resilience roadmap 09thaven sw roxbury stbo ren ave23rdavee fauntleroywayswroosevelt way ne learywaynw11th ave ne 1staves 35thaveswwestseattlebrwb2ndave airportwaysfairviewavenn34thst broad stmontlakeblvdne ballard br1stave nen northgate way w est marginalw ay swswiftave s24thave e 1staves l king jr w ay swall st15thavenw n 46th st 4thavesn 85th st pine stroy stn 105th st 2nd avetsne 145th steastlakeavee15thavene olsonplswalaskan w yvinb 1stavsbrnbw estlakeave nlakecitywayne 15thavew delridge w aysw east marginalways 2ndave sw23rd ave25thavene 23rdavesauroraaven alaskanwyvisb 31staves1stavene 59th avsw turnn 65th st 17thavenene 70th st 14th avenw 100th st sorcasst3rdavewne115th st 40thavene 32ndavew 10thavewnw 96th st wbertona st sw holden st beaconavesbeacon ave sn 125th st ne 41st st sw 106th st3rd ave nw 48thavesw47thavenelakesideaves 14thavesne 55th st 43rdavee californiaavesw17thaves14thavenwnw 65th st 20thavenwmeridianaven 6thaves 8thaveslatonaavenenw 80th st n40th st 1stavew 34th aven35thstne 75th st 19thaveene 110th st 19th ave sw genesee st3rdavenw university way ne 35thavesw38thavesn 90th st sw trenton stnw125th st 20thavene 35thaveswwcommodoreway 6thavewlindenaven 8thavenw 62ndaves1stave nedaytonaven n 115th st 49thave sw sw 100th st1staves16thavesw magnolia blvd w20thavene 28thavew 20thaves 8thaves15thavenw30thavene6th aves22ndavew 0 1 2 05 milesn planned 2024 bike network may 20 20192024 full build planned bike project existing bike facility excluding sharrows parks48 seattle—future city resilience roadmapgoal 7', 'helping resident meet basic needs49 seattle—future city resilience roadmap 72 almost 8 million proposed 213 million propertytax levy would go toward eliminating seattle public library fine late item', '7year 213 million propertytax levy would replace expiring 7year 123 million levy would cost median value homeowner approximately 7 per month 158 per month current levy', 'addition elimi nating library fine levy would extend library hour fund renovation maintenance invest library collection technology service among needseliminate punitive fine seattle public library 71 february 2018 mayor durkan announced new innovative joint pilot program seattle office housing seattle city light help senior homeowner stay warm reducing energy bill', 'pilot program senior homeowner electric heat already receiving help utility bill notified automatically qualify energy efficiency upgrade home provide additional utility bill saving freeing resource pay important household need', 'part pilot office housing seattle city light notify almost 800 senior homeowner participate utility discount program eligibility energysaving improve ments home', 'improve ments insulation new heating system made available office housing ’ homewise weatherization program', 'additionally seattle ’ utility discount program udp offer eligible cu tomers 60 discount seattle city light bill 50 discount seattle public utility bill', 'udp available incomequalified residential household', 'utility discount program help income qualified seattle city light customer lower electric bill 60reduce cost senior fixedincome residents50 seattle—future city resilience roadmap 7473 decentralized afford able housing unit resource across city hard resident need identify housing available', 'rectify city seattle partnered zillow group inc zillow build app help people need affordable housing find unit connect landlord one place', 'currently devel oped partnership mayor durkan ’ innovation advisory council tool live zillow platform perpetuity', 'upon successful completion tool zillow whose mission empower consumer unparalleled data around home connect local professional consider scaling city', 'make affordable unit seattle accessible easy findin 2018 seattle launched new website seattlegovaffordable14 page centralized resource', 'seattle resident access 100 free discounted resource benefit city provides eligible seattle resident', 'resource benefit range free internet hotspot tax preparation advice udp save incomequalified residential household money bill', 'partnership expedia group f5 tableau city improving resource page building new easiertonavigate affordability portal', 'affordability portal seek create online information screening tool connect individual family city seattle benefit program service lower cost living', 'portal support benefit seeker professional informal navigator caseworker family member support themhelp seattle resident discover discount program qualify – centralized resource new affordability portal seattle—future city resilience roadmap 75ensure seattle family access fresh healthy food option regardless income level seattle 12 seattle adult faced food hardship 2013 6 2010', 'food hardship af fects many community color dis proportionately', 'hispanic adult impacted almost three time 29 white asian adult 10', 'multiracial 20 black 18 native americanalaska native adult 17 also experienced food hardship disproportionate rate 15', 'seattle ’ fresh buck program help family individual stretch tight food budget two key program fresh buck match fresh buck voucher', 'fresh buck match double purchasing power lowincome resident use federal food stamp supple mental nutrition assistance program snap benefit purchase fresh fruit vegetable', 'every dollar spent fresh buck retailer using food stamp benefit matched purchase local produce', 'eligible enrolled participant receive monthly fresh buck voucher', 'voucher used like cash buy fruit vegetable fresh buck retailer', 'committed expanding program', 'fresh buck used 60 participating retailer seattle king county 16 including farmer ’ market farm stand neigh borhood grocer seattle safe way store', 'fresh buck solution help lowincome resident afford healthy food diversifies customer base farmer ’ market keep federal food stamp dollar regional economy', '51seattle—future city resilience roadmap52seattle—future city resilience roadmap 53 chapter 3 creating city everyone welcome “ trump administration view immigrant refugee threat country', 'wrong', 'seattle always welcomed people faced tre mendous hardship around world', 'immigrant refugee part seattle ’ heritage continue make u city future', 'seattleking county expanded legal defense network critical tool fight right dignity immigrant refugee neighbor ” — mayor jenny durkan resilient city city stand residents—especially vulnerable', 'many challenge facing seattle major city across globe hit vulnerable population hardest', 'know income inequality gap education environmental impact manmade climate change outsized impact lowincome resident community color immigrant refugee community', 'true resilience mean understanding meeting challenge head enacting policy mitigate historic injustice help make city equitable place', 'federal administration targeting vulnerable population like lesbian gay bisexual transgender queerquestioning lgbtq people immigrant refugee community across country progressive city like seattle step increase protection unjust incursion federal agency like u immigration custom enforcement ice', 'protecting resident critical ensuring city survive longterm stress acute shock keeping community safe1 54 seattle—future city resilience roadmapgoal 8', 'correcting historic injustice criminal justice system55 seattle—future city resilience roadmap 81 82 november 2018 seattle city attorney ’ office filed motion ask ing judge quash 200 outstanding warrant nonviolent nonfelony offense', 'felony handled king county superior court', 'warrant people convicted failed show court subsequent hearing according city others people appear court judgment could reached known predispositional warrantswhile city attorney ’ office work municipal court quarterly basis predisposi tional warrant cleared within 7 year request first consider postconviction warrant', 'remove outstanding nonviolent warrant free people stigma financial burden minor offensesreentry program offer formerly incarcerated individual chance start providing bridge housing skillbuilding opportunity addiction recovery service', 'seattle ’ fair chance employment ordinance washington state ’ successful ban box initiative mean many formerly incarcer ated individual automatically disqualified employment housing due prior conviction tory—but always help address specific reentry need diverse community', 'mayor durkan committed 250000 onetime funding 2019 reentry investment pilot new innovative strategy facilitate successful reentry', 'example future pilot could focus preventing discharge people jail homelessness addressing specific reentry need native american', 'specific indigenous healing practice include cultural spiritual ceremonial activity drumming circle inipi ceremony sweat lodge focus healing building connection trust providing sense community', 'create fund help formerly incarcerated individual start seattle—future city resilience roadmap56 83 many call seattle home misdemeanor marijuana conviction charge historically created barrier opportunity—to good job housing loan education', 'created permanent criminal record traveled someone whole life', 'also know charge conviction dispropor tionately target community color', 'city seattle longer pro ecutes misdemeanor marijuana possession done since 2010', 'february 2018 seattle mayor jenny durkan city attorney pete holmes moved vacate conviction misdemeanor mari juana possession prosecuted city legalization 2012', 'later 2018 seattle municipal court agreed vacate conviction', 'address negative impact failed war drug community colorsquarepeg construction brady amy king started square peg con struction 2014 shortly found labor shortage many builder seattle facing well', 'around time met six men became first employee square peg', 'men skilled craftsman hard worker trustworthy also happened history criminal justice involvement addiction recovery homelessness', 'listening story barrier men faced king learned person ’ past define capable becoming good steady job critically important someone reintegrating society', 'square peg provides much job', 'company strives give purpose family environment individual find love accountability', 'seattle—future city resilience roadmap57seattle—future city resilience roadmap 58 goal 9', 'protecting vulnerable communities59 seattle—future city resilience roadmap 91protect seattle family making harder unsecured firearm end wrong hand across country nearly 1300 child die 5790 treated gunshot wound year', '2015 estimated 150000 adult king county reported keeping firearm unlocked home', 'seattle 250 stolen gun reported burglary car prowl 2017 according seattle police department', 'safe storage commonsense easy way save life keep firearm falling wrong handsin february 2019 seattle passed safe storage law reduce gun violence help protect seattle community requiring responsible storage firearm unless carried control owner lawfully authorized user', 'minor atrisk person person legally allowed posse firearm access gun safely stored owner could face fine 1000', 'person access gun us connection crime kill injure someone owner could face fine 10000', 'gun used mass shooting court would ability levy one 10000 fine gun owner', 'court could consider restitution lieu fine', 'supporter legislation said meant reduce accidental gun injury theft suicide', 'work develop earthquake early warning system explore opportunity retrofit unreinforced masonry buildings92 seattle estimated 1164 unre inforced masonry building urms throughout city long identified significant threat public safety event earthquake', 'city seattle ’ department construction inspection sdci office emergency management oem involved multiyear effort explore policy option retrofitting building minimizing financial burden property owner addressing issue displacement', 'retrofitting public building underway', 'using local public safety levy seismically strengthened fire station water reservoir', 'addition also using grant funding seismically upgraded jefferson queen anne community center two pioneer square area way old armory installed natural gas shutoff valve 35 critical city facility', 'sdot also upgrading bridge overpass capital budget', 'also working earth quake early warning project build software automatically warn infrastructure control system personnel earthquake ground start shaking', 'train could automatically slowed elevator could return ground floor example', 'since earthquake detected initiate even best technology probably second warning automated action critical', 'project integrate predeveloped partner component united state geological survey ’ usgs shakealert system detects model earthquake middleware distribute warning end point receiver endpoint receiver securely convey warning infrastructure control system', 'still much learn shakealert work warning delivery component infrastructure system beta project test effectiveness earthquake sensor network notification platform', 'beta project help inform successful launch general public pacific northwest60 date immigrant legal defense fund given 47 million help local organization protect immigrant refugee community kid need defense 860000 northwest immigrant right project nwirp collectiva legal del pueblo joint application 2665000 west african community council wacc 748000 asian counseling referral service – legal defense team 493333 entre hermanos 680000 t inp seattle—future city resilience roadmap93 signed mayor durkan thenunited state attorney western district washington consent decree required seattle police department enact signif icant reform including new use offorce policy training emphasize deescalation new approach officer interact people experiencing mental crisis new supervision oversight community involvement', 'result decrease us force overall—including significant reduction serious us force—and significant decline force used people crisis', 'city seattle continue working sustain 2 year full effective compliance consent decree build lasting reform accountabilityuphold lasting reform seattle police department61 seattle—future city resilience roadmap 95 today ’ immigrant tomorrow ’ american citizen chance contribute economic cultural civic life seattle—and nationthe new citizen campaign office immigrant refugee affair effort help ten thousand legal permanent resident lprs seattle become u citizen', 'campaign us citizenship clinic outreach education citizenship curriculum legal assistance engagement local national partner achieve goal naturalizing 75000 lprs living seattle king county areaprovide permanent resident seattle tool need become citizens94 changing direction u immigration custom enforcement ’ ice focus recent year distracts drain resource real public safety threat explicit outcome causing widespread fear uncertainty immigrant daily basis', 'resilient city seattle committed standing immigrant ref ugee community protecting attempt undermine sense safety security', 'may 29 2019 seattle mayor king county executive announced grantee expanded seattleking county immi grant legal defense network eldn', 'eldn grant 56 million communitybased organization working provide legal service immigrant refugee risk deportation', '2017 seattle king county established first legal defense network partnership respond increase antiimmigrant rhetoric immigration enforce ment trump administration', 'seattle welcoming city immigrant refugee resi dent worker city department director must refer request ice authority including request access certain private work area mayor ’ office legal counsel', 'directive also ensures staff member understand comply welcoming city law', 'protocol work conjunction existing city ordinance policy state city employee prohibited asking immigration status city employee serve resident city service accessible resident regardless immigration status', 'protect seattle ’ immigrant refugee community unconstitutional federal policies62 seattle—future city resilience roadmap 96 ensure seattle ’ resident counted know u census critically important health wellbeing many communi tie', 'census allocates billion dollar federal aid washington state year', 'important role census play supporting community shaping city year come mayor durkan created seattle census task force 2018', 'task force advises mayor policy outreach historically undercounted community help implement 2020 census preparation', 'light attempt federal government influence census turnout seattle king county partnered create 1 million regional census fund ensure complete informed safe count', 'seattle census task force working ensure resident resource information deserve participate 2020 census', '97 effort prepare commu nity—especially child elderly respiratory condition experiencing home lessness—for rising impact wildfire smoke city partnering agency coordinate response', 'june 19 2019 regional public information campaign smokeready com munities day puget sound aimed inform resident prepare impending smoke season', 'coordinated effort include grading heating ventilation air conditioning hvac system international district community center rainier beach community center seattle center armory exhibition hall fisher pavilion', 'adding merv 11 filter sealing access door door hvac unit prevent air leak providing standalone air scrubber childcare room installing air curtain prevent smoke entering building people come go', 'also building gi map red quality day ensure citizen easily find go avoid unsafe air', 'internally city reviewing compensation policy “ inclement weath er ” adding period poor air quality definition writing city policy voluntary respirator use employee primarily work outdoors', 'unsafe air day included “ inclement weather ” definition city staff take similar measure snowstorm—acti vate alternative work arrangement take vacation needed protect health care childrenprepare vulnerable resident new emerging public health concern due global climate change63 seattle—future city resilience roadmap credit seattle department neighborhoods64 seattle—future city resilience roadmapgoal 10', 'standing seattle ’ workers65 seattle—future city resilience roadmap 102 2015 seattle became one first city nation establish 15 minimum wage help address increased cost living', 'enormous step forward many lowwage worker seattle ordinance address certain class worker high risk abuse', 'key among group domestic worker hotel worker group long subjected unfair unregulated often unsafe working conditionsin order address potential abuse seattle passed domestic worker bill right 2018 mandate domestic worker paid seattle minimum wage establishes uninterrupted meal rest period provides 1 day 24 hour 7day period worker reside employed17 similarly due unique nature hotel work hotel worker sub jected higher risk harassment violence job', 'june 2019 city proposed new legislation provide basic safeguard protect hotel employee assault jury job improve access affordable health care provide minimum standard job security', 'measure also includes strong enforcement mech anisms ensure hotel owner operator comply law', '18 establish labor standard worker high risk abuse101 seattle ’ growing population increasing housing demand everincreasing market pres sure convert industrial land land us multifamily residential commercial devel opments', 'industrial land backbone support familywage job necessary build inclusive economy seattle', 'without question housing com mercial development necessary greatly improved many area city meeting need growing city creating vibrant neighborhood supporting thousand new job', 'land zoned industrial use support many good familywage job', 'seattle ’ recent study industrial land found 106000 current industrial job seattle representing 18 total employment city', '67 seattle ’ industrial job require high school diploma formal education credential', 'maritime industry cluster like fishing water transportation average earnings per worker 100000 year', 'committed ensuring diverse resilient economic base seattle built maintainedprotect familywage job industrial sector 66 seattle—future city resilience roadmap 104 based current outreach affected platform economy worker better understand impact work city ’ office labor standard exploring possibility pilot initiative rockefeller foundation shape portable benefit mechanism worker gig economy', 'ensure low wage worker access worker protections103 office labor standard ols established april 1 2015 part seattle ’ 15 minimum wage ordinance', 'created assist citywide implementation new 15 minimum wage provide central location seattle worker file workplace violation related unfair practice tip withholding time theft asked work without break', 'since 2015 ols investigat ing complaint employer leading substantial backlog beginning 2018', 'recognizing many lowwage worker could wait indefinitely claim close seattle prioritized clearing backlog', 'without sacrificing effectiveness ols closed many older investigation assessing total 2130619 benefit 2521 worker', 'end 2018 ols reduced backlog 83 closed 193 investigation opened 114 new investigationsaddress workplace violation effectively puget sound sage puget sound sage build thriving resilient community rooted good job affordable housing accessible transit healthy environment', 'puget sound sage forefront renewed movement economic justice region', 'work reduce inequality advancing policy minimum wage paid sick leave access fulltime job enforcement good job standard placement people barrier employment public worker construction job', 'program accomplishment include ·passing 15 minimum wage paid sick safe time ordinance seattle', '·convening interfaith economic justice coalition—interfaith leader region—as mean uplifting worker issue public organizing support faith community helping build power worker organizing', '·in collaboration partner winning city seattle ’ priority hire ordinance local worker enter green construction career', 'create create 67 seattle—future city resilience roadmapseattle—future city resilience roadmap68 goal 11', 'serving model employer driving equitable outcome credit nate gowdy photography69 seattle—future city resilience roadmap city promotes access con struction career woman people color others histor ically underrepresented field', '2015 city created priority hire program city public work construction project 5 million', 'using cityfunded construction project priority hire program prioritize hiring resident live economically distressed area particularly seattle king county', 'addition city project apprentice utilization require ments20 woman people color aspirational goal', 'cwa community workforce agreement project 10 hour performed woman 28 hour performed people color november 2013 december 2018 time framegenerate opportunity worker underrepresented groups112the city seattle employ almost 12000 worker', 'make one largest employer city give u opportunity serve good example large employer seattle', 'similarly challenge city employ ee face workplace significant impact resilience', 'following claim harassment hostile working condition city department mayor durkan passed executive order implementing number change reform update city address allegation harassment discrimination form misconduct', '19 includes creation antiharassment interdepartmental team review city ’ harassment discrim ination policy creation office employee ombud provide independent impartial informal support individual employee experiencing harassment discrimination', 'body provide recommendation mayor city council citywide policy procedure related harassment discrimination creation inclusive workplace environment111create safe welcoming workplace city seattle employees70 seattle—future city resilience roadmap 114113 part serving model employer ensuring policy sup porting worker providing opportunity deal life ’ many uncertainty', 'addition providing highquality benefit compensation leave package must continually examine city seattle ’ policy ensure working intendedthis one example', 'due loophole city leave policy city employee lost child eligible paid familycare leave specifically requires city employee care another family member', 'addition city employee lost child eligible paid parental leave exclusively purpose bonding new child', 'therefore city employee forced use paid sick vacation time available grieve loss child manage affair', 'city employee paid sick vacation time available choose either coming work requesting donated sick leave staying home without pay', 'june 17 2019 mayor durkan signed legislation expand city seattle ’ paid familycare leave include access city employee lose childensure city seattle ’ human resource policy serve workersthe city seattle actively support utilization woman minori tyowned business enterprise wmbe city contract prime subcontractor', 'city department establishes plan annual voluntary goal wmbe inclusion consulting purchasing contract', 'wmbe firm need state certified meet city ’ wmbe definition', 'city defines wmbe firm least 51 owned woman minority', 'recognized wmbe firm must register city ’ online business directory21 federally funded transportation project require disadvantaged business enterprise dbe program program firm must certified washington state office minority woman business enterprise omwbe22 2018 14 city ’ purchas ing dollar went wmbe firm 22 city ’ consulting dollar went wmbe firm', '2019 city set highest citywide wmbe aspirational goal consultant purchasing procurement 17 wmbe purchasing 24 wmbe consultant', 'moreover mayor challenged department city wide prompt payment metric 95', 'promote utilization woman minorityowned business enterprise wmbe seattle procurement seattle—future city resilience roadmap71seattle—future city resilience roadmap7273 chapter 4 fostering generational investment city grows seattle chance make generational investment major public work project literally change face city increase economic resilience—including greatly expanded light rail network brand new 20acre waterfront park updated washington convention center', 'make investment continue prioritize stewardship environment pioneering nation ’ first carbonneutral electric utility preserving safe drinking water managing two large regional watershed', 'without leadership federal government city like seattle must take bold action address climate change reduce emission municipal level', 'april 2018 mayor durkan announced climate action strategy cludes 12 action enable seattle reach climate goal including carbon neutrality 2050', 'part seattle ’ commitment paris climate agreement mayor durkan undertaken bold new climate effort reduce carbon pollution transportation building sector make seattle national leader fighting climate change', 'action designed move beyond incremental change fundamentally reshape city ’ carbon footprint fossilfuelfree future', 'meet goal climate action plan goal reducing greenhouse gas ghg emission residential sector 20 2030 goal reducing passenger transportation emission 82 2030', 'seattle—future city resilience roadmap “ year move ahead incredible public private project change face city', 'project – build – must guided vision shared value equity community', 'look water front reconnecting city heart puget sound', 'opening space need create 20 acre park right front porch everybody call seattle home', 'going magnificent ” — mayor jenny durkanseattle—future city resilience roadmap 74 goal 12', 'reimagining enhancing civic treasures75 seattle—future city resilience roadmap 122121 seattle already wellknown incredible competitive sport team', 'seattle several nationally nowned team including sound er fc mariner seahawks seattle storm seattle reign fc brand new u major league rugby team seattle seawolves', 'many amazing team ’ clear sport vital part seattle ’ civic fabric', 'striving expand sport scene even', 'renovation arena seattle center previously known key arena provide city yet another worldclass music art venue generate job economic activity allow seattle bring professional hockey back city first time 100 year', '75 million training center northgate shopping area north city three ice sheet provide opportunity people skatecultivate new generation sport fan seattlebuilt 1950s seattle ’ doubledecker alaskan way viaduct viaduct stretched across downtown waterfront 60 year', 'long fixture seattle skyline viaduct damaged 68magnitude nisqually quake 2001', 'although structure repaired stabilized following year 2009 washington state king county city seattle port seattle decided replace viaduct deepbore tunnel downtown seattle', 'demolition viaduct given seattle chance reimagine waterfront brandnew “ waterfront ” seattle ’ new waterfront include 20 acre public space elevated pathway reconnecting pike place market downtown water front', 'support safe efficient travel pedestrian bicyclist vehicle freight providing muchneeded green space support seattle ’ continued growth', 'construction began 2019 funding philanthropic community city seattle washington state', 'approximately 711 million needed construct new waterfront le onethird come city source', 'philanthropic community committed 110 million city invest 248 million include funding park improvement district', 'commercial residential property owner stand benefit directly waterfront improve ments contribute 160 million part local improvement district', 'historic effort also established partnership seattle park recreation nonprofit friend waterfront seattle ensure new waterfront park space safe well maintained', 'addition state committed 193 million new alaskan way viaduct maintain critical freight port connection along waterfrontcreate new waterfront seattle—future city resilience roadmap123 city seattle strives create space encourage support community artist call seattle home', 'recognize contribution mosaic community southeast se attle 2018 columbia city hillman city became seattle ’ fourth art cultural district', 'mission art cultural district celebrate enhance authentic culturally diverse soul columbia city hillman city neighborhood identification advancement art culture celebration historic role art played community', 'seattle asian art museum worldclass cultural resource park amenity resident visitor', 'renovation expansion preserved 1933 historic building art deco façade', '2019 city opened renovated king street station create dynamic new hub presentation enjoyment art culture increasing opportunity people color underrepresented population seattle generate present work', 'art king street station incorporates new 7500squarefoot cultural space plus meeting presentation area available general public studio artistinresidence office staff seattle office art culture art', 'encourage thriving civically engaged art community seattle 7677 seattle—future city resilience roadmap124 audacious expansion regional public transit system improve accessibility efficiency affordability resident across region generation come', 'effort plan strategically affordable regional transitoriented development', '538 billion sound transit 3 plan expand existing link light rail system suburb tacoma federal way everett issaquah well seattle neighborhood ballard west seattle', 'local portion measure would partially funded increase sale tax motor vehicle excise tax property taxinvest regional transit system creating transitoriented development credit sound transitseattle—future city resilience roadmap 78 goal 13', 'meeting need growing city79 seattle—future city resilience roadmap seattle ’ growing population brings increased health safety challenge', 'help address seattle prioritized hiring public safety personnel including 60 new firefighter seattle fire department 2019 10 new seattle police department officer 2019 additional 30 2020', 'new hire help address increased call volume foster communitybased policing model help build greater trust police community', 'seattle fire department also recently rolled firstofits kind partnership seattle city light combat dangerous fire underground electrical vault', 'recent year seattle ’ first responder responded record number nonemergency calls—especially downtown core', 'help address increase nonemergency call seattle cently launched health one pilot program team specially trained firefighter civilian help people nonemergency 911 request issue substance abuse nonlifethreatening medical concern access service', 'pilot program allows u serve vulnerable resident also saving taxpayer dollar freeing public safety officer respond critical need eg structure fire vehicle collision', 'program scheduled go service around october 1 2019', 'rollout pilot track meet anticipated date', 'provide health safety seattle residentsone seattle ’ key challenge expanding city ’ housing stock natural environment geography', 'steep hill large lake shipping channel limit city ’ buildable land', 'result increasing density new construction become vital creating space rapidly growing population', 'one way seattle addressing challenge mandatory housing affordability mha', 'mha ensures new commercial multifamily residential development contributes affordable hous ing', 'mha provide estimated 6000 new rentrestricted home lowincome people', 'affordable housing requirement took effect march 2019 seattle city council adopted new zoning add development capacity', 'find new opportunity expand affordable housing option increase density new construction 13213180 seattle—future city resilience roadmap 135 maritime manufacturing industrial activity contribute significantly city ’ identity', 'part make seattle “ seattle ” coast salish people lived region thousand year fishing water day provide job food people seattle', 'success city deeply tied industry prosper', 'fishing ship building lumber mill airplane manufacturing small mediumscale manufacturer machine part apparel recreational good sold around world industrial activity supported city ’ industrial land long benefitted seattle providing familywage job promoting economic diversity', 'today innovative manufacturer combining information technology artistic design sustainable manufactur ing practice drive u forward', 'committed exploring best preserve land face growing dynamic cityscape', 'protect preserve seattle ’ unique maritime industrial lands134 city seattle play critical role resident ’ life connecting resident service helping apply permit license answering question addressing concern every day help make life seattleites little easier', 'critical city respond quickly efficiently resident request', 'shortly taking office mayor durkan learned seattle city light customer service backlog—including request reform move correction adjustments—that reached peak 74157', 'direction mayor engage focused effort address backlog cleared march 23 2018', 'city continues look efficiency performance across department order responsive citizen ’ need ensure delivery basic service function smoothly', 'maintain high level excellence efficiency customer service city seattlewalkability accessibility core strong healthy community', 'among large u city seattle one safest city pedestrian', 'even one crash one many city committed improving pedestrian safety pedestrian master plan pmp delivery city ’ vision zero program', 'investing safe connected pedestrian facility help ensure high quality life people live work seattle visitor city', 'people live accessible pedestrianfriendly area likely familiar neighborhood richer social connection community', 'true seattle resident young child older adult everyone between133enhance seattle ’ walkability protecting pedestrian throughout cityseattle—future city resilience roadmap 81seattle—future city resilience roadmap 82 goal 14', 'combatting climate change83 seattle—future city resilience roadmap duwamish valley ’ south park georgetown neighborhood home approximately 5600 people numerous business dustries', 'resilient closeknit community bound together intimate social cultural tie', 'yet duwamish valley commu nities experienced documented inequity year', 'duwamish river flow duwamish manufacturing industrial center 55mile superfund site', 'respond city released duwamish valley action plan24 citycommunity shared vision promote collaboration guide city ’ work investment duwamish valley community south park georgetown year come', 'duwamish valley action plan reflects shift city work toward strategy get u closer structural racial equity describes effort improve overall health wellbeing duwamish valley beyond demonstrates ongoing commit ment environmental justice equitable development areachampion environmental justice duwamish valleytransportation seattle ’ greatest contributor greenhouse gas ghg emission citywide', 'city seattle early stage gathering feedback studying option using community perspective thoughtfully design potential program shorten commute reduce carbon emission effectively equitable transparent responsive city ’ need', 'first step city started exploring congestion pricing address traffic congestion reduce ghg emission create equitable transportation system', 'congestion pricing one strategy city around world use improve mobility charging fee toll singleoccupancy vehicle use specific downtown street', 'work prioritize racial social justice explore pricing program might improve access opportunity reduce current inequity', 'seattle congestion pricing study summary report23 cludes highlight work date lesson city learned initial analysis different pricing tool potential equity impact next step future phase workmanage seattle ’ congestion fair equitable way 14214184 seattle—future city resilience roadmap 144143 improvement technology make electric vehicle afford able wider variety household city working ensure community across city access electric vehicle ev charging infrastructure', 'visible ready access charging infrastruc ture essential meet goal', '2017 pilot program initiated permit installation publicly available ev charging station nonresidential street urban village urban center commer cial street', 'seattle installed ev charging station resident seattle municipal tower well beacon hill neighborhoodin addition pilot program city recently passed ev readiness bill help increase access ev charging infrastructure requiring new building seattle offstreet parking— parking garage—have necessary infrastructure support ev charging station', 'increase seattle ’ electric vehicle charging infrastructure focus underserved communitiesthe city seattle set target carbonneutral 2050', 'track city ’ climate action plan target goal reducing ghg emission residential sector 20 2030', 'april 2018 mayor durkan announced climate action strategy includes 12 strategy enable seattle reach climate goal', 'one 12 strategy identify opportu nities accelerate oil conversion heat pump support lowincome household priority', '180000 singlefamily home seattle approximately 18000 heat oil', 'number 1100 household lower income participate seattle city light utility discount program self identified oilheated', 'oilheated home conversion program25 provides incentive homeowner replace oil heating system clean efficient electric heat pump', 'partnering heat pump distributor provides matching incentive program converting 200 home per year', 'time program also influencing home heating market electric heat pump become preferred heating system', 'since launch july 2017 135 home converted ghg emission saving 5 metric ton carbon dioxide mtco2 per homereduce number home seattle dependent oil heat85 seattle—future city resilience roadmap 146 city seattle expanding public transit exploring policy reduce singleoccupancy vehicle trip city leading way fleet reduce climate air pollution seat tle ’ car truck using seattle city light ’ carbonneutral electricityin april 2018 mayor durkan signed two executive order embed cli mate consideration fully city ’ operation', 'order fol low release new bold action seattle reduce carbon pollution transportation building sector make seattle national leader fighting climate change', 'first executive order call accelerating electrification city ’ municipal fleet phasing fossil fuel use cityowned vehicle 2030', 'second executive order directs office sustain ability environment develop process assessing ghg emission climate resilience city ’ major policy capital project purchasing decisionsintegrate resilience sustainability principle city capital planning145 addition creating ev charging infrastructure expand ing resident ’ access form alternative transportation seattle also looking curb carbon emis sion city ’ biggest carbon emitter', 'order reduce emis sion seattle pioneering innovative policy reduce carbon footprint benefit city', 'mayor durkan signed 2030 building pilot passed city council july 2018', 'pilot city offer additional height floor space incentive 20 major renovation urban center significant upgrade energy water use stormwater management better transportation efficiency', 'recognition seattle ’ progress fighting climate change city announced initial winner bloomberg ’ american city climate challenge', 'award grant city seattle 25 million invest seattle ’ toughest climate challengesreduce carbon emission city seattle ’ biggest polluters86 goal 15', 'harnessing power partnership seattle—future city resilience roadmap87 seattle—future city resilience roadmap 152 seattle thriving small business economy 36500 business fewer 50 employee', 'together business employ nearly 200000 people seattle—far city ’ largest single employer', 'better understand challenge facing city ’ small business community mayor durkan established seattle ’ first small business advisory council sbac', 'sbac tasked ensuring small busi ness role informing policy program access resource', 'council provide input impact city ’ decision make policy recommen dations help increase access tool resource available small business', 'sbac member represent business different size differ ent industry different neigh borhoods come different sector stage ownership model include underrep resented entrepreneur woman immigrant refugee people color lgbtq community', 'bring seattle ’ vibrant engaged small business community together151 private sector responded market demand smaller apartment city ’ densest neighborhood nonprofit developer helping respond significant need lowerincome affordability “ missing middle ” become area increasing concernthe affordable middleincome housing advisory council focus effort creating rental ownership housing choice seattle ’ middleincome earner', 'advisory council brings expertise investment housing development make recommendation based economic analysis community neighborhood throughout city', 'elevate investment strategy innovative construc tion model close growing gap housing city subsidy may support private market producingestablish advisory council look affordable housing solution income levels88 seattle—future city resilience roadmap 154153 thanks seattle ’ status emerging technology hub city home world ’ innovative thinker', 'leverage substantial talent help ensure city well prepared use data technology solution seattle ’ challenge mayor durkan established innovation advisory council iac', 'iac one first kind nation tackle challenge include delivery basic service hous ing homelessness crisis mobility transportation issue', 'iac consists 16 member including amazon microsoft expe dia technology access foundation artefact f5 facebook flying fish partner loftium twitter tableau count university washington washington technology industry association zillow', 'iac program includes knowledgeex change learning series invite keynote speaker discus new technology process manage ment tool city seattle staff', 'leverage significant innovation talent region help solve pressing issue seattle center region ’ growing homelessness challenge—and many way hit hardest impact addressing it—the problem stop city ’ border', 'order help address gap seattle ’ homelessness response effort city launched new effort bring local government service provider business leader philanthropist advocate people lived experience homelessness local resident together develop innovative solution homelessness crisis', 'new regional governance author ity aim make homelessness rare brief nonrecurringcreate regional governance structure shared homelessness response89 seattle—future city resilience roadmap155 seattle 2030 district work break market barrier building efficiency effort make seattle surrounding community sustainable contribute region ’ envi ronmental resilience livability affordability', 'interdisciplinary publicprivate collaboration create groundbreaking highperformance building district downtown seattle', 'achieving 2030 challenge target district scale focusing existing medium large building privately owned seattle 2030 district provide model city region use reduce emission impact', 'individual building specific opportunity energy reduction district approach offer opportunity districtwide heat recovery distrib uted generation district energy efficiency reduce demand resource', 'effort give member roadmap manage develop highper formance building leveraging existing market resource creating new tool partnership overcome current market barrier', 'type collaborative action strategic undertaking help city seattle meet goal carbon neutrality 2030 represents major investment seattle ’ future', 'seattle 58 million square foot committed challenge', 'city future seattle committed moving forward together—to bringing community advocate business philanthro pie government agency nonprofit table find lasting solution region ’ biggest problem', 'also know ’ impossible one city achieve resiliency', 'proud part 100 resilient city network', 'unique network give seattle chance work closely vanguard city working create better future generation come across world', 'understand value power partnership', 'difficult work ahead u know way move forward protect shared future step work togetherstrive building efficiency sustainability goals90 acknowledgement seattle—future city resilience roadmap would possible without invaluable thought partnership financial support team 100 resilient city rockefeller foundation especially otis rolley corinne le tourneau anna friedman aecom consulting city seattle staff across multiple department', 'special thanks must go anthony derrick mayor ’ communication team edie gilliss mayor ’ policy director jessica finn coven seattle ’ first chief resilience officer ihs markit providing critical data analysis future job', '91 endnotes 1 httpswwwseattlegovopcdpopulationanddemographicsaboutseattlepopulation httpswwwseattletimescomseattlenews data114000morepeopleseattlenowthisdecadesfastestgrowingbigcityinallofunitedstates httpsdashboardsmysidewalkcomseattlewaeconomyentrepreneurship httpswwwseattleschoolsorgdepartmentsenglishlanguagelearnershonoringhomelanguag e httpswwwtplorgcityseattlewashington httpswwwbusinessinsidercomaveragehouseholdincomebiggestuscities201812 ac 2017 5year estimate httpswwwseattlegovdocumentsdepartmentsopcddemographicsaboutseattlecounciladopted2016ap pendicespdf httpswwwseattlebusinessmagcomtechnologyseattlerockstechstartuphubsomecitiesaregainingground 2 httpswwwseattlegovopcdpopulationanddemographicsaboutseattlepopulationtomtom traffic index 2016 3 httpswwwseattleschoolsorgdepartmentsenglishlanguagelearnershonoringhomelanguages 4 httpwwwurbancondospacescom10yearchartseattlerealestateismindblowing 5 httpswwwseattletimescomseattlenewsdatareportfamilyof4needs76000justtoscrapebyinseattle 6', 'ac 2017 5year estimate httpswwwbusinessinsidercomaveragehouseholdincomebiggestuscities201812 7 httpswwwseattletimescomseattlenewsdataseattlehitsrecordhighforincomeinequalitynowrivalssanfrancisco8', 'ac 2017 1 year sample 9 httpswwwseattlegovdocumentsdepartmentscivilrights201620rsji20community20surveypdf10', 'httpsseattlepromiseseattlecollegesedu11', 'carl benedict frey michael osborne “ future employment susceptible job computerisation ” oxford university paper september 17 2013', '12 httpwwwseattlegovdocumentsdepartmentsmayordurkanexecutiveorder201712rentalhousingassistancefinal112817pdf 13 httpsdurkanseattlegovwpcontentuploads20190220190220executiveorder201902affordabilityandantidisplacementpdf 14 httpwwwseattlegovaffordable15', 'httpswwwfreshbuckseattleorgourstory16', 'httpswwwfreshbuckseattleorgfindyourmarket 17 httpseattlelegistarcomlegislationdetailaspxid3532201guid232ae88744c64450a04084225ad4f11d18', 'httpslibrarymunicodecomwaseattlecodesmunicipalcodenodeidtit14hurich1425hoemhesa19', 'httpdurkanseattlegovwpcontentuploads201809092118antiharassmentandantidiscriminationeopdf20', 'httpwwwseattlegovcitypurchasingandcontractingpriorityhire 21 httpweb6seattlegovfasregistrationdefaultaspx22', 'httpsomwbewagov23', 'httpwwwseattlegovdocumentsdepartmentssdotaboutseattlecongestionpricingstudysummaryreport20190520pdf 24 httpgreenspaceseattlegovwpcontentuploads201806duwamishvalleyactionplanjune2018pdf 25 httpwwwseattlegovenvironmentclimatechangebuildingsandenergyresilient seattle']\n"
          ]
        },
        {
          "name": "stderr",
          "output_type": "stream",
          "text": [
            "[nltk_data] Downloading package punkt to\n",
            "[nltk_data]     C:\\Users\\lifet\\AppData\\Roaming\\nltk_data...\n",
            "[nltk_data]   Package punkt is already up-to-date!\n",
            "[nltk_data] Downloading package stopwords to\n",
            "[nltk_data]     C:\\Users\\lifet\\AppData\\Roaming\\nltk_data...\n",
            "[nltk_data]   Package stopwords is already up-to-date!\n",
            "[nltk_data] Downloading package wordnet to\n",
            "[nltk_data]     C:\\Users\\lifet\\AppData\\Roaming\\nltk_data...\n",
            "[nltk_data]   Package wordnet is already up-to-date!\n",
            "[nltk_data] Downloading package omw-1.4 to\n",
            "[nltk_data]     C:\\Users\\lifet\\AppData\\Roaming\\nltk_data...\n",
            "[nltk_data]   Package omw-1.4 is already up-to-date!\n"
          ]
        }
      ],
      "source": [
        "import nltk\n",
        "from nltk.corpus import stopwords\n",
        "from nltk.stem import WordNetLemmatizer\n",
        "from nltk.tokenize import word_tokenize, sent_tokenize\n",
        "import string\n",
        "\n",
        "# Download necessary NLTK data\n",
        "nltk.download('punkt')\n",
        "nltk.download('stopwords')\n",
        "nltk.download('wordnet')\n",
        "nltk.download('omw-1.4')\n",
        "\n",
        "# Initialize a WordNetLemmatizer\n",
        "lemmatizer = WordNetLemmatizer()\n",
        "\n",
        "# Define a list of stopwords to be removed from the text\n",
        "stop_words = set(stopwords.words('english'))\n",
        "\n",
        "# Tokenize the text into sentences\n",
        "sentences = sent_tokenize(Seattle_text)\n",
        "\n",
        "# Initialize an empty list to hold the preprocessed sentences\n",
        "preprocessed_sentences_Seattle = []\n",
        "\n",
        "# Loop through each sentence\n",
        "for sentence in sentences:\n",
        "    # Remove punctuation and convert to lowercase\n",
        "    sentence = sentence.translate(str.maketrans('', '', string.punctuation)).lower()\n",
        "\n",
        "    # Tokenize the sentence into words\n",
        "    words = word_tokenize(sentence)\n",
        "\n",
        "    # Remove stopwords and lemmatize the words\n",
        "    words = [lemmatizer.lemmatize(word) for word in words if word not in stop_words]\n",
        "\n",
        "    # Add the preprocessed sentence to the list\n",
        "    preprocessed_sentences_Seattle.append(' '.join(words))\n",
        "\n",
        "# Now 'preprocessed_sentences' contains the preprocessed text\n",
        "preprocessed_sentences_Seattle\n",
        "\n",
        "print(preprocessed_sentences_Seattle)"
      ]
    },
    {
      "cell_type": "code",
      "execution_count": 124,
      "id": "c8a98a0d",
      "metadata": {},
      "outputs": [
        {
          "data": {
            "text/plain": [
              "['affordable housing',\n",
              " 'affordable housing',\n",
              " 'affordable housing',\n",
              " 'education',\n",
              " 'economy',\n",
              " 'affordable housing',\n",
              " 'education',\n",
              " 'education',\n",
              " 'affordable housing',\n",
              " 'economy',\n",
              " 'affordable housing',\n",
              " 'economy',\n",
              " 'affordable housing',\n",
              " 'education',\n",
              " 'education',\n",
              " 'education',\n",
              " 'education',\n",
              " 'education',\n",
              " 'education',\n",
              " 'education',\n",
              " 'education',\n",
              " 'education',\n",
              " 'education',\n",
              " 'economy',\n",
              " 'education',\n",
              " 'education',\n",
              " 'education',\n",
              " 'education',\n",
              " 'public health',\n",
              " 'education',\n",
              " 'economy',\n",
              " 'education',\n",
              " 'economy',\n",
              " 'economy',\n",
              " 'economy',\n",
              " 'economy',\n",
              " 'economy',\n",
              " 'education',\n",
              " 'economy',\n",
              " 'economy',\n",
              " 'affordable housing',\n",
              " 'affordable housing',\n",
              " 'affordable housing',\n",
              " 'affordable housing',\n",
              " 'affordable housing',\n",
              " 'affordable housing',\n",
              " 'affordable housing',\n",
              " 'affordable housing',\n",
              " 'affordable housing',\n",
              " 'affordable housing',\n",
              " 'affordable housing',\n",
              " 'affordable housing',\n",
              " 'public health',\n",
              " 'public health',\n",
              " 'public health',\n",
              " 'education',\n",
              " 'affordable housing',\n",
              " 'economy',\n",
              " 'education',\n",
              " 'education',\n",
              " 'crime',\n",
              " 'education',\n",
              " 'public health',\n",
              " 'economy',\n",
              " 'education',\n",
              " 'economy',\n",
              " 'economy',\n",
              " 'affordable housing',\n",
              " 'pollution',\n",
              " 'affordable housing',\n",
              " 'affordable housing',\n",
              " 'economic diversity',\n",
              " 'pollution',\n",
              " 'pollution',\n",
              " 'economy',\n",
              " 'affordable housing']"
            ]
          },
          "execution_count": 124,
          "metadata": {},
          "output_type": "execute_result"
        }
      ],
      "source": [
        "import spacy\n",
        "from spacy.matcher import Matcher\n",
        "\n",
        "# Load the Spacy model\n",
        "nlp = spacy.load('en_core_web_sm')\n",
        "\n",
        "# Initialize a Spacy Matcher\n",
        "matcher = Matcher(nlp.vocab)\n",
        "\n",
        "# Define patterns for the resilience metrics\n",
        "patterns = [\n",
        "    [{'LOWER': 'healthcare'}, {'LOWER': 'facilities'}],\n",
        "    [{'LOWER': 'clean'}, {'LOWER': 'water'}],\n",
        "    [{'LOWER': 'nutritious'}, {'LOWER': 'food'}],\n",
        "    [{'LOWER': 'employment'}, {'LOWER': 'opportunities'}],\n",
        "    [{'LOWER': 'income'}, {'LOWER': 'equality'}],\n",
        "    [{'LOWER': 'public'}, {'LOWER': 'health'}, {'LOWER': 'policies'}],\n",
        "    [{'LOWER': 'crime'}],\n",
        "    [{'LOWER': 'economic'}, {'LOWER': 'diversity'}],\n",
        "    [{'LOWER': 'local'}, {'LOWER': 'economy'}],\n",
        "    [{'LOWER': 'law'}, {'LOWER': 'enforcement'}],\n",
        "    [{'LOWER': 'social'}, {'LOWER': 'cohesion'}],\n",
        "    [{'LOWER': 'social'}, {'LOWER': 'inequality'}],\n",
        "    [{'LOWER': 'dispute'}, {'LOWER': 'resolution'}],\n",
        "    [{'LOWER': 'transportation'}, {'LOWER': 'infrastructure'}],\n",
        "    [{'LOWER': 'internet'}, {'LOWER': 'access'}],\n",
        "    [{'LOWER': 'utilities'}],\n",
        "    [{'LOWER': 'waste'}, {'LOWER': 'management'}],\n",
        "    [{'LOWER': 'natural'}, {'LOWER': 'resources'}],\n",
        "    [{'LOWER': 'environmental'}, {'LOWER': 'regulations'}],\n",
        "    [{'LOWER': 'government'}, {'LOWER': 'leadership'}],\n",
        "    [{'LOWER': 'corruption'}],\n",
        "    [{'LOWER': 'public'}, {'LOWER': 'participation'}],\n",
        "    [{'LOWER': 'education'}, {'LOWER': 'and'}, {'LOWER': 'training'}],\n",
        "    [{'LOWER': 'urban'}, {'LOWER': 'planning'}],\n",
        "    [{'LOWER': 'integration'}],\n",
        "    [{'LOWER': 'connectivity'}, {'LOWER': 'mobility'}],\n",
        "    [{'LOWER': 'affordable'}, {'LOWER': 'housing'}],\n",
        "    [{'LOWER': 'economy'}],\n",
        "    [{'LOWER': 'environment'}, {'LOWER': 'ecosystem'}],\n",
        "    [{'LOWER': 'social'}, {'LOWER': 'cohesion'}],\n",
        "    [{'LOWER': 'public'}, {'LOWER': 'health'}],\n",
        "    [{'LOWER': 'water'}, {'LOWER': 'quality'}],\n",
        "    [{'LOWER': 'water'}, {'LOWER': 'quantity'}],\n",
        "    [{'LOWER': 'pollution'}],\n",
        "    [{'LOWER': 'education'}],\n",
        "    [{'LOWER': 'Health Services'}],\n",
        "    [{'LOWER': 'Workforce Development'}],\n",
        "    [{'LOWER': 'Youth Opportunity Programs'}],\n",
        "    [{'LOWER': 'Job and Skill Building Opportunities'}]\n",
        "]\n",
        "\n",
        "# Add the patterns to the matcher\n",
        "matcher.add('RESILIENCE_METRICS', patterns)\n",
        "\n",
        "# Initialize an empty list to hold the matched resilience metrics\n",
        "resilience_metrics_Seattle = []\n",
        "\n",
        "# Loop through each preprocessed sentence\n",
        "for sentence in preprocessed_sentences_Seattle:\n",
        "    # Convert the sentence to a Spacy Doc\n",
        "    doc = nlp(sentence)\n",
        "\n",
        "    # Find matches in the doc\n",
        "    matches = matcher(doc)\n",
        "\n",
        "    # Loop through each match\n",
        "    for match_id, start, end in matches:\n",
        "        # Get the matched span\n",
        "        span = doc[start:end]\n",
        "\n",
        "        # Add the matched resilience metric to the list\n",
        "        resilience_metrics_Seattle.append(span.text)\n",
        "\n",
        "resilience_metrics_Seattle\n",
        "\n",
        "\n"
      ]
    },
    {
      "cell_type": "code",
      "execution_count": 125,
      "id": "e1da16d7",
      "metadata": {},
      "outputs": [
        {
          "data": {
            "image/png": "[encoded data removed]",
            "text/plain": [
              "<Figure size 720x432 with 1 Axes>"
            ]
          },
          "metadata": {
            "needs_background": "light"
          },
          "output_type": "display_data"
        }
      ],
      "source": [
        "from collections import Counter\n",
        "import matplotlib.pyplot as plt\n",
        "\n",
        "# Count the frequency of each resilience metric\n",
        "frequency_resilience = Counter(resilience_metrics_Seattle)\n",
        "\n",
        "# Create a bar plot of the frequencies\n",
        "plt.figure(figsize=(10, 6))\n",
        "plt.barh(list(frequency_resilience.keys()), list(frequency_resilience.values()))\n",
        "plt.xlabel('Frequency')\n",
        "plt.title('Frequency of Resilience Metrics')\n",
        "plt.show()"
      ]
    },
    {
      "cell_type": "code",
      "execution_count": 128,
      "id": "45daca6b",
      "metadata": {},
      "outputs": [
        {
          "name": "stdout",
          "output_type": "stream",
          "text": [
            "         Word Sentiment     Score\n",
            "0   education  POSITIVE  0.998959\n",
            "1     economy  POSITIVE  0.998665\n",
            "35      crime  NEGATIVE  0.993622\n",
            "41  pollution  NEGATIVE  0.999501\n"
          ]
        }
      ],
      "source": [
        "# Create a sentiment analysis pipeline\n",
        "sentiment_analyzer = pipeline(\"sentiment-analysis\", model='distilbert-base-uncased-finetuned-sst-2-english')\n",
        "\n",
        "# Tokenize the Surat text into words\n",
        "Seattle_words = nltk.tokenize.word_tokenize(Seattle_text.lower())\n",
        "\n",
        "# Define resilience metrics\n",
        "resilience_metrics = ['public participation', 'integration', 'law enforcement', 'crime', 'environment ecosystem', 'economy', \n",
        "                      'water quality', 'affordable housing', 'connectivity mobility', 'waste management', 'social cohesion', \n",
        "                      'public health', 'pollution', 'education', 'health services', 'workforce development', 'youth opportunity programs']\n",
        "\n",
        "# Convert resilience metrics to lower case\n",
        "resilience_metrics = [metric.lower() for metric in resilience_metrics]\n",
        "\n",
        "# Initialize an empty list to hold the results\n",
        "results = []\n",
        "\n",
        "# Analyze the sentiment of each word that is a resilience metric\n",
        "for word in Seattle_words:\n",
        "    if word in resilience_metrics:\n",
        "        result = sentiment_analyzer(word)\n",
        "        results.append([word, result[0]['label'], result[0]['score']])\n",
        "\n",
        "# Convert the results list to a DataFrame\n",
        "df = pd.DataFrame(results, columns=['Word', 'Sentiment', 'Score'])\n",
        "\n",
        "df = df.drop_duplicates()\n",
        "\n",
        "# Print the DataFrame\n",
        "print(df)\n"
      ]
    },
    {
      "cell_type": "code",
      "execution_count": 129,
      "id": "3dec14d2",
      "metadata": {},
      "outputs": [
        {
          "name": "stderr",
          "output_type": "stream",
          "text": [
            "[nltk_data] Downloading package punkt to\n",
            "[nltk_data]     C:\\Users\\lifet\\AppData\\Roaming\\nltk_data...\n",
            "[nltk_data]   Package punkt is already up-to-date!\n"
          ]
        },
        {
          "name": "stdout",
          "output_type": "stream",
          "text": [
            "                                             Sentence Sentiment     Score\n",
            "0   5\\nwhile an abundant natural resource base, en...  NEGATIVE  0.944771\n",
            "1   to this end, this resilience roadmap will focu...  POSITIVE  0.997108\n",
            "2   they will elevate investment strategies and in...  POSITIVE  0.996984\n",
            "3   it will \\nhelp channel the prosperity of our t...  POSITIVE  0.999744\n",
            "4   create and support career \\npathways for new e...  POSITIVE  0.993164\n",
            "5                         ople to connect to careers.  POSITIVE  0.999635\n",
            "6   workers in the platform economy \\nexperience p...  NEGATIVE  0.999472\n",
            "7   specifically, the city has \\nworked with the u...  POSITIVE  0.998594\n",
            "8                             lies, \\nand themselves.  NEGATIVE  0.997011\n",
            "9   these same gig \\neconomy jobs have also introd...  NEGATIVE  0.775377\n",
            "10  the office of labor standards, office \\nof eco...  POSITIVE  0.886825\n",
            "11  recommendations may include \\nclarifying labor...  POSITIVE  0.998694\n",
            "12  \\nthat aims to dramatically \\nimprove wages an...  POSITIVE  0.998935\n",
            "13  fresh bucks is a solution \\nthat helps low-inc...  POSITIVE  0.998105\n",
            "14  if the person accesses the gun and uses it in ...  NEGATIVE  0.998114\n",
            "15  industrial lands are a \\nbackbone to support f...  POSITIVE  0.998319\n",
            "16  we are \\ncommitted to ensuring that the \\ndive...  POSITIVE  0.991599\n",
            "17                                           economy.  POSITIVE  0.998612\n",
            "18  the award grants the city \\nof seattle $2.5 mi...  POSITIVE  0.998271\n"
          ]
        }
      ],
      "source": [
        "from transformers import pipeline\n",
        "import pandas as pd\n",
        "import nltk\n",
        "nltk.download('punkt')\n",
        "\n",
        "# Create a sentiment analysis pipeline\n",
        "sentiment_analyzer = pipeline(\"sentiment-analysis\", model='distilbert-base-uncased-finetuned-sst-2-english')\n",
        "\n",
        "# Tokenize the Surat text into sentences\n",
        "seattle_sentences = nltk.tokenize.sent_tokenize(Seattle_text.lower())\n",
        "\n",
        "# Define resilience metrics\n",
        "resilience_metrics = ['public participation', 'integration', 'law enforcement', 'crime', 'environment ecosystem', 'economy', 'water quality', 'affordable housing', 'connectivity mobility', 'waste management', 'social cohesion', 'public health', 'pollution'\n",
        "                      'education', 'health services', 'workforce development', 'youth opportunity programs']\n",
        "\n",
        "# Convert resilience metrics to lower case\n",
        "resilience_metrics = [metric.lower() for metric in resilience_metrics]\n",
        "\n",
        "# Initialize an empty list to hold the results\n",
        "results = []\n",
        "\n",
        "# Analyze the sentiment of each sentence containing a resilience metric\n",
        "for sentence in seattle_sentences:\n",
        "    if any(metric in nltk.tokenize.word_tokenize(sentence) for metric in resilience_metrics):\n",
        "        # Split long sentences into chunks of 512 tokens\n",
        "        sentence_chunks = [sentence[i:i+512] for i in range(0, len(sentence), 512)]\n",
        "        for chunk in sentence_chunks:\n",
        "            result = sentiment_analyzer(chunk)\n",
        "            results.append([chunk, result[0]['label'], result[0]['score']])\n",
        "\n",
        "# Convert the results list to a DataFrame\n",
        "df = pd.DataFrame(results, columns=['Sentence', 'Sentiment', 'Score'])\n",
        "\n",
        "# Print the DataFrame\n",
        "print(df)\n",
        "\n",
        "df.to_csv('sentiment_analysis_results.csv', index=False)\n"
      ]
    },
    {
      "cell_type": "code",
      "execution_count": 132,
      "id": "17a6eb40",
      "metadata": {},
      "outputs": [
        {
          "name": "stdout",
          "output_type": "stream",
          "text": [
            "            Resilience Metrics\n",
            "0         public participation\n",
            "1                  integration\n",
            "2              law enforcement\n",
            "3                        crime\n",
            "4        environment ecosystem\n",
            "5                      economy\n",
            "6                water quality\n",
            "7           affordable housing\n",
            "8        connectivity mobility\n",
            "9             waste management\n",
            "10             social cohesion\n",
            "11               public health\n",
            "12                   pollution\n",
            "13                   education\n",
            "14             health services\n",
            "15       workforce development\n",
            "16  youth opportunity programs\n"
          ]
        },
        {
          "data": {
            "text/html": [
              "<div>\n",
              "<style scoped>\n",
              "    .dataframe tbody tr th:only-of-type {\n",
              "        vertical-align: middle;\n",
              "    }\n",
              "\n",
              "    .dataframe tbody tr th {\n",
              "        vertical-align: top;\n",
              "    }\n",
              "\n",
              "    .dataframe thead th {\n",
              "        text-align: right;\n",
              "    }\n",
              "</style>\n",
              "<table border=\"1\" class=\"dataframe\">\n",
              "  <thead>\n",
              "    <tr style=\"text-align: right;\">\n",
              "      <th></th>\n",
              "      <th>Term</th>\n",
              "      <th>TF-IDF Score</th>\n",
              "    </tr>\n",
              "  </thead>\n",
              "  <tbody>\n",
              "    <tr>\n",
              "      <th>0</th>\n",
              "      <td>education</td>\n",
              "      <td>0.629541</td>\n",
              "    </tr>\n",
              "    <tr>\n",
              "      <th>1</th>\n",
              "      <td>affordable housing</td>\n",
              "      <td>0.604360</td>\n",
              "    </tr>\n",
              "    <tr>\n",
              "      <th>2</th>\n",
              "      <td>economy</td>\n",
              "      <td>0.453270</td>\n",
              "    </tr>\n",
              "    <tr>\n",
              "      <th>3</th>\n",
              "      <td>public health</td>\n",
              "      <td>0.125908</td>\n",
              "    </tr>\n",
              "    <tr>\n",
              "      <th>4</th>\n",
              "      <td>health services</td>\n",
              "      <td>0.100727</td>\n",
              "    </tr>\n",
              "    <tr>\n",
              "      <th>5</th>\n",
              "      <td>pollution</td>\n",
              "      <td>0.075545</td>\n",
              "    </tr>\n",
              "    <tr>\n",
              "      <th>6</th>\n",
              "      <td>crime</td>\n",
              "      <td>0.025182</td>\n",
              "    </tr>\n",
              "    <tr>\n",
              "      <th>7</th>\n",
              "      <td>workforce development</td>\n",
              "      <td>0.025182</td>\n",
              "    </tr>\n",
              "    <tr>\n",
              "      <th>8</th>\n",
              "      <td>public participation</td>\n",
              "      <td>0.000000</td>\n",
              "    </tr>\n",
              "    <tr>\n",
              "      <th>9</th>\n",
              "      <td>integration</td>\n",
              "      <td>0.000000</td>\n",
              "    </tr>\n",
              "    <tr>\n",
              "      <th>10</th>\n",
              "      <td>law enforcement</td>\n",
              "      <td>0.000000</td>\n",
              "    </tr>\n",
              "    <tr>\n",
              "      <th>11</th>\n",
              "      <td>environment ecosystem</td>\n",
              "      <td>0.000000</td>\n",
              "    </tr>\n",
              "    <tr>\n",
              "      <th>12</th>\n",
              "      <td>water quality</td>\n",
              "      <td>0.000000</td>\n",
              "    </tr>\n",
              "    <tr>\n",
              "      <th>13</th>\n",
              "      <td>connectivity mobility</td>\n",
              "      <td>0.000000</td>\n",
              "    </tr>\n",
              "    <tr>\n",
              "      <th>14</th>\n",
              "      <td>waste management</td>\n",
              "      <td>0.000000</td>\n",
              "    </tr>\n",
              "    <tr>\n",
              "      <th>15</th>\n",
              "      <td>social cohesion</td>\n",
              "      <td>0.000000</td>\n",
              "    </tr>\n",
              "    <tr>\n",
              "      <th>16</th>\n",
              "      <td>youth opportunity programs</td>\n",
              "      <td>0.000000</td>\n",
              "    </tr>\n",
              "  </tbody>\n",
              "</table>\n",
              "</div>"
            ],
            "text/plain": [
              "                          Term  TF-IDF Score\n",
              "0                    education      0.629541\n",
              "1           affordable housing      0.604360\n",
              "2                      economy      0.453270\n",
              "3                public health      0.125908\n",
              "4              health services      0.100727\n",
              "5                    pollution      0.075545\n",
              "6                        crime      0.025182\n",
              "7        workforce development      0.025182\n",
              "8         public participation      0.000000\n",
              "9                  integration      0.000000\n",
              "10             law enforcement      0.000000\n",
              "11       environment ecosystem      0.000000\n",
              "12               water quality      0.000000\n",
              "13       connectivity mobility      0.000000\n",
              "14            waste management      0.000000\n",
              "15             social cohesion      0.000000\n",
              "16  youth opportunity programs      0.000000"
            ]
          },
          "execution_count": 132,
          "metadata": {},
          "output_type": "execute_result"
        }
      ],
      "source": [
        "import pandas as pd\n",
        "from sklearn.feature_extraction.text import TfidfVectorizer\n",
        "\n",
        "# Define the resilience metrics\n",
        "resilience_metrics = ['public participation', 'integration', 'law enforcement', 'crime', 'environment ecosystem', 'economy', 'water quality', 'affordable housing', 'connectivity mobility', 'waste management', 'social cohesion', 'public health', 'pollution',\n",
        "                      'education', 'health services', 'workforce development', 'youth opportunity programs']\n",
        "\n",
        "# Create a DataFrame from the resilience metrics\n",
        "df = pd.DataFrame({'Resilience Metrics': resilience_metrics})\n",
        "\n",
        "# Remove duplicates\n",
        "df = df.drop_duplicates()\n",
        "print(df)\n",
        "\n",
        "# Convert the text and the resilience metrics to lower case\n",
        "Seattle_text_lower = Seattle_text.lower()\n",
        "resilience_metrics_lower = [metric.lower() for metric in resilience_metrics]\n",
        "\n",
        "# Initialize the TfidfVectorizer with the lower case resilience metrics and ngram_range set to (1, 2)\n",
        "vectorizer = TfidfVectorizer(vocabulary=resilience_metrics_lower, ngram_range=(1, 2))\n",
        "\n",
        "# Fit and transform the vectorizer on the lower case Surat text\n",
        "X = vectorizer.fit_transform([Seattle_text_lower])\n",
        "\n",
        "# Get the feature names and the TF-IDF scores\n",
        "feature_names = vectorizer.get_feature_names_out()\n",
        "scores = X.toarray()[0]\n",
        "\n",
        "# Combining feature names and scores\n",
        "features_scores = list(zip(feature_names, scores))\n",
        "\n",
        "# Sort tuple list by score in descending order\n",
        "features_scores_sorted = sorted(features_scores, key=lambda x: x[1], reverse=True)\n",
        "\n",
        "# Create a DataFrame from the sorted feature scores\n",
        "df = pd.DataFrame(features_scores_sorted, columns=['Term', 'TF-IDF Score'])\n",
        "df\n"
      ]
    },
    {
      "cell_type": "code",
      "execution_count": 119,
      "id": "6d317fe3",
      "metadata": {},
      "outputs": [
        {
          "name": "stdout",
          "output_type": "stream",
          "text": [
            "Cosine similarity between the two documents is: 0.27602481188272304\n"
          ]
        }
      ],
      "source": [
        "from sklearn.feature_extraction.text import TfidfVectorizer\n",
        "from sklearn.metrics.pairwise import cosine_similarity\n",
        "\n",
        "# Let's assume you have two documents: doc1 and doc2\n",
        "doc1 = Seattle_text\n",
        "doc2 = text\n",
        "\n",
        "# Create the Document Term Matrix\n",
        "vectorizer = TfidfVectorizer(stop_words='english')\n",
        "doc_term_matrix = vectorizer.fit_transform([doc1, doc2])\n",
        "\n",
        "# Compute Cosine Similarity\n",
        "cosine_sim = cosine_similarity(doc_term_matrix[0:1], doc_term_matrix)\n",
        "\n",
        "print(f\"Cosine similarity between the two documents is: {cosine_sim[0][1]}\")\n"
      ]
    },
    {
      "cell_type": "markdown",
      "id": "b1f352b6",
      "metadata": {},
      "source": [
        "Comparing Seattle and Surat: \n",
        "1. Common Terms: Both Seattle and Surat have the following terms in their resilience metrics: 'affordable housing', 'economy', 'public health', and 'pollution'. However, the importance of these terms varies between the two cities. For example, 'affordable housing' has a higher score in Seattle than in Surat, indicating that it is a more prominent topic in Seattle's resilience strategy.\n",
        "\n",
        "2. Unique Terms: Some terms appear in one city's metrics but not in the other's. For instance, 'education', 'health services', 'workforce development', and 'youth opportunity programs' are present in Seattle's metrics but not in Surat's. On the other hand, 'water quality', 'social cohesion', 'waste management', 'law enforcement', 'integration', 'public participation', 'connectivity mobility', and 'environment ecosystem' are present in Surat's metrics but not in Seattle's.\n",
        "\n",
        "3. Term Importance: The TF-IDF scores indicate the relative importance of each term in the city's resilience strategy. In Seattle, 'education' has the highest score, suggesting it's a major focus of their strategy. In Surat, 'pollution' has the highest score, suggesting it's a major focus there.\n",
        "\n",
        "More analysis will be provided."
      ]
    },
    {
      "cell_type": "markdown",
      "id": "b9a3e973",
      "metadata": {},
      "source": []
    }
  ],
  "metadata": {
    "kernelspec": {
      "display_name": "base",
      "language": "python",
      "name": "python3"
    },
    "language_info": {
      "codemirror_mode": {
        "name": "ipython",
        "version": 3
      },
      "file_extension": ".py",
      "mimetype": "text/x-python",
      "name": "python",
      "nbconvert_exporter": "python",
      "pygments_lexer": "ipython3",
      "version": "3.9.12"
    },
    "noteable": {
      "last_delta_id": "a2274e1f-6674-4c67-8648-56b66d128a4a",
      "last_transaction_id": "16a2e03a-7158-4243-905b-50e6fe403ffb"
    },
    "noteable-chatgpt": {
      "create_notebook": {
        "openai_conversation_id": "50b9cf55-c1e5-520b-b90a-c0eabcf30a70",
        "openai_ephemeral_user_id": "feb79a7e-1940-5781-8095-6ef5d1b3facf"
      }
    },
    "nteract": {
      "version": "noteable@2.9.0"
    },
    "selected_hardware_size": "small"
  },
  "nbformat": 4,
  "nbformat_minor": 5
}
