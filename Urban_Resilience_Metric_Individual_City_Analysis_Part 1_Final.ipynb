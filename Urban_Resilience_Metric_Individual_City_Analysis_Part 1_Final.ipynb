{
 "cells": [
  {
   "cell_type": "markdown",
   "metadata": {},
   "source": [
    "#### Urban Resilience Metrics Identification - Part 1\n",
    "\n",
    "**Introduction**\n",
    "\n",
    "The Rockefeller Foundation have been advocates for urban resilience. In 2013, the foundation initiated the \"100 Resilient Cities (100RC)\" program, targeting cities worldwide to bolster resilience against diverse challenges, encompassing physical, social, and economic aspects. This initiative not only addresses immediate shocks like earthquakes and floods but also focuses on daily stresses that deteriorate a city's fabric.\n",
    "\n",
    "Our project's aim is to devise common resilience metrics. The methodology entails:\n",
    "1. Formulating a list of terms corresponding to categories from the City Resilience Index(https://www.cityresilienceindex.org/#/city-profiles) using HuggingFace Model, unigrams, and bigrams. The top 20 recurring terms are stored in Terms_Overview.xlsx.\n",
    "2. Leveraging 100RC_DataCollection.xlsx for city names and associated resilience report URLs. We then cross-match terms from Terms_Overview.xlsx for frequency using direct string matching and Spacy.\n",
    "3. Aggregating frequency data and designing a dashboard analogous to the City Resilience Index.\n",
    "\n",
    "**Notebook Overview**\n",
    "\n",
    "This two-part notebook series caters to different analytical levels.\n",
    "\n",
    "**Part 1**: This notebook facilitates a detailed analysis for individual cities. By accessing data from 100RC_Datacollection and Terms_Overview, users can:\n",
    "\n",
    "* Retrieve and save city resilience reports in PDF and text formats.\n",
    "* Match term frequencies within city reports.\n",
    "* Identify sentences containing specific terms.\n",
    "* Summarize reports using BERT and visualize term frequencies with histograms.\n",
    "\n",
    "**Part 2**: The subsequent notebook amplifies the scope of analysis. It emphasizes:\n",
    "* Bulk document storage.\n",
    "* Cross-referencing term frequencies across cities.\n",
    "* Implementing TF-IDF score computations.\n",
    "\n",
    "**Using Part 1**  \n",
    "\n",
    "This notebook integrates libraries like PyPDF2 for PDF manipulation, NLTK for text preprocessing, Spacy and Direct String Matching for term frequency analysis, BERT for summarization, and Matplotlib for visualization. On execution, users will be prompted to input a city name, post which the notebook sequentially activates the aforementioned functions.\n",
    "\n",
    "By _Josh Jeon_"
   ]
  },
  {
   "cell_type": "code",
   "execution_count": 2,
   "metadata": {},
   "outputs": [
    {
     "name": "stderr",
     "output_type": "stream",
     "text": [
      "WARNING: Ignoring invalid distribution -illow (c:\\users\\lifet\\anaconda3\\lib\\site-packages)\n",
      "WARNING: Ignoring invalid distribution -illow (c:\\users\\lifet\\anaconda3\\lib\\site-packages)\n",
      "WARNING: Ignoring invalid distribution -illow (c:\\users\\lifet\\anaconda3\\lib\\site-packages)\n",
      "WARNING: Ignoring invalid distribution -illow (c:\\users\\lifet\\anaconda3\\lib\\site-packages)\n",
      "WARNING: Ignoring invalid distribution -illow (c:\\users\\lifet\\anaconda3\\lib\\site-packages)\n",
      "WARNING: Ignoring invalid distribution -illow (c:\\users\\lifet\\anaconda3\\lib\\site-packages)\n"
     ]
    },
    {
     "name": "stdout",
     "output_type": "stream",
     "text": [
      "Collecting en-core-web-sm==3.6.0"
     ]
    },
    {
     "name": "stderr",
     "output_type": "stream",
     "text": [
      "WARNING: Ignoring invalid distribution -illow (c:\\users\\lifet\\anaconda3\\lib\\site-packages)\n",
      "WARNING: Ignoring invalid distribution -illow (c:\\users\\lifet\\anaconda3\\lib\\site-packages)\n",
      "WARNING: Ignoring invalid distribution -illow (c:\\users\\lifet\\anaconda3\\lib\\site-packages)\n",
      "WARNING: Ignoring invalid distribution -illow (c:\\users\\lifet\\anaconda3\\lib\\site-packages)\n",
      "WARNING: Ignoring invalid distribution -illow (c:\\users\\lifet\\anaconda3\\lib\\site-packages)\n",
      "WARNING: Ignoring invalid distribution -illow (c:\\users\\lifet\\anaconda3\\lib\\site-packages)\n"
     ]
    },
    {
     "name": "stdout",
     "output_type": "stream",
     "text": [
      "\n",
      "  Downloading https://github.com/explosion/spacy-models/releases/download/en_core_web_sm-3.6.0/en_core_web_sm-3.6.0-py3-none-any.whl (12.8 MB)\n",
      "Requirement already satisfied: spacy<3.7.0,>=3.6.0 in c:\\users\\lifet\\anaconda3\\lib\\site-packages (from en-core-web-sm==3.6.0) (3.6.0)\n",
      "Requirement already satisfied: pydantic!=1.8,!=1.8.1,<1.11.0,>=1.7.4 in c:\\users\\lifet\\anaconda3\\lib\\site-packages (from spacy<3.7.0,>=3.6.0->en-core-web-sm==3.6.0) (1.10.11)\n",
      "Requirement already satisfied: pathy>=0.10.0 in c:\\users\\lifet\\anaconda3\\lib\\site-packages (from spacy<3.7.0,>=3.6.0->en-core-web-sm==3.6.0) (0.10.2)\n",
      "Requirement already satisfied: cymem<2.1.0,>=2.0.2 in c:\\users\\lifet\\anaconda3\\lib\\site-packages (from spacy<3.7.0,>=3.6.0->en-core-web-sm==3.6.0) (2.0.7)\n",
      "Requirement already satisfied: tqdm<5.0.0,>=4.38.0 in c:\\users\\lifet\\anaconda3\\lib\\site-packages (from spacy<3.7.0,>=3.6.0->en-core-web-sm==3.6.0) (4.64.0)\n",
      "Requirement already satisfied: jinja2 in c:\\users\\lifet\\anaconda3\\lib\\site-packages (from spacy<3.7.0,>=3.6.0->en-core-web-sm==3.6.0) (2.11.3)\n",
      "Requirement already satisfied: srsly<3.0.0,>=2.4.3 in c:\\users\\lifet\\anaconda3\\lib\\site-packages (from spacy<3.7.0,>=3.6.0->en-core-web-sm==3.6.0) (2.4.6)\n",
      "Requirement already satisfied: catalogue<2.1.0,>=2.0.6 in c:\\users\\lifet\\anaconda3\\lib\\site-packages (from spacy<3.7.0,>=3.6.0->en-core-web-sm==3.6.0) (2.0.8)\n",
      "Requirement already satisfied: smart-open<7.0.0,>=5.2.1 in c:\\users\\lifet\\anaconda3\\lib\\site-packages (from spacy<3.7.0,>=3.6.0->en-core-web-sm==3.6.0) (6.3.0)\n",
      "Requirement already satisfied: murmurhash<1.1.0,>=0.28.0 in c:\\users\\lifet\\anaconda3\\lib\\site-packages (from spacy<3.7.0,>=3.6.0->en-core-web-sm==3.6.0) (1.0.9)\n",
      "Requirement already satisfied: spacy-legacy<3.1.0,>=3.0.11 in c:\\users\\lifet\\anaconda3\\lib\\site-packages (from spacy<3.7.0,>=3.6.0->en-core-web-sm==3.6.0) (3.0.12)\n",
      "Requirement already satisfied: preshed<3.1.0,>=3.0.2 in c:\\users\\lifet\\anaconda3\\lib\\site-packages (from spacy<3.7.0,>=3.6.0->en-core-web-sm==3.6.0) (3.0.8)\n",
      "Requirement already satisfied: spacy-loggers<2.0.0,>=1.0.0 in c:\\users\\lifet\\anaconda3\\lib\\site-packages (from spacy<3.7.0,>=3.6.0->en-core-web-sm==3.6.0) (1.0.4)\n",
      "Requirement already satisfied: numpy>=1.15.0 in c:\\users\\lifet\\anaconda3\\lib\\site-packages (from spacy<3.7.0,>=3.6.0->en-core-web-sm==3.6.0) (1.22.4)\n",
      "Requirement already satisfied: requests<3.0.0,>=2.13.0 in c:\\users\\lifet\\anaconda3\\lib\\site-packages (from spacy<3.7.0,>=3.6.0->en-core-web-sm==3.6.0) (2.27.1)\n",
      "Requirement already satisfied: packaging>=20.0 in c:\\users\\lifet\\anaconda3\\lib\\site-packages (from spacy<3.7.0,>=3.6.0->en-core-web-sm==3.6.0) (21.3)\n",
      "Requirement already satisfied: thinc<8.2.0,>=8.1.8 in c:\\users\\lifet\\anaconda3\\lib\\site-packages (from spacy<3.7.0,>=3.6.0->en-core-web-sm==3.6.0) (8.1.10)\n",
      "Requirement already satisfied: typer<0.10.0,>=0.3.0 in c:\\users\\lifet\\anaconda3\\lib\\site-packages (from spacy<3.7.0,>=3.6.0->en-core-web-sm==3.6.0) (0.9.0)\n",
      "Requirement already satisfied: langcodes<4.0.0,>=3.2.0 in c:\\users\\lifet\\anaconda3\\lib\\site-packages (from spacy<3.7.0,>=3.6.0->en-core-web-sm==3.6.0) (3.3.0)\n",
      "Requirement already satisfied: wasabi<1.2.0,>=0.9.1 in c:\\users\\lifet\\anaconda3\\lib\\site-packages (from spacy<3.7.0,>=3.6.0->en-core-web-sm==3.6.0) (1.1.2)\n",
      "Requirement already satisfied: setuptools in c:\\users\\lifet\\anaconda3\\lib\\site-packages (from spacy<3.7.0,>=3.6.0->en-core-web-sm==3.6.0) (61.2.0)\n",
      "Requirement already satisfied: pyparsing!=3.0.5,>=2.0.2 in c:\\users\\lifet\\anaconda3\\lib\\site-packages (from packaging>=20.0->spacy<3.7.0,>=3.6.0->en-core-web-sm==3.6.0) (3.0.4)\n",
      "Requirement already satisfied: typing-extensions>=4.2.0 in c:\\users\\lifet\\anaconda3\\lib\\site-packages (from pydantic!=1.8,!=1.8.1,<1.11.0,>=1.7.4->spacy<3.7.0,>=3.6.0->en-core-web-sm==3.6.0) (4.7.1)\n",
      "Requirement already satisfied: urllib3<1.27,>=1.21.1 in c:\\users\\lifet\\anaconda3\\lib\\site-packages (from requests<3.0.0,>=2.13.0->spacy<3.7.0,>=3.6.0->en-core-web-sm==3.6.0) (1.26.9)\n",
      "Requirement already satisfied: certifi>=2017.4.17 in c:\\users\\lifet\\anaconda3\\lib\\site-packages (from requests<3.0.0,>=2.13.0->spacy<3.7.0,>=3.6.0->en-core-web-sm==3.6.0) (2021.10.8)\n",
      "Requirement already satisfied: charset-normalizer~=2.0.0 in c:\\users\\lifet\\anaconda3\\lib\\site-packages (from requests<3.0.0,>=2.13.0->spacy<3.7.0,>=3.6.0->en-core-web-sm==3.6.0) (2.0.4)\n",
      "Requirement already satisfied: idna<4,>=2.5 in c:\\users\\lifet\\anaconda3\\lib\\site-packages (from requests<3.0.0,>=2.13.0->spacy<3.7.0,>=3.6.0->en-core-web-sm==3.6.0) (3.3)\n",
      "Requirement already satisfied: confection<1.0.0,>=0.0.1 in c:\\users\\lifet\\anaconda3\\lib\\site-packages (from thinc<8.2.0,>=8.1.8->spacy<3.7.0,>=3.6.0->en-core-web-sm==3.6.0) (0.1.0)\n",
      "Requirement already satisfied: blis<0.8.0,>=0.7.8 in c:\\users\\lifet\\anaconda3\\lib\\site-packages (from thinc<8.2.0,>=8.1.8->spacy<3.7.0,>=3.6.0->en-core-web-sm==3.6.0) (0.7.9)\n",
      "Requirement already satisfied: colorama in c:\\users\\lifet\\anaconda3\\lib\\site-packages (from tqdm<5.0.0,>=4.38.0->spacy<3.7.0,>=3.6.0->en-core-web-sm==3.6.0) (0.4.6)\n",
      "Requirement already satisfied: click<9.0.0,>=7.1.1 in c:\\users\\lifet\\anaconda3\\lib\\site-packages (from typer<0.10.0,>=0.3.0->spacy<3.7.0,>=3.6.0->en-core-web-sm==3.6.0) (8.0.4)\n",
      "Requirement already satisfied: MarkupSafe>=0.23 in c:\\users\\lifet\\anaconda3\\lib\\site-packages (from jinja2->spacy<3.7.0,>=3.6.0->en-core-web-sm==3.6.0) (2.0.1)\n",
      "\u001b[38;5;2m✔ Download and installation successful\u001b[0m\n",
      "You can now load the package via spacy.load('en_core_web_sm')\n"
     ]
    }
   ],
   "source": [
    "#Library Install\n",
    "!pip install -q PyPDF2 requests nltk spacy textblob gensim matplotlib seaborn wordcloud geopandas bert-extractive-summarizer\n",
    "!python -m spacy download en_core_web_sm"
   ]
  },
  {
   "cell_type": "code",
   "execution_count": 3,
   "metadata": {},
   "outputs": [],
   "source": [
    "#Library Load\n",
    "import pandas as pd # Pandas library for data manipulation\n",
    "import spacy # Spacy library for advanced Natural Language Processing\n",
    "import nltk # NLTK library for natural language processing\n",
    "import requests #Requests for making HTTP requests\n",
    "from PyPDF2 import PdfReader #PdfReader from PyPDF2 for reading PDF files\n",
    "from summarizer import Summarizer #BERT - Summarizer for text summarization\n",
    "from nltk.tokenize import word_tokenize, sent_tokenize #NLTK for tokenizing text into words and sentences\n",
    "from nltk.corpus import stopwords #Stopwords dataset from NLTK to remove common words\n",
    "from nltk.stem import WordNetLemmatizer # Word lemmatization\n",
    "import string #String module for common string operations\n",
    "import matplotlib.pyplot as plt #Matplotlib for plotting and visualization\n",
    "\n"
   ]
  },
  {
   "cell_type": "code",
   "execution_count": 4,
   "metadata": {},
   "outputs": [],
   "source": [
    "#DATA LOAD\n",
    "#Load the resilience report (Contain City / URL)\n",
    "Resilience_Collection = pd.read_excel('100RC_DataCollection.xlsx')\n",
    "\n",
    "#Load a list of terms to check\n",
    "terms_df = pd.read_excel('Terms_Overview.xlsx') \n",
    "\n",
    "all_terms = terms_df.values.flatten() #One Dimension\n",
    "all_terms = [term.strip().lower() for term in all_terms \n",
    "             if isinstance(term, str)] #Excludes strings that are empty after stripping\n"
   ]
  },
  {
   "cell_type": "code",
   "execution_count": 20,
   "metadata": {},
   "outputs": [
    {
     "name": "stdout",
     "output_type": "stream",
     "text": [
      "The URL for Surat is: https://resilientcitiesnetwork.org/downloadable_resources/Network/Surat-Resilience-Strategy-English.pdf\n"
     ]
    }
   ],
   "source": [
    "# Map city names to their URLs\n",
    "city_url_map = dict(zip(Resilience_Collection['City'], Resilience_Collection['Source']))\n",
    "\n",
    "# Asks the user to input city name one wish to analyze\n",
    "city_name = input(\"Enter the city name: \")\n",
    "\n",
    "# Check if the entered city name exists in the dictionary\n",
    "if city_name in city_url_map:\n",
    "    pdf_url = city_url_map[city_name]\n",
    "    print(f\"The URL for {city_name} is: {pdf_url}\")\n",
    "else:\n",
    "    print(f\"No URL found for {city_name}. Please check the city name and try again.\")"
   ]
  },
  {
   "cell_type": "code",
   "execution_count": 10,
   "metadata": {},
   "outputs": [],
   "source": [
    "# PDF EXTRACTION\n",
    "\n",
    "def download_and_extract_text(url, output_pdf_file, output_text_file):\n",
    "    \n",
    "    \"\"\"\n",
    "    Download PDF from URL, extract text, and save the text to a file.\n",
    "\n",
    "    Parameters:\n",
    "    - url: The URL of the PDF.\n",
    "    - output_pdf_file: The name of the file to save the downloaded PDF.\n",
    "    - output_text_file: The name of the file to save the extracted text.\n",
    "    \n",
    "    Returns:\n",
    "    - str: The extracted text from the PDF.\n",
    "    \"\"\"\n",
    "    \n",
    "    #Writing to text\n",
    "    response = requests.get(url)\n",
    "    with open(output_pdf_file, 'wb') as f:\n",
    "        f.write(response.content)\n",
    "        \n",
    "    with open(output_pdf_file, 'rb') as f:\n",
    "        reader = PdfReader(f)\n",
    "        text = ''.join(page.extract_text() for page in reader.pages)\n",
    "        \n",
    "    with open(output_text_file, 'w', encoding='utf-8') as f:\n",
    "        f.write(text)\n",
    "    return text\n",
    "\n",
    "# Directories to save the PDF and text reports. (Saving to current directory)\n",
    "pdf_directory = \"./\"\n",
    "text_directory = \"./\"\n",
    "\n",
    "#Naming files for reports\n",
    "url = pdf_url\n",
    "pdf_file = f'{city_name}-Resilience-Strategy-English.pdf'\n",
    "text_file = f'{city_name}-Resilience-Strategy-English.txt'\n",
    "city_name_text = download_and_extract_text(url, pdf_file, text_file).lower()\n"
   ]
  },
  {
   "cell_type": "code",
   "execution_count": 11,
   "metadata": {},
   "outputs": [
    {
     "name": "stderr",
     "output_type": "stream",
     "text": [
      "[nltk_data] Downloading package punkt to\n",
      "[nltk_data]     C:\\Users\\lifet\\AppData\\Roaming\\nltk_data...\n",
      "[nltk_data]   Package punkt is already up-to-date!\n",
      "[nltk_data] Downloading package stopwords to\n",
      "[nltk_data]     C:\\Users\\lifet\\AppData\\Roaming\\nltk_data...\n",
      "[nltk_data]   Package stopwords is already up-to-date!\n",
      "[nltk_data] Downloading package wordnet to\n",
      "[nltk_data]     C:\\Users\\lifet\\AppData\\Roaming\\nltk_data...\n",
      "[nltk_data]   Package wordnet is already up-to-date!\n",
      "[nltk_data] Downloading package omw-1.4 to\n",
      "[nltk_data]     C:\\Users\\lifet\\AppData\\Roaming\\nltk_data...\n",
      "[nltk_data]   Package omw-1.4 is already up-to-date!\n"
     ]
    }
   ],
   "source": [
    "#PREPROCESSING\n",
    "#Download NLTK Data\n",
    "nltk.download('punkt')\n",
    "nltk.download('stopwords')\n",
    "nltk.download('wordnet')\n",
    "nltk.download('omw-1.4')\n",
    "\n",
    "#Preprocessing the text\n",
    "def preprocess_text(text):\n",
    "    \n",
    "    \"\"\"\n",
    "    Preprocess the given text by tokenizing, removing stopwords, and lemmatizing.\n",
    "\n",
    "    Parameters:\n",
    "    - text: The text to preprocess.\n",
    "    \n",
    "    Returns:\n",
    "    - list: The preprocessed sentences.\n",
    "    \"\"\"\n",
    "    \n",
    "    lemmatizer = WordNetLemmatizer() #Word Lemmatization\n",
    "    \n",
    "    stop_words = set(stopwords.words('english')) #Stop Words\n",
    "    \n",
    "    sentences = sent_tokenize(text) #Tokenizing text into sentences\n",
    "    \n",
    "    preprocessed_sentences = [] #Dictionary to hold preprocessed sentence\n",
    "    \n",
    "    #Looping through each sentence\n",
    "    for sentence in sentences:\n",
    "        #Removing punctutation and converting to lowercase\n",
    "        sentence = sentence.translate(str.maketrans('', '', string.punctuation)).lower()\n",
    "        #Tokenizing the sentence into words\n",
    "        words = word_tokenize(sentence)\n",
    "        #Lemmaitizing words and removing stopwords\n",
    "        words = [lemmatizer.lemmatize(word) for word in words if word not in stop_words]\n",
    "        #Append the processed sentence to the list\n",
    "        preprocessed_sentences.append(' '.join(words))\n",
    "  \n",
    "    return preprocessed_sentences\n",
    "\n",
    "preprocessed_sentences_city_name = preprocess_text(city_name_text)\n",
    "preprocessed_text_city_name = ' '.join(preprocessed_sentences_city_name)\n"
   ]
  },
  {
   "cell_type": "markdown",
   "metadata": {},
   "source": [
    "Below, I've conducted frequency count of terms using both direct_string_matching and SpaCy Model. I've used the two as the work around they do frequency count differs. While SpaCy model does yield better results due to the efficiency of the model, to compare for accuracy of results, I've yielded both method in this analysis. (Applies to Notebook Part 2 as well)"
   ]
  },
  {
   "cell_type": "code",
   "execution_count": 12,
   "metadata": {},
   "outputs": [],
   "source": [
    "#TERM EXTRACTION \n",
    "\n",
    "def direct_string_matching(terms, text):\n",
    "    \n",
    "    \"\"\"\n",
    "    Match terms in the text using direct string matching.\n",
    "\n",
    "    Parameters:\n",
    "    - terms: The terms to check.\n",
    "    - text: The text to check for terms.\n",
    "    \n",
    "    Returns:\n",
    "    - list: The terms and their frequencies in the text.\n",
    "    \"\"\"\n",
    "    \n",
    "    words = text.split()\n",
    "    term_frequencies = {term: words.count(term) for term in terms}\n",
    "    return sorted(term_frequencies.items(), key=lambda x: x[1], reverse=True)\n",
    "\n",
    "def spacy_matching(terms, text):\n",
    "    \n",
    "    \"\"\"\n",
    "    Match terms in the given text using SpaCy.\n",
    "\n",
    "    Parameters:\n",
    "    - terms: The terms to check.\n",
    "    - text: The text to check for terms.\n",
    "    \n",
    "    Returns:\n",
    "    - list: The terms and their frequencies in the text.\n",
    "    \"\"\"\n",
    "    \n",
    "    #En_core_web_sm model load (Spacy Model)\n",
    "    nlp = spacy.load('en_core_web_sm')\n",
    "    #Process the text using Spacy\n",
    "    doc = nlp(text)\n",
    "    #Tokenize the processed text\n",
    "    tokens = [token.text for token in doc]\n",
    "    #Calculate the frequency of each term in the text\n",
    "    term_frequencies = {term: tokens.count(term) for term in terms}\n",
    "    #Sort terms based on their frequency in desc and return\n",
    "    return sorted(term_frequencies.items(), key=lambda x: x[1], reverse=True)\n",
    "\n",
    "def extract_term_frequencies(terms, preprocessed_sentences):\n",
    "    \n",
    "    \"\"\"\n",
    "    Extract term frequencies and the sentences in which they appear.\n",
    "\n",
    "    Parameters:\n",
    "    - terms: The terms to check.\n",
    "    - preprocessed_sentences: The preprocessed sentences.\n",
    "    \n",
    "    Returns:\n",
    "    - tuple: The term frequencies and the sentences in which they appear.\n",
    "    \"\"\"\n",
    "    \n",
    "    term_frequencies = {}\n",
    "    \n",
    "    term_phrases = {}\n",
    "    #Loop through each termand calculate its frequency in the preprocessed sentences\n",
    "    for term in terms:\n",
    "        term_frequencies[term] = sum(sentence.count(term) for sentence in preprocessed_sentences)\n",
    "        #Identify the sentences where the term appears\n",
    "        term_phrases[term] = [sentence for sentence in preprocessed_sentences if term in sentence]\n",
    "    return term_frequencies, term_phrases\n",
    "\n",
    "term_frequencies, term_phrases = extract_term_frequencies(all_terms, preprocessed_sentences_city_name)\n"
   ]
  },
  {
   "cell_type": "code",
   "execution_count": 13,
   "metadata": {},
   "outputs": [
    {
     "name": "stdout",
     "output_type": "stream",
     "text": [
      "Files saved as: D:/Graduate School/Experience Expo/Code/City Frequency/Surat_frequencies.csv, D:/Graduate School/Experience Expo/Code/City Frequency Phrases/Surat_term_phrases.csv\n"
     ]
    }
   ],
   "source": [
    "# SAVING RESULTS \n",
    "def save_terms_to_csv(term_frequencies, term_phrases, freq_filename=\"term_frequencies.csv\", phrases_filename=\"term_phrases.csv\"):\n",
    "    \n",
    "    \"\"\"\n",
    "    Save term frequencies and the sentences in which they appear to CSV files.\n",
    "\n",
    "    Parameters:\n",
    "    - term_frequencies: The term frequencies.\n",
    "    - term_phrases: The sentences in which the terms appear.\n",
    "    - freq_filename: The filename for the term frequencies. Defaults to \"term_frequencies.csv\".\n",
    "    - phrases_filename: The filename for the term phrases. Defaults to \"term_phrases.csv\".\n",
    "    \n",
    "    Returns:\n",
    "    - tuple: The paths of the saved CSV files for term frequencies and term phrases.\n",
    "    \"\"\"\n",
    "    \n",
    "    freq_path = \"D:/Graduate School/Experience Expo/Code/City Frequency/\"\n",
    "    phrases_path = \"D:/Graduate School/Experience Expo/Code/City Frequency Phrases/\"\n",
    "    \n",
    "    freq_file_path = freq_path + freq_filename\n",
    "    phrases_file_path = phrases_path + phrases_filename\n",
    "\n",
    "    #Convert term frequencies to a DF and save to csv \n",
    "    df_term_frequencies = pd.DataFrame({\n",
    "        'Term': list(term_frequencies.keys()),\n",
    "        'Frequency': list(term_frequencies.values())\n",
    "    })\n",
    "\n",
    "    #Convert to DF - Save to csv\n",
    "    df_term_phrases = pd.DataFrame({\n",
    "        'Term': list(term_frequencies.keys()),\n",
    "        'Sentences': [\", \".join(term_phrases[term]) for term in term_frequencies.keys()]\n",
    "    })\n",
    "\n",
    "    df_term_frequencies.to_csv(freq_file_path, index=False)\n",
    "    df_term_phrases.to_csv(phrases_file_path, index=False)\n",
    "\n",
    "    return freq_file_path, phrases_file_path\n",
    "\n",
    "freq_filename = f\"{city_name}_frequencies.csv\"\n",
    "phrases_filename = f\"{city_name}_term_phrases.csv\"\n",
    "saved_freq_file, saved_phrases_file = save_terms_to_csv(term_frequencies, term_phrases, freq_filename, phrases_filename)\n",
    "\n",
    "print(f\"Files saved as: {saved_freq_file}, {saved_phrases_file}\")\n"
   ]
  },
  {
   "cell_type": "code",
   "execution_count": 14,
   "metadata": {},
   "outputs": [
    {
     "name": "stdout",
     "output_type": "stream",
     "text": [
      "Summary of Report:\n",
      "a\n",
      "photograph credit: tejas ghariwala, suratsurat resilience strategysteered by:\n",
      "supported by: \n",
      "strategic partner: \n",
      "taru leading edge pvt. s. aparna, ias, former municipal commissioner, smcmr. p. m. shah, vice-president, sgcci & trustee, scctdr. at present, the main source of water for the entire city is the river tapi. surat faces risks of both sea level rise and flooding. the objective of \n",
      "the resilience strategy is to provide a roadmap for the chief \n",
      "resilience officer (cro) to build resilience in the city. surat is considered a model city for good governance as well \n",
      "as for providing effective service delivery in comparison with many other indian cities. the development of \n",
      "detailed project reports (dprs) can be the next logical step \n",
      "for the city government to access financial resources apart \n",
      "from the state or national government. an increase in \n",
      "the number of nonlicensed drivers has also been observed in \n",
      "the city. this research will help the surat city police department in identifying hotspots and also address the problem at its roots by linking it with their ongoing awareness initiatives.brief\n",
      "the city will conduct detailed road safety audits at critical junctions for on-site assessment of the shortcomings in road \n",
      "and traffic control systems that lead to unsafe travel. a mobile \n",
      "application will be developed for the city, which will assist the \n",
      "rto, surat, and can be an inspiration for other cities in gujarat.27  gujarat state road policy – 2015 (special emphasis is given \n",
      "to safer road infrastructure in policy statement iv)\n",
      "  surat smart city projectalignmentgoal 1.4non-motorized transport strategy\n",
      "ensure safer road \n",
      "infrastructure objectiveto develop a nonmotorized transport \n",
      "(nmt) strategy for surat. slum dwellers and citizens falling \n",
      "in the economically weaker sections (ews) of society are \n",
      "eligible to avail ready-built houses on plots of land away from \n",
      "the existing slums, in a hygienic environment. lack of involvement of private sector for affordable \n",
      "housing:  there are no formal policies to involve the private \n",
      "sector for affordable housing. surat, also \n",
      "called mini india, celebrates many different festivals which \n",
      "also cause river pollution and increase biological oxygen demand (bod) levels in the river. in addition, groundwater pollution has been recorded in many areas of the city. the research will provide insights into the quality of groundwater for different land uses, such as residential and industrial areas. as a second entry point, an inventory can be developed for large institutional, commercial, and residential buildings, where rainwater harvesting units can be installed.brief\n",
      "the city will develop water reuse guidelines titled ‘closing the water loop guidelines’, which will be first of its kind in the country. the initiative can have: \n",
      "  location survey and mapping in the city for french wells; and \n",
      "  certain areas can be especially mandated to install the french drain technology for rainwater harvesting and groundwater recharge. in-\n",
      "migration from other states is encouraged to meet the demands of labor in these industries.if looked through the resilience lens, the economy of surat is heavily dependent on two dominant sectors, diamond \n",
      "and textile. of india \n",
      "  the national skill development mission, 2015 of govt. climate change, increasing population, high in-migration, change in land use, and inaccessible services such as water \n",
      "supply, sewerage, and solid waste create an environment that \n",
      "could lead to an increase in vector-borne diseases. various health \n",
      "sector studies have highlighted the near-extinction of filarial \n",
      "diseases due to the extension of underground sewerage \n",
      "across the city, which shows that the efforts of the ulb have \n",
      "worked. surat climate change trust\n",
      "  surat municipal institute of medical education and researchinitiative 7.1.1 \n",
      "owners\n",
      "  health department, surat municipal corporation\n",
      "  urban health and climate resilience center\n",
      "supportersgoal \n",
      "status -\n",
      "city linkages rio de janeiro, rotterdam, new york\n",
      "- strategy linkagesbrief\n",
      "surat has an urban health and climate resilience center (uhcrc), which has been participating actively in urban health issues and research. 84\n",
      "cars parked on a flyover during 2006 flood \n",
      "photograph credit: taru, india85glossary:\n",
      "chief resilience officer —the driver and principal owner/\n",
      "author of the city’s resilience strategy. http:/ /moud.gov.in\n",
      "urban development and urban housing department.\n"
     ]
    }
   ],
   "source": [
    "# REPORT SUMMARIZATION ---\n",
    "# Summarize the resilience report using BERT\n",
    "model = Summarizer()\n",
    "summary = model(city_name_text, num_sentences=25) \n",
    "print(\"Summary of Report:\")\n",
    "print(summary)"
   ]
  },
  {
   "cell_type": "code",
   "execution_count": 15,
   "metadata": {},
   "outputs": [
    {
     "name": "stdout",
     "output_type": "stream",
     "text": [
      "\n",
      "Direct String Matching Results: [('city', 515), ('water', 197), ('development', 156), ('strategy', 144), ('housing', 83), ('awareness', 74), ('policy', 73), ('health', 73), ('community', 61), ('management', 59), ('technology', 56), ('transport', 53), ('government', 50), ('affordable', 46), ('plan', 38), ('support', 37), ('education', 33), ('environment', 32), ('infrastructure', 30), ('risk', 29), ('network', 29), ('police', 28), ('monitoring', 28), ('planning', 26), ('energy', 26), ('enforcement', 26), ('business', 25), ('capacity', 23), ('ecosystem', 22), ('heritage', 21)]\n",
      "\n",
      "SpaCy Matching Results: [('city', 515), ('water', 198), ('development', 156), ('strategy', 144), ('housing', 84), ('awareness', 74), ('health', 74), ('policy', 73), ('community', 61), ('management', 59), ('technology', 56), ('transport', 54), ('government', 50), ('affordable', 46), ('plan', 38), ('support', 37), ('education', 33), ('environment', 32), ('infrastructure', 30), ('risk', 30), ('network', 29), ('police', 28), ('monitoring', 28), ('planning', 26), ('energy', 26), ('enforcement', 26), ('business', 25), ('capacity', 23), ('ecosystem', 22), ('heritage', 21)]\n"
     ]
    }
   ],
   "source": [
    "#DISPLAY RESULTS ---\n",
    "direct_results = direct_string_matching(all_terms, preprocessed_text_city_name)\n",
    "spacy_results = spacy_matching(all_terms, preprocessed_text_city_name)\n",
    "print(\"\\nDirect String Matching Results:\", direct_results[:30])\n",
    "print(\"\\nSpaCy Matching Results:\", spacy_results[:30])\n"
   ]
  },
  {
   "cell_type": "code",
   "execution_count": 18,
   "metadata": {},
   "outputs": [
    {
     "data": {
      "image/png": "[encoded data removed]",
      "text/plain": [
       "<Figure size 1080x720 with 1 Axes>"
      ]
     },
     "metadata": {
      "needs_background": "light"
     },
     "output_type": "display_data"
    }
   ],
   "source": [
    "#PLOTTING \n",
    "df_spacy = pd.DataFrame(spacy_results[:30], columns=['Term', 'Spacy_Frequency'])\n",
    "df_direct = pd.DataFrame(direct_results[:30], columns=['Term', 'Direct_Frequency'])\n",
    "\n",
    "plt.figure(figsize=(15,10))\n",
    "plt.barh(df_spacy['Term'], df_spacy['Spacy_Frequency'], color='skyblue', label='Spacy Matching')\n",
    "plt.barh(df_direct['Term'], -df_direct['Direct_Frequency'], color='lightgreen', label='Direct Matching')\n",
    "plt.xlabel('Frequency (Direct Matching: Right, SpaCy Matching: Left)')\n",
    "plt.ylabel('Terms')\n",
    "plt.title(f'{city_name} Frequency of Top 30 Terms')\n",
    "plt.gca().invert_yaxis()\n",
    "plt.legend()\n",
    "plt.tight_layout()\n",
    "plt.show()\n"
   ]
  }
 ],
 "metadata": {
  "kernelspec": {
   "display_name": "base",
   "language": "python",
   "name": "python3"
  },
  "language_info": {
   "codemirror_mode": {
    "name": "ipython",
    "version": 3
   },
   "file_extension": ".py",
   "mimetype": "text/x-python",
   "name": "python",
   "nbconvert_exporter": "python",
   "pygments_lexer": "ipython3",
   "version": "3.9.12"
  }
 },
 "nbformat": 4,
 "nbformat_minor": 2
}
